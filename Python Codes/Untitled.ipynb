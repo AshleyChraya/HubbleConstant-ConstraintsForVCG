{
 "cells": [
  {
   "cell_type": "code",
   "execution_count": 1,
   "id": "8011e2a4",
   "metadata": {},
   "outputs": [],
   "source": [
    "import numpy as np\n",
    "from scipy.integrate import simps\n",
    "import matplotlib.pyplot as plt\n",
    "import pandas as pd\n",
    "from math import sqrt,pow,log\n",
    "import matplotlib.cm as cm\n",
    "from scipy.integrate import quad\n",
    "import h5py\n",
    "from cobaya.run import run\n",
    "from getdist.mcsamples import MCSamplesFromCobaya\n",
    "import getdist.plots as gdplt"
   ]
  },
  {
   "cell_type": "code",
   "execution_count": 7,
   "id": "5e5ca329",
   "metadata": {},
   "outputs": [],
   "source": [
    "data_PS = pd.read_excel (r'/root/Github_Repos/HubbleConstant-ConstraintsForVCG/pantheon_final.xlsx') \n",
    "z=data_PS.zcmb\n",
    "amg=data_PS.mb\n",
    "errdm=data_PS.dmb\n",
    "label = {\"Z_SN\":z,\"App_Mag\":amg,\"Error_App_Mag\":errdm}\n",
    "data_SN=pd.DataFrame(label)\n",
    "mu=amg + 19.35\n",
    "label = {\"Z_SN\":z,\"App_Mag\":amg,\"Error_DM_SN\":errdm,\"DMdata_SN\": mu}\n",
    "data_SN=pd.DataFrame(label)\n",
    "cov_mat = pd.read_csv(r'/root/Github_Repos/HubbleConstant-ConstraintsForVCG/sys_full_long.txt') "
   ]
  },
  {
   "cell_type": "code",
   "execution_count": 12,
   "id": "497b0de9",
   "metadata": {},
   "outputs": [
    {
     "data": {
      "text/plain": [
       "0       0.12605\n",
       "1       0.11765\n",
       "2       0.20560\n",
       "3       0.17385\n",
       "4       0.17435\n",
       "         ...   \n",
       "1043    0.23500\n",
       "1044    0.16580\n",
       "1045    0.22910\n",
       "1046    0.19870\n",
       "1047    0.26405\n",
       "Name: dmb, Length: 1048, dtype: float64"
      ]
     },
     "execution_count": 12,
     "metadata": {},
     "output_type": "execute_result"
    }
   ],
   "source": [
    "errdm"
   ]
  },
  {
   "cell_type": "code",
   "execution_count": 11,
   "id": "4beac1bb",
   "metadata": {},
   "outputs": [
    {
     "data": {
      "text/plain": [
       "array([[1.790450e-04, 1.467450e-04, 9.407000e-05, ..., 1.656300e-04,\n",
       "        1.056050e-04, 1.491900e-04],\n",
       "       [1.467450e-04, 1.230900e-04, 8.454000e-05, ..., 1.242750e-04,\n",
       "        6.889000e-05, 1.093550e-04],\n",
       "       [9.407000e-05, 8.454000e-05, 1.727700e-04, ..., 1.624950e-04,\n",
       "        2.159600e-04, 1.854500e-04],\n",
       "       ...,\n",
       "       [1.656300e-04, 1.242750e-04, 1.624950e-04, ..., 7.435250e-04,\n",
       "        1.152200e-03, 8.832000e-04],\n",
       "       [1.056050e-04, 6.889000e-05, 2.159600e-04, ..., 1.152200e-03,\n",
       "        2.608055e-03, 1.651565e-03],\n",
       "       [1.491900e-04, 1.093550e-04, 1.854500e-04, ..., 8.832000e-04,\n",
       "        1.651565e-03, 1.152220e-03]])"
      ]
     },
     "execution_count": 11,
     "metadata": {},
     "output_type": "execute_result"
    }
   ],
   "source": [
    "cov_mat=pd.DataFrame(cov_mat).to_numpy()\n",
    "cov_mat=cov_mat.reshape(1048,1048)\n",
    "cov_mat"
   ]
  },
  {
   "cell_type": "code",
   "execution_count": 10,
   "id": "a2fb40fb",
   "metadata": {},
   "outputs": [
    {
     "data": {
      "text/plain": [
       "0      -0.112669\n",
       "1      -0.104269\n",
       "2      -0.192219\n",
       "3      -0.160469\n",
       "4      -0.160969\n",
       "          ...   \n",
       "1043   -0.221619\n",
       "1044   -0.152419\n",
       "1045   -0.215719\n",
       "1046   -0.185319\n",
       "1047   -0.250669\n",
       "Name: dmb, Length: 1048, dtype: float64"
      ]
     },
     "execution_count": 10,
     "metadata": {},
     "output_type": "execute_result"
    }
   ],
   "source": [
    "diag=np.diag(cov_mat)\n",
    "std=np.sqrt(diag)\n",
    "diff=std-errdm\n",
    "diff"
   ]
  }
 ],
 "metadata": {
  "kernelspec": {
   "display_name": "Python 3",
   "language": "python",
   "name": "python3"
  },
  "language_info": {
   "codemirror_mode": {
    "name": "ipython",
    "version": 3
   },
   "file_extension": ".py",
   "mimetype": "text/x-python",
   "name": "python",
   "nbconvert_exporter": "python",
   "pygments_lexer": "ipython3",
   "version": "3.8.8"
  }
 },
 "nbformat": 4,
 "nbformat_minor": 5
}
