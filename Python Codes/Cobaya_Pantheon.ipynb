{
 "cells": [
  {
   "cell_type": "code",
   "execution_count": 1,
   "id": "6296b6ea",
   "metadata": {},
   "outputs": [],
   "source": [
    "import numpy as np\n",
    "from scipy.integrate import simps\n",
    "import matplotlib.pyplot as plt\n",
    "import pandas as pd\n",
    "from math import sqrt,pow,log\n",
    "import matplotlib.cm as cm\n",
    "from scipy.integrate import quad\n",
    "from cobaya.run import run\n",
    "from getdist.mcsamples import MCSamplesFromCobaya\n",
    "import getdist.plots as gdplt\n",
    "plt.rcParams[\"figure.figsize\"] = (20,18)\n",
    "plt.style.use('/media/ash/1tb/github/HubbleConstant-ConstraintsForVCG/standard.mplstyle')"
   ]
  },
  {
   "cell_type": "code",
   "execution_count": 2,
   "id": "b4c0780b",
   "metadata": {
    "scrolled": false
   },
   "outputs": [],
   "source": [
    "# Covariance data\n",
    "InverseCmat = pd.read_csv(\n",
    "    \"/media/ash/1tb/github/HubbleConstant-ConstraintsForVCG/AVGCfrom1to1048ORD.txt\", sep=\"\\t\", header=None\n",
    ")  # import the matrices from SNe (Cmat) where C is the complete Coariance matrix from Dstat and Csys already inverted\n",
    "# Cov = Dstat + Csyst;  statistical matrix Dstat only has the diagonal components, it includes the distance error of each SNIa\n",
    "# Csys is the systematic covariance for each SNIa\n",
    "Cinverse = np.array(InverseCmat)\n",
    "Cmat = np.linalg.inv(Cinverse)  # Inverse of the inverse =  Cov\n",
    "Dstatinverse = np.diag(\n",
    "    Cinverse\n",
    ")  # extract only the diagonal statistical uncertainties for SNe = Dstat (Dstat, see Scolnic et al. 2018)\n",
    "Dstat = np.diag(Cmat) ** 1 / 2 # Diagonal elements\n",
    "\n",
    "# SNe data\n",
    "SNdata = pd.read_csv(\"/media/ash/1tb/github/HubbleConstant-ConstraintsForVCG/AVGdeltamulcfrom1to1048ORD.txt\", sep=\"\\t\")\n",
    "# Columns are muobs\tzHD\tzhel  mu-M  mu-M_err\n",
    "SNdata = SNdata.sort_values(by=[\"zHD\"])\n",
    "zSNe = SNdata[\"zHD\"].to_numpy()\n",
    "zhel = SNdata[\"zhel\"].to_numpy()    # zhel is the heliocentric redshift\n",
    "muobs = SNdata[\"muobs\"].to_numpy()  # The mu_observed of the SNe are already in Mpc\n"
   ]
  },
  {
   "cell_type": "code",
   "execution_count": 3,
   "id": "01a3f744",
   "metadata": {},
   "outputs": [
    {
     "data": {
      "text/html": [
       "<div>\n",
       "<style scoped>\n",
       "    .dataframe tbody tr th:only-of-type {\n",
       "        vertical-align: middle;\n",
       "    }\n",
       "\n",
       "    .dataframe tbody tr th {\n",
       "        vertical-align: top;\n",
       "    }\n",
       "\n",
       "    .dataframe thead th {\n",
       "        text-align: right;\n",
       "    }\n",
       "</style>\n",
       "<table border=\"1\" class=\"dataframe\">\n",
       "  <thead>\n",
       "    <tr style=\"text-align: right;\">\n",
       "      <th></th>\n",
       "      <th>muobs</th>\n",
       "      <th>zHD</th>\n",
       "      <th>zhel</th>\n",
       "      <th>mu-M</th>\n",
       "      <th>mu-M_err</th>\n",
       "    </tr>\n",
       "  </thead>\n",
       "  <tbody>\n",
       "    <tr>\n",
       "      <th>0</th>\n",
       "      <td>33.25745</td>\n",
       "      <td>0.01012</td>\n",
       "      <td>0.009351</td>\n",
       "      <td>13.90745</td>\n",
       "      <td>0.19825</td>\n",
       "    </tr>\n",
       "    <tr>\n",
       "      <th>1</th>\n",
       "      <td>33.39960</td>\n",
       "      <td>0.01038</td>\n",
       "      <td>0.011640</td>\n",
       "      <td>14.04960</td>\n",
       "      <td>0.20480</td>\n",
       "    </tr>\n",
       "    <tr>\n",
       "      <th>2</th>\n",
       "      <td>33.27480</td>\n",
       "      <td>0.01043</td>\n",
       "      <td>0.008969</td>\n",
       "      <td>13.92480</td>\n",
       "      <td>0.20035</td>\n",
       "    </tr>\n",
       "    <tr>\n",
       "      <th>3</th>\n",
       "      <td>33.35860</td>\n",
       "      <td>0.01082</td>\n",
       "      <td>0.010767</td>\n",
       "      <td>14.00860</td>\n",
       "      <td>0.18445</td>\n",
       "    </tr>\n",
       "    <tr>\n",
       "      <th>4</th>\n",
       "      <td>33.32910</td>\n",
       "      <td>0.01209</td>\n",
       "      <td>0.013201</td>\n",
       "      <td>13.97910</td>\n",
       "      <td>0.19140</td>\n",
       "    </tr>\n",
       "    <tr>\n",
       "      <th>...</th>\n",
       "      <td>...</td>\n",
       "      <td>...</td>\n",
       "      <td>...</td>\n",
       "      <td>...</td>\n",
       "      <td>...</td>\n",
       "    </tr>\n",
       "    <tr>\n",
       "      <th>1043</th>\n",
       "      <td>45.35705</td>\n",
       "      <td>1.55000</td>\n",
       "      <td>1.550387</td>\n",
       "      <td>26.00705</td>\n",
       "      <td>0.18565</td>\n",
       "    </tr>\n",
       "    <tr>\n",
       "      <th>1044</th>\n",
       "      <td>45.40920</td>\n",
       "      <td>1.70000</td>\n",
       "      <td>1.701108</td>\n",
       "      <td>26.05920</td>\n",
       "      <td>0.28320</td>\n",
       "    </tr>\n",
       "    <tr>\n",
       "      <th>1045</th>\n",
       "      <td>45.55110</td>\n",
       "      <td>1.80000</td>\n",
       "      <td>1.799601</td>\n",
       "      <td>26.20110</td>\n",
       "      <td>0.18795</td>\n",
       "    </tr>\n",
       "    <tr>\n",
       "      <th>1046</th>\n",
       "      <td>45.51090</td>\n",
       "      <td>1.91400</td>\n",
       "      <td>1.914829</td>\n",
       "      <td>26.16090</td>\n",
       "      <td>0.25590</td>\n",
       "    </tr>\n",
       "    <tr>\n",
       "      <th>1047</th>\n",
       "      <td>46.22700</td>\n",
       "      <td>2.26000</td>\n",
       "      <td>2.259601</td>\n",
       "      <td>26.87700</td>\n",
       "      <td>0.25480</td>\n",
       "    </tr>\n",
       "  </tbody>\n",
       "</table>\n",
       "<p>1048 rows × 5 columns</p>\n",
       "</div>"
      ],
      "text/plain": [
       "         muobs      zHD      zhel      mu-M  mu-M_err\n",
       "0     33.25745  0.01012  0.009351  13.90745   0.19825\n",
       "1     33.39960  0.01038  0.011640  14.04960   0.20480\n",
       "2     33.27480  0.01043  0.008969  13.92480   0.20035\n",
       "3     33.35860  0.01082  0.010767  14.00860   0.18445\n",
       "4     33.32910  0.01209  0.013201  13.97910   0.19140\n",
       "...        ...      ...       ...       ...       ...\n",
       "1043  45.35705  1.55000  1.550387  26.00705   0.18565\n",
       "1044  45.40920  1.70000  1.701108  26.05920   0.28320\n",
       "1045  45.55110  1.80000  1.799601  26.20110   0.18795\n",
       "1046  45.51090  1.91400  1.914829  26.16090   0.25590\n",
       "1047  46.22700  2.26000  2.259601  26.87700   0.25480\n",
       "\n",
       "[1048 rows x 5 columns]"
      ]
     },
     "execution_count": 3,
     "metadata": {},
     "output_type": "execute_result"
    }
   ],
   "source": [
    "SNdata"
   ]
  },
  {
   "cell_type": "code",
   "execution_count": 4,
   "id": "c4f8346e",
   "metadata": {},
   "outputs": [],
   "source": [
    "#omega_m, n , H0 SN\n",
    "#number of samples \n",
    "sampl= 10000\n",
    "#number of pars\n",
    "par = 2\n",
    "\n",
    "#assume the parameters have a gaussian distribution\n",
    "sigma_omega= 0.01\n",
    "sigma_n= 0.01\n",
    "omega_b0 = 0.0000245\n",
    "omega_r0=0.02\n",
    "\n",
    "#Defining part which comes inside integeration of distance Luminosity\n",
    "\n",
    "# inv_cov_mat= np.linalg.inv(cov_mat)\n",
    "dmthSN= np.zeros(len(zSNe))\n",
    "dlthSN = np.zeros(len(zSNe))\n",
    "dldataSN=np.zeros(len(zSNe))\n",
    "error= np.zeros(len(zSNe))\n",
    "dlerror= np.zeros(len(zSNe))\n",
    "ckm = 299792.458\n",
    "H0 = 70\n",
    "a=b=c=d=e=0\n",
    "# DL theoretical from VCG model\n",
    "coefSNe=(ckm/H0)*(1+zhel)\n",
    "#Function to calculate the value of mu_theory\n",
    "\n",
    "\n",
    "def integrand(x, omega_m, n):\n",
    "    return 1/(pow((1+x),2)*(omega_r0+(omega_b0/(1+x))+\n",
    "    ((1-omega_b0-omega_r0)*((omega_m*(1+x)**6)+(1-omega_m)*(1+x)**n)**(0.5)/(1+x)**(4)))**(0.5))\n",
    "\n",
    "\n",
    "\n",
    "\n",
    "# We now defile a likelihood function as given in the notes\n",
    "# If the value comes out to be less than zero, set it to a very very small likelyhood\n",
    "#Temporary variable to store mu(observation)- mu(theory)\n",
    "dmu= np.empty(len(zSNe))\n",
    "def lnlps(omega_m, n, H0):\n",
    "    d_parSNe= np.array([])\n",
    "    for i in zSNe:\n",
    "        I = quad(integrand, 0, i, args=(omega_m, n))\n",
    "        d_parSNe = np.append(d_parSNe, I[0])  \n",
    "\n",
    "    dSNe = np.array(coefSNe*d_parSNe)\n",
    "    logdl_thSNe = np.log10(dSNe)\n",
    "    muthSNe = 5 * logdl_thSNe + 25    \n",
    "    Deltamu = muobs - muthSNe  \n",
    "    chi2_SNe = np.matmul(Deltamu,np.matmul(Cinverse,Deltamu)) \n",
    "\n",
    "    if(omega_m<=0.0 or H0<0):\n",
    "        loglikely=-1.e100\n",
    "    else:               \n",
    "        loglikely= -0.5*chi2_SNe\n",
    "\n",
    "    return loglikely"
   ]
  },
  {
   "cell_type": "markdown",
   "id": "24c6a9ed",
   "metadata": {},
   "source": [
    "# Optimum chi square = No of datasets / (degree of freedom -1)"
   ]
  },
  {
   "cell_type": "code",
   "execution_count": 5,
   "id": "af274beb",
   "metadata": {},
   "outputs": [
    {
     "data": {
      "text/plain": [
       "-554.4380258604134"
      ]
     },
     "execution_count": 5,
     "metadata": {},
     "output_type": "execute_result"
    }
   ],
   "source": [
    "lnlps(0.1059505,   0.42248186, 70.45307383)"
   ]
  },
  {
   "cell_type": "code",
   "execution_count": 6,
   "id": "1e567076",
   "metadata": {
    "scrolled": true
   },
   "outputs": [
    {
     "name": "stdout",
     "output_type": "stream",
     "text": [
      "[agostini] Initialized external likelihood.\n",
      "[mcmc] Getting initial point... (this may take a few seconds)\n",
      "[model] Measuring speeds... (this may take a few seconds)\n"
     ]
    },
    {
     "name": "stderr",
     "output_type": "stream",
     "text": [
      "/tmp/ipykernel_15918/1636569919.py:31: RuntimeWarning: invalid value encountered in double_scalars\n",
      "  ((1-omega_b0-omega_r0)*((omega_m*(1+x)**6)+(1-omega_m)*(1+x)**n)**(0.5)/(1+x)**(4)))**(0.5))\n",
      "/tmp/ipykernel_15918/1636569919.py:43: IntegrationWarning: The occurrence of roundoff error is detected, which prevents \n",
      "  the requested tolerance from being achieved.  The error may be \n",
      "  underestimated.\n",
      "  I = quad(integrand, 0, i, args=(omega_m, n))\n"
     ]
    },
    {
     "name": "stdout",
     "output_type": "stream",
     "text": [
      "[model] Setting measured speeds (per sec): {agostini: 5.94}\n",
      "[mcmc] Covariance matrix not present. We will start learning the covariance of the proposal earlier: R-1 = 30 (would be 2 if all params loaded).\n",
      "[mcmc] Initial point: omega_m:0.1, n:1.2, H0:70\n",
      "[mcmc] Sampling! (NB: no accepted step will be saved until 300 burn-in samples have been obtained)\n",
      "[mcmc] Progress @ 2023-05-24 07:24:04 : 1 steps taken -- still burning in, 300 accepted steps left.\n",
      "[mcmc] Finished burn-in phase: discarded 300 accepted steps.\n",
      "[mcmc] Progress @ 2023-05-24 07:25:04 : 376 steps taken, and 48 accepted.\n",
      "[mcmc] Learn + convergence test @ 120 samples accepted.\n",
      "[mcmc]  - Acceptance rate: 0.941\n",
      "[mcmc]  - Convergence of means: R-1 = 11.655015 after 96 accepted steps\n",
      "[mcmc]  - Updated covariance matrix of proposal pdf.\n",
      "[mcmc] Learn + convergence test @ 240 samples accepted.\n",
      "[mcmc]  - Acceptance rate: 0.842\n",
      "[mcmc]  - Convergence of means: R-1 = 9.207855 after 192 accepted steps\n",
      "[mcmc]  - Updated covariance matrix of proposal pdf.\n",
      "[mcmc] Progress @ 2023-05-24 07:26:04 : 739 steps taken, and 317 accepted.\n",
      "[mcmc] Learn + convergence test @ 360 samples accepted.\n",
      "[mcmc]  - Acceptance rate: 0.697\n",
      "[mcmc]  - Convergence of means: R-1 = 2.795529 after 288 accepted steps\n",
      "[mcmc]  - Updated covariance matrix of proposal pdf.\n",
      "[mcmc] Learn + convergence test @ 480 samples accepted.\n",
      "[mcmc]  - Acceptance rate: 0.628\n",
      "[mcmc]  - Convergence of means: R-1 = 0.831616 after 384 accepted steps\n",
      "[mcmc]  - Updated covariance matrix of proposal pdf.\n",
      "[mcmc] Progress @ 2023-05-24 07:27:05 : 1104 steps taken, and 512 accepted.\n",
      "[mcmc] Learn + convergence test @ 600 samples accepted.\n",
      "[mcmc]  - Acceptance rate: 0.583\n",
      "[mcmc]  - Convergence of means: R-1 = 0.623670 after 480 accepted steps\n",
      "[mcmc]  - Updated covariance matrix of proposal pdf.\n"
     ]
    },
    {
     "name": "stderr",
     "output_type": "stream",
     "text": [
      "/tmp/ipykernel_15918/1636569919.py:31: RuntimeWarning: invalid value encountered in double_scalars\n",
      "  ((1-omega_b0-omega_r0)*((omega_m*(1+x)**6)+(1-omega_m)*(1+x)**n)**(0.5)/(1+x)**(4)))**(0.5))\n",
      "/tmp/ipykernel_15918/1636569919.py:43: IntegrationWarning: The occurrence of roundoff error is detected, which prevents \n",
      "  the requested tolerance from being achieved.  The error may be \n",
      "  underestimated.\n",
      "  I = quad(integrand, 0, i, args=(omega_m, n))\n"
     ]
    },
    {
     "name": "stdout",
     "output_type": "stream",
     "text": [
      "[mcmc] Progress @ 2023-05-24 07:28:05 : 1476 steps taken, and 693 accepted.\n",
      "[mcmc] Learn + convergence test @ 720 samples accepted.\n",
      "[mcmc]  - Acceptance rate: 0.543\n",
      "[mcmc]  - Convergence of means: R-1 = 0.203576 after 576 accepted steps\n",
      "[mcmc]  - Updated covariance matrix of proposal pdf.\n"
     ]
    },
    {
     "name": "stderr",
     "output_type": "stream",
     "text": [
      "/tmp/ipykernel_15918/1636569919.py:31: RuntimeWarning: invalid value encountered in double_scalars\n",
      "  ((1-omega_b0-omega_r0)*((omega_m*(1+x)**6)+(1-omega_m)*(1+x)**n)**(0.5)/(1+x)**(4)))**(0.5))\n",
      "/tmp/ipykernel_15918/1636569919.py:43: IntegrationWarning: The occurrence of roundoff error is detected, which prevents \n",
      "  the requested tolerance from being achieved.  The error may be \n",
      "  underestimated.\n",
      "  I = quad(integrand, 0, i, args=(omega_m, n))\n"
     ]
    },
    {
     "name": "stdout",
     "output_type": "stream",
     "text": [
      "[mcmc] Progress @ 2023-05-24 07:29:05 : 1838 steps taken, and 818 accepted.\n",
      "[mcmc] Learn + convergence test @ 840 samples accepted.\n",
      "[mcmc]  - Acceptance rate: 0.479\n",
      "[mcmc]  - Convergence of means: R-1 = 0.364247 after 672 accepted steps\n",
      "[mcmc]  - Updated covariance matrix of proposal pdf.\n"
     ]
    },
    {
     "name": "stderr",
     "output_type": "stream",
     "text": [
      "/tmp/ipykernel_15918/1636569919.py:31: RuntimeWarning: invalid value encountered in double_scalars\n",
      "  ((1-omega_b0-omega_r0)*((omega_m*(1+x)**6)+(1-omega_m)*(1+x)**n)**(0.5)/(1+x)**(4)))**(0.5))\n",
      "/tmp/ipykernel_15918/1636569919.py:43: IntegrationWarning: The occurrence of roundoff error is detected, which prevents \n",
      "  the requested tolerance from being achieved.  The error may be \n",
      "  underestimated.\n",
      "  I = quad(integrand, 0, i, args=(omega_m, n))\n"
     ]
    },
    {
     "name": "stdout",
     "output_type": "stream",
     "text": [
      "[mcmc] Progress @ 2023-05-24 07:30:05 : 2188 steps taken, and 933 accepted.\n",
      "[mcmc] Learn + convergence test @ 960 samples accepted.\n",
      "[mcmc]  - Acceptance rate: 0.444\n",
      "[mcmc]  - Convergence of means: R-1 = 0.252930 after 768 accepted steps\n",
      "[mcmc]  - Updated covariance matrix of proposal pdf.\n"
     ]
    },
    {
     "name": "stderr",
     "output_type": "stream",
     "text": [
      "/tmp/ipykernel_15918/1636569919.py:31: RuntimeWarning: invalid value encountered in double_scalars\n",
      "  ((1-omega_b0-omega_r0)*((omega_m*(1+x)**6)+(1-omega_m)*(1+x)**n)**(0.5)/(1+x)**(4)))**(0.5))\n",
      "/tmp/ipykernel_15918/1636569919.py:43: IntegrationWarning: The occurrence of roundoff error is detected, which prevents \n",
      "  the requested tolerance from being achieved.  The error may be \n",
      "  underestimated.\n",
      "  I = quad(integrand, 0, i, args=(omega_m, n))\n"
     ]
    },
    {
     "name": "stdout",
     "output_type": "stream",
     "text": [
      "[mcmc] Progress @ 2023-05-24 07:31:05 : 2550 steps taken, and 1049 accepted.\n",
      "[mcmc] Learn + convergence test @ 1080 samples accepted.\n",
      "[mcmc]  - Acceptance rate: 0.416\n",
      "[mcmc]  - Convergence of means: R-1 = 0.142289 after 864 accepted steps\n",
      "[mcmc]  - Updated covariance matrix of proposal pdf.\n"
     ]
    },
    {
     "name": "stderr",
     "output_type": "stream",
     "text": [
      "/tmp/ipykernel_15918/1636569919.py:31: RuntimeWarning: invalid value encountered in double_scalars\n",
      "  ((1-omega_b0-omega_r0)*((omega_m*(1+x)**6)+(1-omega_m)*(1+x)**n)**(0.5)/(1+x)**(4)))**(0.5))\n",
      "/tmp/ipykernel_15918/1636569919.py:43: IntegrationWarning: The occurrence of roundoff error is detected, which prevents \n",
      "  the requested tolerance from being achieved.  The error may be \n",
      "  underestimated.\n",
      "  I = quad(integrand, 0, i, args=(omega_m, n))\n"
     ]
    },
    {
     "name": "stdout",
     "output_type": "stream",
     "text": [
      "[mcmc] Progress @ 2023-05-24 07:32:05 : 2920 steps taken, and 1144 accepted.\n",
      "[mcmc] Learn + convergence test @ 1200 samples accepted.\n",
      "[mcmc]  - Acceptance rate: 0.392\n",
      "[mcmc]  - Convergence of means: R-1 = 0.174606 after 960 accepted steps\n",
      "[mcmc]  - Updated covariance matrix of proposal pdf.\n"
     ]
    },
    {
     "name": "stderr",
     "output_type": "stream",
     "text": [
      "/tmp/ipykernel_15918/1636569919.py:31: RuntimeWarning: invalid value encountered in double_scalars\n",
      "  ((1-omega_b0-omega_r0)*((omega_m*(1+x)**6)+(1-omega_m)*(1+x)**n)**(0.5)/(1+x)**(4)))**(0.5))\n",
      "/tmp/ipykernel_15918/1636569919.py:43: IntegrationWarning: The occurrence of roundoff error is detected, which prevents \n",
      "  the requested tolerance from being achieved.  The error may be \n",
      "  underestimated.\n",
      "  I = quad(integrand, 0, i, args=(omega_m, n))\n"
     ]
    },
    {
     "name": "stdout",
     "output_type": "stream",
     "text": [
      "[mcmc] Progress @ 2023-05-24 07:33:05 : 3278 steps taken, and 1260 accepted.\n",
      "[mcmc] Learn + convergence test @ 1320 samples accepted.\n",
      "[mcmc]  - Acceptance rate: 0.374\n",
      "[mcmc]  - Convergence of means: R-1 = 0.143758 after 1056 accepted steps\n",
      "[mcmc]  - Updated covariance matrix of proposal pdf.\n"
     ]
    },
    {
     "name": "stderr",
     "output_type": "stream",
     "text": [
      "/tmp/ipykernel_15918/1636569919.py:31: RuntimeWarning: invalid value encountered in double_scalars\n",
      "  ((1-omega_b0-omega_r0)*((omega_m*(1+x)**6)+(1-omega_m)*(1+x)**n)**(0.5)/(1+x)**(4)))**(0.5))\n",
      "/tmp/ipykernel_15918/1636569919.py:43: IntegrationWarning: The occurrence of roundoff error is detected, which prevents \n",
      "  the requested tolerance from being achieved.  The error may be \n",
      "  underestimated.\n",
      "  I = quad(integrand, 0, i, args=(omega_m, n))\n"
     ]
    },
    {
     "name": "stdout",
     "output_type": "stream",
     "text": [
      "[mcmc] Progress @ 2023-05-24 07:34:05 : 3638 steps taken, and 1385 accepted.\n",
      "[mcmc] Learn + convergence test @ 1440 samples accepted.\n",
      "[mcmc]  - Acceptance rate: 0.371\n",
      "[mcmc]  - Convergence of means: R-1 = 0.047676 after 1152 accepted steps\n",
      "[mcmc]  - Updated covariance matrix of proposal pdf.\n"
     ]
    },
    {
     "name": "stderr",
     "output_type": "stream",
     "text": [
      "/tmp/ipykernel_15918/1636569919.py:31: RuntimeWarning: invalid value encountered in double_scalars\n",
      "  ((1-omega_b0-omega_r0)*((omega_m*(1+x)**6)+(1-omega_m)*(1+x)**n)**(0.5)/(1+x)**(4)))**(0.5))\n",
      "/tmp/ipykernel_15918/1636569919.py:43: IntegrationWarning: The occurrence of roundoff error is detected, which prevents \n",
      "  the requested tolerance from being achieved.  The error may be \n",
      "  underestimated.\n",
      "  I = quad(integrand, 0, i, args=(omega_m, n))\n"
     ]
    },
    {
     "name": "stdout",
     "output_type": "stream",
     "text": [
      "[mcmc] Progress @ 2023-05-24 07:35:05 : 4008 steps taken, and 1500 accepted.\n",
      "[mcmc] Learn + convergence test @ 1560 samples accepted.\n",
      "[mcmc]  - Acceptance rate: 0.360\n",
      "[mcmc]  - Convergence of means: R-1 = 0.037693 after 1248 accepted steps\n",
      "[mcmc]  - Convergence of bounds: R-1 = 0.235703 after 1560 accepted steps\n",
      "[mcmc]  - Updated covariance matrix of proposal pdf.\n"
     ]
    },
    {
     "name": "stderr",
     "output_type": "stream",
     "text": [
      "/tmp/ipykernel_15918/1636569919.py:31: RuntimeWarning: invalid value encountered in double_scalars\n",
      "  ((1-omega_b0-omega_r0)*((omega_m*(1+x)**6)+(1-omega_m)*(1+x)**n)**(0.5)/(1+x)**(4)))**(0.5))\n",
      "/tmp/ipykernel_15918/1636569919.py:43: IntegrationWarning: The occurrence of roundoff error is detected, which prevents \n",
      "  the requested tolerance from being achieved.  The error may be \n",
      "  underestimated.\n",
      "  I = quad(integrand, 0, i, args=(omega_m, n))\n"
     ]
    },
    {
     "name": "stdout",
     "output_type": "stream",
     "text": [
      "[mcmc] Progress @ 2023-05-24 07:36:05 : 4362 steps taken, and 1602 accepted.\n",
      "[mcmc] Learn + convergence test @ 1680 samples accepted.\n",
      "[mcmc]  - Acceptance rate: 0.350\n",
      "[mcmc]  - Convergence of means: R-1 = 0.029115 after 1344 accepted steps\n",
      "[mcmc]  - Convergence of bounds: R-1 = 0.214498 after 1680 accepted steps\n",
      "[mcmc]  - Updated covariance matrix of proposal pdf.\n"
     ]
    },
    {
     "name": "stderr",
     "output_type": "stream",
     "text": [
      "/tmp/ipykernel_15918/1636569919.py:31: RuntimeWarning: invalid value encountered in double_scalars\n",
      "  ((1-omega_b0-omega_r0)*((omega_m*(1+x)**6)+(1-omega_m)*(1+x)**n)**(0.5)/(1+x)**(4)))**(0.5))\n",
      "/tmp/ipykernel_15918/1636569919.py:43: IntegrationWarning: The occurrence of roundoff error is detected, which prevents \n",
      "  the requested tolerance from being achieved.  The error may be \n",
      "  underestimated.\n",
      "  I = quad(integrand, 0, i, args=(omega_m, n))\n"
     ]
    },
    {
     "name": "stdout",
     "output_type": "stream",
     "text": [
      "[mcmc] Progress @ 2023-05-24 07:37:05 : 4730 steps taken, and 1717 accepted.\n",
      "[mcmc] Learn + convergence test @ 1800 samples accepted.\n",
      "[mcmc]  - Acceptance rate: 0.341\n",
      "[mcmc]  - Convergence of means: R-1 = 0.027033 after 1440 accepted steps\n",
      "[mcmc]  - Convergence of bounds: R-1 = 0.197793 after 1800 accepted steps\n",
      "[mcmc]  - Updated covariance matrix of proposal pdf.\n"
     ]
    },
    {
     "name": "stderr",
     "output_type": "stream",
     "text": [
      "/tmp/ipykernel_15918/1636569919.py:31: RuntimeWarning: invalid value encountered in double_scalars\n",
      "  ((1-omega_b0-omega_r0)*((omega_m*(1+x)**6)+(1-omega_m)*(1+x)**n)**(0.5)/(1+x)**(4)))**(0.5))\n",
      "/tmp/ipykernel_15918/1636569919.py:43: IntegrationWarning: The occurrence of roundoff error is detected, which prevents \n",
      "  the requested tolerance from being achieved.  The error may be \n",
      "  underestimated.\n",
      "  I = quad(integrand, 0, i, args=(omega_m, n))\n"
     ]
    },
    {
     "name": "stdout",
     "output_type": "stream",
     "text": [
      "[mcmc] Progress @ 2023-05-24 07:38:06 : 5099 steps taken, and 1814 accepted.\n",
      "[mcmc] Learn + convergence test @ 1920 samples accepted.\n",
      "[mcmc]  - Acceptance rate: 0.337\n",
      "[mcmc]  - Convergence of means: R-1 = 0.022480 after 1536 accepted steps\n",
      "[mcmc]  - Convergence of bounds: R-1 = 0.197345 after 1920 accepted steps\n",
      "[mcmc]  - Updated covariance matrix of proposal pdf.\n",
      "[mcmc] Progress @ 2023-05-24 07:39:06 : 5463 steps taken, and 1936 accepted.\n"
     ]
    },
    {
     "name": "stderr",
     "output_type": "stream",
     "text": [
      "/tmp/ipykernel_15918/1636569919.py:31: RuntimeWarning: invalid value encountered in double_scalars\n",
      "  ((1-omega_b0-omega_r0)*((omega_m*(1+x)**6)+(1-omega_m)*(1+x)**n)**(0.5)/(1+x)**(4)))**(0.5))\n",
      "/tmp/ipykernel_15918/1636569919.py:43: IntegrationWarning: The occurrence of roundoff error is detected, which prevents \n",
      "  the requested tolerance from being achieved.  The error may be \n",
      "  underestimated.\n",
      "  I = quad(integrand, 0, i, args=(omega_m, n))\n"
     ]
    },
    {
     "name": "stdout",
     "output_type": "stream",
     "text": [
      "[mcmc] Progress @ 2023-05-24 07:40:06 : 5812 steps taken, and 2034 accepted.\n",
      "[mcmc] Learn + convergence test @ 2040 samples accepted.\n",
      "[mcmc]  - Acceptance rate: 0.332\n",
      "[mcmc]  - Convergence of means: R-1 = 0.019870 after 1632 accepted steps\n",
      "[mcmc]  - Convergence of bounds: R-1 = 0.195756 after 2040 accepted steps\n",
      "[mcmc]  - Updated covariance matrix of proposal pdf.\n"
     ]
    },
    {
     "name": "stderr",
     "output_type": "stream",
     "text": [
      "/tmp/ipykernel_15918/1636569919.py:31: RuntimeWarning: invalid value encountered in double_scalars\n",
      "  ((1-omega_b0-omega_r0)*((omega_m*(1+x)**6)+(1-omega_m)*(1+x)**n)**(0.5)/(1+x)**(4)))**(0.5))\n",
      "/tmp/ipykernel_15918/1636569919.py:43: IntegrationWarning: The occurrence of roundoff error is detected, which prevents \n",
      "  the requested tolerance from being achieved.  The error may be \n",
      "  underestimated.\n",
      "  I = quad(integrand, 0, i, args=(omega_m, n))\n"
     ]
    },
    {
     "name": "stdout",
     "output_type": "stream",
     "text": [
      "[mcmc] Progress @ 2023-05-24 07:41:06 : 6180 steps taken, and 2140 accepted.\n",
      "[mcmc] Learn + convergence test @ 2160 samples accepted.\n",
      "[mcmc]  - Acceptance rate: 0.325\n",
      "[mcmc]  - Convergence of means: R-1 = 0.011265 after 1728 accepted steps\n",
      "[mcmc]  - Convergence of bounds: R-1 = 0.143611 after 2160 accepted steps\n",
      "[mcmc]  - Updated covariance matrix of proposal pdf.\n"
     ]
    },
    {
     "name": "stderr",
     "output_type": "stream",
     "text": [
      "/tmp/ipykernel_15918/1636569919.py:31: RuntimeWarning: invalid value encountered in double_scalars\n",
      "  ((1-omega_b0-omega_r0)*((omega_m*(1+x)**6)+(1-omega_m)*(1+x)**n)**(0.5)/(1+x)**(4)))**(0.5))\n",
      "/tmp/ipykernel_15918/1636569919.py:43: IntegrationWarning: The occurrence of roundoff error is detected, which prevents \n",
      "  the requested tolerance from being achieved.  The error may be \n",
      "  underestimated.\n",
      "  I = quad(integrand, 0, i, args=(omega_m, n))\n"
     ]
    },
    {
     "name": "stdout",
     "output_type": "stream",
     "text": [
      "[mcmc] Progress @ 2023-05-24 07:42:06 : 6552 steps taken, and 2243 accepted.\n",
      "[mcmc] Learn + convergence test @ 2280 samples accepted.\n",
      "[mcmc]  - Acceptance rate: 0.320\n",
      "[mcmc]  - Convergence of means: R-1 = 0.009707 after 1824 accepted steps\n",
      "[mcmc]  - Convergence of bounds: R-1 = 0.098693 after 2280 accepted steps\n",
      "[mcmc] The run has converged!\n",
      "[mcmc] Sampling complete after 2280 accepted steps.\n"
     ]
    }
   ],
   "source": [
    "info_PS = {\"likelihood\": {\"agostini\": lnlps}} \n",
    "from collections import OrderedDict as odict\n",
    "info_PS[\"params\"] = odict([\n",
    "        [\"omega_m\", {\n",
    "            \"prior\": { \"dist\": \"norm\", \"loc\": 0.11, \"scale\": 5*0.03}, \"ref\": 0.1,\n",
    "            \"latex\": r\"B_s\",\"proposal\":0.001}],\n",
    "        [\"n\", {\n",
    "            \"prior\": {\"dist\": \"norm\", \"loc\": 1.25, \"scale\": 5*0.26}, \"ref\": 1.2,\n",
    "            \"latex\": r\"n\",\"proposal\":0.001}],\n",
    "       [\"H0\", {\n",
    "            \"prior\": {\"dist\": \"norm\", \"loc\":70.4, \"scale\": 5*0.13}, \"ref\": 70,\n",
    "            \"latex\": r\"H_0\",\"proposal\":0.001}] ])\n",
    "info_PS[\"sampler\"] = {\n",
    "    \"mcmc\": {\"burn_in\": 300, \"max_samples\": 10000000, \"Rminus1_stop\": 0.1,\n",
    "             \"Rminus1_cl_stop\": 0.1, \"learn_proposal\": True}}\n",
    "from cobaya.run import run\n",
    "updated_info_PS, sampler_PS = run(info_PS)\n"
   ]
  },
  {
   "cell_type": "code",
   "execution_count": 7,
   "id": "28891828",
   "metadata": {},
   "outputs": [
    {
     "name": "stdout",
     "output_type": "stream",
     "text": [
      "[root] *WARNING* outlier fraction 0.02506265664160401 \n",
      "Mean:\n",
      "[ 0.10365577  1.23060161 70.4192837 ]\n",
      "1 sigma:\n",
      "[0.03362244 0.3720172  0.63932545]\n",
      "Covariance matrix:\n",
      "[[ 0.00113047 -0.01211313  0.00078087]\n",
      " [-0.01211313  0.13839679 -0.00705549]\n",
      " [ 0.00078087 -0.00705549  0.40873704]]\n",
      "CPU times: user 3 µs, sys: 1e+03 ns, total: 4 µs\n",
      "Wall time: 7.63 µs\n"
     ]
    },
    {
     "data": {
      "image/png": "[encoded data removed]",
      "text/plain": [
       "<Figure size 500x500 with 6 Axes>"
      ]
     },
     "metadata": {},
     "output_type": "display_data"
    }
   ],
   "source": [
    "# from mpi4py import MPI\n",
    "\n",
    "# comm = MPI.COMM_WORLD\n",
    "# rank = comm.Get_rank()\n",
    "\n",
    "# from cobaya.run import run\n",
    "# from cobaya.log import LoggedError\n",
    "\n",
    "# success = False\n",
    "# try:\n",
    "#     updated_info_PS, products = run(info_PS)\n",
    "#     success = True\n",
    "# except LoggedError as err:\n",
    "#     pass\n",
    "\n",
    "# # Did it work? (e.g. did not get stuck)\n",
    "# success = all(comm.allgather(success))\n",
    "\n",
    "# if not success and rank == 0:\n",
    "#     print(\"Sampling failed!\")\n",
    "# all_chains = comm.gather(products.products()[\"sample\"], root=0)\n",
    "\n",
    "# # Pass all of them to GetDist in rank = 0\n",
    "\n",
    "# if rank == 0:\n",
    "#     from getdist.mcsamples import MCSamplesFromCobaya\n",
    "#     gdsamples_PS = MCSamplesFromCobaya(updated_info_PS, all_chains)\n",
    "\n",
    "# # Manually concatenate them in rank = 0 for some custom manipulation,\n",
    "# # skipping 1st 3rd of each chain\n",
    "\n",
    "# copy_and_skip_1st_3rd = lambda chain: chain[int(len(chain) / 3):]\n",
    "# if rank == 0:\n",
    "#     full_chain = copy_and_skip_1st_3rd(all_chains[0])\n",
    "#     for chain in all_chains[1:]:\n",
    "#         full_chain.append(copy_and_skip_1st_3rd(chain))\n",
    "#     # The combined chain is now `full_chain`\n",
    "from getdist.mcsamples import MCSamplesFromCobaya\n",
    "import getdist.plots as gdplt\n",
    "gdsamples_PS = MCSamplesFromCobaya(updated_info_PS, sampler_PS.products()[\"sample\"],ignore_rows=0.3)\n",
    "gdplot = gdplt.getSubplotPlotter(width_inch=5)\n",
    "gdplot.triangle_plot(gdsamples_PS, [\"omega_m\", \"n\", \"H0\"], filled=True)\n",
    "\n",
    "mean = gdsamples_PS.getMeans()[:3]\n",
    "sigma = np.sqrt(np.array(gdsamples_PS.getVars()[:3]))\n",
    "covmat = gdsamples_PS.getCovMat().matrix[:3, :3]\n",
    "# plt.savefig(\"figures/Pantheoncobaya.pdf\", format=\"pdf\", bbox_inches=\"tight\")\n",
    "print(\"Mean:\")\n",
    "print(mean)\n",
    "print(\"1 sigma:\")\n",
    "print(sigma)\n",
    "print(\"Covariance matrix:\")\n",
    "print(covmat)  \n",
    "\n",
    "%time"
   ]
  },
  {
   "cell_type": "markdown",
   "id": "ed830136",
   "metadata": {},
   "source": [
    "# Uniform priors"
   ]
  },
  {
   "cell_type": "code",
   "execution_count": 8,
   "id": "9fd10974",
   "metadata": {},
   "outputs": [
    {
     "name": "stdout",
     "output_type": "stream",
     "text": [
      "[agostini] Initialized external likelihood.\n",
      "[mcmc] Getting initial point... (this may take a few seconds)\n",
      "[model] Measuring speeds... (this may take a few seconds)\n",
      "[model] Setting measured speeds (per sec): {agostini: 8.01}\n",
      "[mcmc] Covariance matrix not present. We will start learning the covariance of the proposal earlier: R-1 = 30 (would be 2 if all params loaded).\n",
      "[mcmc] Initial point: omega_m:0.1, n:1.2, H0:70\n",
      "[mcmc] Sampling! (NB: no accepted step will be saved until 300 burn-in samples have been obtained)\n",
      "[mcmc] Progress @ 2022-08-03 09:57:18 : 1 steps taken -- still burning in, 300 accepted steps left.\n"
     ]
    }
   ],
   "source": [
    "info_PS = {\"likelihood\": {\"agostini\": lnlps}} \n",
    "from collections import OrderedDict as odict\n",
    "info_PS[\"params\"] = odict([\n",
    "        [\"omega_m\", {\n",
    "            \"prior\": { \"min\": 0, \"max\": 1}, \"ref\": 0.1,\n",
    "            \"latex\": r\"\\Omega_m\",\"proposal\":0.001}],\n",
    "        [\"n\", {\n",
    "            \"prior\": { \"min\": -4, \"max\": 4}, \"ref\": 1.2,\n",
    "            \"latex\": r\"n\",\"proposal\":0.001}],\n",
    "       [\"H0\", {\n",
    "            \"prior\": { \"min\": 60, \"max\": 80}, \"ref\": 70.0,\n",
    "            \"latex\": r\"h\",\"proposal\":0.001}] ])\n",
    "info_PS[\"sampler\"] = {\n",
    "    \"mcmc\": {\"burn_in\": 300, \"max_samples\": 10000000, \"Rminus1_stop\": 0.1,\n",
    "             \"Rminus1_cl_stop\": 0.2, \"learn_proposal\": True}}\n",
    "from cobaya.run import run\n",
    "updated_info_PS, sampler_PS = run(info_PS)"
   ]
  },
  {
   "cell_type": "code",
   "execution_count": 7,
   "id": "93c4084d",
   "metadata": {},
   "outputs": [
    {
     "name": "stdout",
     "output_type": "stream",
     "text": [
      "[root] *WARNING* outlier fraction 0.08333333333333333 \n",
      "Mean:\n",
      "[0.11030457 0.36836557 0.70528788]\n",
      "1 sigma:\n",
      "[0.02779563 0.24863139 0.00348089]\n",
      "Covariance matrix:\n",
      "[[ 7.72596898e-04 -6.56673604e-03  6.30801673e-05]\n",
      " [-6.56673604e-03  6.18175676e-02 -7.08158199e-04]\n",
      " [ 6.30801673e-05 -7.08158199e-04  1.21165740e-05]]\n"
     ]
    },
    {
     "data": {
      "image/png": "[encoded data removed]",
      "text/plain": [
       "<Figure size 360x360 with 6 Axes>"
      ]
     },
     "metadata": {
      "needs_background": "light"
     },
     "output_type": "display_data"
    }
   ],
   "source": [
    "from getdist.mcsamples import MCSamplesFromCobaya\n",
    "import getdist.plots as gdplt\n",
    "gdsamples_PS = MCSamplesFromCobaya(updated_info_PS, sampler_PS.products()[\"sample\"],ignore_rows=0.3)\n",
    "gdplot = gdplt.getSubplotPlotter(width_inch=5)\n",
    "gdplot.triangle_plot(gdsamples_PS, [\"omega_m\", \"n\", \"H0\"], filled=True)\n",
    "\n",
    "mean = gdsamples_PS.getMeans()[:3]\n",
    "sigma = np.sqrt(np.array(gdsamples_PS.getVars()[:3]))\n",
    "covmat = gdsamples_PS.getCovMat().matrix[:3, :3]\n",
    "# plt.savefig(\"figures/Pantheoncobaya.pdf\", format=\"pdf\", bbox_inches=\"tight\")\n",
    "print(\"Mean:\")\n",
    "print(mean)\n",
    "print(\"1 sigma:\")\n",
    "print(sigma)\n",
    "print(\"Covariance matrix:\")\n",
    "print(covmat)  "
   ]
  },
  {
   "cell_type": "markdown",
   "id": "deda94d5",
   "metadata": {},
   "source": [
    "# SCP Union 2.1"
   ]
  },
  {
   "cell_type": "code",
   "execution_count": 6,
   "id": "f5a09ac0",
   "metadata": {},
   "outputs": [],
   "source": [
    "# !wget http://supernova.lbl.gov/Union/figures/SCPUnion2.1_mu_vs_z.txt\n",
    "d = np.genfromtxt('SCPUnion2.1_mu_vs_z.txt')\n",
    "z1 = d.T[1]\n",
    "mu1 = d.T[2]\n",
    "errmu= d.T[3]\n",
    "dlabel = 'SCP_2.1'\n",
    "label = {\"Z_SN\":z1,\"DMdata_SN\":mu1,\"Error_DM_SN\":errmu}\n",
    "data_SN=pd.DataFrame(label)\n",
    "#print(data_SN)\n",
    "sort_data_SN=data_SN.sort_values(by=['Z_SN'],ignore_index=True)\n",
    "# !wget https://supernova.lbl.gov/Union/figures/SCPUnion2.1_covmat_sys.txt\n",
    "cov_mat = np.genfromtxt('SCPUnion2.1_covmat_sys.txt')\n",
    "z=sort_data_SN.Z_SN\n",
    "mu=sort_data_SN.DMdata_SN"
   ]
  },
  {
   "cell_type": "code",
   "execution_count": 7,
   "id": "70fcb5d6",
   "metadata": {},
   "outputs": [],
   "source": [
    "#omega_m, n , H0 SN\n",
    "#number of samples \n",
    "sampl= 10000\n",
    "#number of pars\n",
    "par = 2\n",
    "\n",
    "\n",
    "#assume the parameters have a gaussian distribution\n",
    "sigma_omega= 0.01\n",
    "sigma_n= 0.01\n",
    "omega_b0 = 0.0000245\n",
    "omega_r0=0.02\n",
    "\n",
    "#Defining part which comes inside integeration of distance Luminosity\n",
    "\n",
    "inv_cov_mat= np.linalg.inv(cov_mat)\n",
    "dmthSN= np.zeros(len(z))\n",
    "dlthSN = np.zeros(len(z))\n",
    "dldataSN=np.zeros(len(z))\n",
    "error= np.zeros(len(z))\n",
    "dlerror= np.zeros(len(z))\n",
    "\n",
    "a=b=c=d=e=0\n",
    "# DL theoretical from VCG model\n",
    "def D_l(z,omega_m,n,h0):\n",
    "    def int_func(x):\n",
    "        return 1/(pow((1+x),2)*(omega_r0+(omega_b0/(1+x))+((1-omega_b0-omega_r0)*((omega_m*(1+x)**6)+(1-omega_m)*(1+z)**n)**(0.5)/(1+x)**(4)))**(0.5))\n",
    "    g = quad(int_func,0,z)\n",
    "    return (1+z)*g[0]*(3000/(h0))\n",
    "#Function to calculate the value of mu_theory\n",
    "def mu_theory(z,omega_m,n,h0):\n",
    "        m=5*log(D_l(z,omega_m,n,h0),10)+25\n",
    "        return m\n",
    "\n",
    "\n",
    "# We now defile a likelihood function as given in the notes\n",
    "# If the value comes out to be less than zero, set it to a very very small likelyhood\n",
    "#Temporary variable to store mu(observation)- mu(theory)\n",
    "dmu= np.empty(len(z))\n",
    "def lnlsn(omega_m, n,h0):\n",
    "        if(omega_m<=0.0 or h0<0):\n",
    "            loglikely=-1.e100\n",
    "        else:\n",
    "            for i in range(len(z)):\n",
    "                dmu[i]= mu[i]- mu_theory(z[i],omega_m,n,h0)\n",
    "            loglikely= -0.5*np.dot(dmu,np.dot(inv_cov_mat,dmu))\n",
    "        return loglikely\n"
   ]
  },
  {
   "cell_type": "code",
   "execution_count": 8,
   "id": "e80d1e8d",
   "metadata": {},
   "outputs": [
    {
     "name": "stdout",
     "output_type": "stream",
     "text": [
      "[external] Initialized external likelihood.\n",
      "[mcmc] Getting initial point... (this may take a few seconds)\n",
      "[model] Measuring speeds... (this may take a few seconds)\n",
      "[model] Setting measured speeds (per sec): {external: 26.3}\n",
      "[mcmc] Covariance matrix not present. We will start learning the covariance of the proposal earlier: R-1 = 30 (would be 2 if all params loaded).\n",
      "[mcmc] Initial point: omega_m:0.1, n:1.2, h0:0.7\n",
      "[mcmc] Sampling! (NB: no accepted step will be saved until 300 burn-in samples have been obtained)\n",
      "[mcmc] Progress @ 2022-06-19 09:49:10 : 1 steps taken -- still burning in, 300 accepted steps left.\n",
      "[mcmc] Finished burn-in phase: discarded 300 accepted steps.\n",
      "[mcmc] Learn + convergence test @ 120 samples accepted.\n",
      "[mcmc]  - Acceptance rate: 0.807\n",
      "[mcmc]  - Convergence of means: R-1 = 15.687246 after 96 accepted steps\n",
      "[mcmc]  - Updated covariance matrix of proposal pdf.\n",
      "[mcmc] Learn + convergence test @ 240 samples accepted.\n",
      "[mcmc]  - Acceptance rate: 0.706\n",
      "[mcmc]  - Convergence of means: R-1 = 6.578170 after 192 accepted steps\n",
      "[mcmc]  - Updated covariance matrix of proposal pdf.\n",
      "[mcmc] Progress @ 2022-06-19 09:50:10 : 843 steps taken, and 322 accepted.\n",
      "[mcmc] Learn + convergence test @ 360 samples accepted.\n",
      "[mcmc]  - Acceptance rate: 0.575\n",
      "[mcmc]  - Convergence of means: R-1 = 2.391743 after 288 accepted steps\n",
      "[mcmc]  - Updated covariance matrix of proposal pdf.\n",
      "[mcmc] Learn + convergence test @ 480 samples accepted.\n",
      "[mcmc]  - Acceptance rate: 0.500\n",
      "[mcmc]  - Convergence of means: R-1 = 0.450739 after 384 accepted steps\n",
      "[mcmc]  - Updated covariance matrix of proposal pdf.\n",
      "[mcmc] Learn + convergence test @ 600 samples accepted.\n",
      "[mcmc]  - Acceptance rate: 0.460\n",
      "[mcmc]  - Convergence of means: R-1 = 1.902129 after 480 accepted steps\n",
      "[mcmc]  - Updated covariance matrix of proposal pdf.\n",
      "[mcmc] Progress @ 2022-06-19 09:51:11 : 1715 steps taken, and 654 accepted.\n",
      "[mcmc] Learn + convergence test @ 720 samples accepted.\n",
      "[mcmc]  - Acceptance rate: 0.413\n",
      "[mcmc]  - Convergence of means: R-1 = 0.639899 after 576 accepted steps\n",
      "[mcmc]  - Updated covariance matrix of proposal pdf.\n",
      "[mcmc] Learn + convergence test @ 840 samples accepted.\n",
      "[mcmc]  - Acceptance rate: 0.384\n",
      "[mcmc]  - Convergence of means: R-1 = 0.520182 after 672 accepted steps\n",
      "[mcmc]  - Updated covariance matrix of proposal pdf.\n",
      "[mcmc] Progress @ 2022-06-19 09:52:11 : 2536 steps taken, and 916 accepted.\n",
      "[mcmc] Learn + convergence test @ 960 samples accepted.\n",
      "[mcmc]  - Acceptance rate: 0.372\n",
      "[mcmc]  - Convergence of means: R-1 = 0.317713 after 768 accepted steps\n",
      "[mcmc]  - Updated covariance matrix of proposal pdf.\n",
      "[mcmc] Learn + convergence test @ 1080 samples accepted.\n",
      "[mcmc]  - Acceptance rate: 0.365\n",
      "[mcmc]  - Convergence of means: R-1 = 0.333312 after 864 accepted steps\n",
      "[mcmc]  - Updated covariance matrix of proposal pdf.\n",
      "[mcmc] Progress @ 2022-06-19 09:53:11 : 3339 steps taken, and 1185 accepted.\n",
      "[mcmc] Learn + convergence test @ 1200 samples accepted.\n",
      "[mcmc]  - Acceptance rate: 0.355\n",
      "[mcmc]  - Convergence of means: R-1 = 0.335365 after 960 accepted steps\n",
      "[mcmc]  - Updated covariance matrix of proposal pdf.\n",
      "[mcmc] Learn + convergence test @ 1320 samples accepted.\n",
      "[mcmc]  - Acceptance rate: 0.348\n",
      "[mcmc]  - Convergence of means: R-1 = 0.263860 after 1056 accepted steps\n",
      "[mcmc]  - Updated covariance matrix of proposal pdf.\n",
      "[mcmc] Progress @ 2022-06-19 09:54:11 : 4129 steps taken, and 1423 accepted.\n",
      "[mcmc] Learn + convergence test @ 1440 samples accepted.\n",
      "[mcmc]  - Acceptance rate: 0.337\n",
      "[mcmc]  - Convergence of means: R-1 = 0.091487 after 1152 accepted steps\n",
      "[mcmc]  - Updated covariance matrix of proposal pdf.\n",
      "[mcmc] Learn + convergence test @ 1560 samples accepted.\n",
      "[mcmc]  - Acceptance rate: 0.328\n",
      "[mcmc]  - Convergence of means: R-1 = 0.059466 after 1248 accepted steps\n",
      "[mcmc]  - Convergence of bounds: R-1 = 0.254823 after 1560 accepted steps\n",
      "[mcmc]  - Updated covariance matrix of proposal pdf.\n",
      "[mcmc] Progress @ 2022-06-19 09:55:11 : 4979 steps taken, and 1658 accepted.\n",
      "[mcmc] Learn + convergence test @ 1680 samples accepted.\n",
      "[mcmc]  - Acceptance rate: 0.321\n",
      "[mcmc]  - Convergence of means: R-1 = 0.081422 after 1344 accepted steps\n",
      "[mcmc]  - Convergence of bounds: R-1 = 0.259233 after 1680 accepted steps\n",
      "[mcmc]  - Updated covariance matrix of proposal pdf.\n",
      "[mcmc] Learn + convergence test @ 1800 samples accepted.\n",
      "[mcmc]  - Acceptance rate: 0.318\n",
      "[mcmc]  - Convergence of means: R-1 = 0.036546 after 1440 accepted steps\n",
      "[mcmc]  - Convergence of bounds: R-1 = 0.175334 after 1800 accepted steps\n",
      "[mcmc] The run has converged!\n",
      "[mcmc] Sampling complete after 1800 accepted steps.\n"
     ]
    }
   ],
   "source": [
    "info_SN = {\n",
    "    \"likelihood\": {\n",
    "        \"external\": lnlsn},\n",
    "    \"params\": dict([\n",
    "        (\"omega_m\", {\n",
    "            \"prior\": \n",
    "            { \"dist\": \"norm\", \"loc\": 0.09, \"scale\": 3*0.025}, \"ref\": 0.1,\n",
    "            \"latex\": r\"\\Omega_m\",\"proposal\":0.001}),\n",
    "        (\"n\", {\n",
    "            \"prior\": {\"dist\": \"norm\", \"loc\": 1.33, \"scale\": 3*0.205}, \"ref\": 1.2,\n",
    "            \"latex\": r\"n\",\"proposal\":0.001}),\n",
    "       (\"h0\", {\n",
    "            \"prior\": {\"dist\": \"norm\", \"loc\": 0.696, \"scale\": 3*0.004}, \"ref\": 0.7,\n",
    "            \"latex\": r\"h\",\"proposal\":0.001}) ]),\n",
    "       \"sampler\": {\n",
    "    \"mcmc\": {\"burn_in\": 300, \"max_samples\": 10000000, \"Rminus1_stop\": 0.1, \"Rminus1_cl_stop\": 0.2, \"learn_proposal\": True}}}\n",
    "updated_info_SN, sampler_SN = run(info_SN)"
   ]
  },
  {
   "cell_type": "code",
   "execution_count": 14,
   "id": "c037ae93",
   "metadata": {},
   "outputs": [
    {
     "name": "stdout",
     "output_type": "stream",
     "text": [
      "[root] *WARNING* outlier fraction 0.007142857142857143 \n",
      "Mean:\n",
      "[0.0926524  0.59986028 0.6929954 ]\n",
      "1 sigma:\n",
      "[0.0489834  0.41621582 0.00873595]\n",
      "Covariance matrix:\n",
      "[[ 2.39937299e-03 -1.75526993e-02  6.78009014e-05]\n",
      " [-1.75526993e-02  1.73235610e-01 -1.73462205e-03]\n",
      " [ 6.78009014e-05 -1.73462205e-03  7.63168577e-05]]\n"
     ]
    },
    {
     "data": {
      "image/png": "[encoded data removed]",
      "text/plain": [
       "<Figure size 360x360 with 6 Axes>"
      ]
     },
     "metadata": {
      "needs_background": "light"
     },
     "output_type": "display_data"
    }
   ],
   "source": [
    "from cobaya.run import run\n",
    "from getdist.mcsamples import MCSamplesFromCobaya\n",
    "import getdist.plots as gdplt\n",
    "\n",
    "gdsamples_SN = MCSamplesFromCobaya(updated_info_SN, sampler_SN.products()[\"sample\"],ignore_rows=0.3)\n",
    "gdplot = gdplt.getSubplotPlotter(width_inch=5)\n",
    "gdplot.triangle_plot(gdsamples_SN, [\"omega_m\", \"n\", \"h0\"], filled=True)\n",
    "mean = gdsamples_SN.getMeans()[:3]\n",
    "sigma = np.sqrt(np.array(gdsamples_SN.getVars()[:3]))\n",
    "covmat = gdsamples_SN.getCovMat().matrix[:3, :3]\n",
    "plt.savefig(\"figures/SCPcobaya.pdf\", format=\"pdf\", bbox_inches=\"tight\")\n",
    "print(\"Mean:\")\n",
    "print(mean)\n",
    "print(\"1 sigma:\")\n",
    "print(sigma)\n",
    "print(\"Covariance matrix:\")\n",
    "print(covmat) "
   ]
  },
  {
   "cell_type": "markdown",
   "id": "6c660149",
   "metadata": {},
   "source": [
    "# GWTC-3"
   ]
  },
  {
   "cell_type": "code",
   "execution_count": 8,
   "id": "1bea3606",
   "metadata": {},
   "outputs": [],
   "source": [
    "name=np.array(['GW190521','GW190706_222641','GW190413_134308','GW190514_065416','GW190719_215514','GW190521',\"GW190909_114149\",\"GW190413_052954\",'GW190803_022701','GW190731_140936','GW190727_060333','GW190620_030421','GW190421_213856','GW170729','GW190602_175927','GW190527_092055','GW190519_153544','GW190424_180648','GW190929_012149','GW190828_063405','GW190701_203306','GW190513_205428','GW170823','GW190517_055101','GW190915_235702','GW190828_065509','GW190408_181802','GW190910_112807','GW190512_180714','GW190503_185404','GW190521_074359','GW170818','GW151012','GW170809','GW170104','GW190728_064510','GW190708_232457','GW190630_185205','GW190720_000836','GW190707_093326','GW190930_133541','GW190412','GW190924_021846','GW170814','GW151226','GW150914','GW190426_152155','GW200115_042309','GW170608','GW200105_162426','GW190814','GW190425','GW170817'])\n",
    "full_DL_GW=np.array([[5300.0,2400,-2600],[4420.0,2590,-1930],[4450,2480,-2120],[4130.0,2650,-2170],[3940.0,2590,-2000],[3920.0,2190,-1950],[3770.0,3270,-2220],[3550.0,2270,-1660],[3270.0,1950,-1580],[3300.0,2390,-1720],[3300.0,1540,-1500],[2810.0,1680,-1310],[2880.0,1370,-1380],[2840.0,1400,-1360],[2690.0,1790,-1120],[2490.0,2480,-1240],[2530.0,1830,-920],[2200.0,1580,-1160],[2130.0,3650,-1050],[2130.0,660,-930],[2060.0,760,-730],[2060.0,880,-800],[1940.0,970,-900],[1860.0,1620,-840],[1620.0,710,-610],[1600.0,620,-600],[1550.0,400,-600],[1460.0,1030,-580],[1430.0,550,-550],[1450.0,690,-630],[1240.0,400,-570],[1060.0,420,-380],[1080.0,550,-490],[1030.0,320,-390],[990.0,440,-430],[870.0,260,-370],[880.0,330,-390],[890.0,560,-370],[790.0,690,-320],[770.0,380,-370],[760.0,360,-320],[740.0,140,-170],[570.0,220,-220],[600.0,150,-220],[450.0,180,-190],[440.0,150,-170],[370.0,180,-160],[300.0,150,-100],[320.0,120,-110],[280.0,110,-110],[241.0,41,-45],[159.0,69,-72],[40.0,7,-15]])\n",
    "full_Z_GW=np.array([[0.82,0.28,-0.34],[0.71,0.32,-0.27],[0.71,0.31,-0.30],[0.67,0.33,-0.31],[0.64,0.33,-0.29],[0.64,0.28,-0.28],[0.62,0.41,-0.33],[0.59,0.29,-0.24],[0.55,0.26,-0.24],[0.55,0.31,-0.26],[0.55,0.21,-0.22],[0.49,0.23,-0.20],[0.49,0.19,-0.21],[0.49,0.19,-0.21],[0.47,0.25,-0.17],[0.44,0.34,-0.20],[0.44,0.25,-0.14],[0.39,0.23,-0.19],[0.38,0.49,-0.17],[0.38,0.10,-0.15],[0.37,0.11,-0.12],[0.37,0.13,-0.13],[0.35,0.15,-0.15],[0.34,0.24,-0.14],[0.3,0.11,-0.10],[0.3,0.10,-0.10],[0.29,0.06,-0.10],[0.28,0.16,-0.10],[0.27,0.09,-0.10],[0.27,0.11,-0.11],[0.24,0.07,-0.10],[0.21,0.07,-0.07],[0.21,0.09,-0.09],[0.2,0.05,-0.07],[0.2,0.08,-0.08],[0.18,0.05,-0.07],[0.18,0.06,-0.07],[0.18,0.10,-0.07],[0.16,0.12,-0.06],[0.16,0.07,-0.07],[0.15,0.06,-0.06],[0.15,0.03,-0.03],[0.12,0.04,-0.04],[0.12,0.03,-0.04],[0.09,0.04,-0.04],[0.09,0.03,-0.03],[0.08,0.04,-0.03],[0.07,0.03,-0.02],[0.07,0.02,-0.02],[0.06,0.02,-0.02],[0.053,0.009,-0.010],[0.04,0.01,-0.02],[0.01,0.00,-0.00]])\n",
    "# Number of events\n",
    "a=name.size\n",
    "\n",
    "#Defining arrays\n",
    "dldata_GW=np.zeros(a)\n",
    "dlUP=np.zeros(a)\n",
    "dlLOW=np.zeros(a)\n",
    "dlTOP=np.zeros(a)\n",
    "dlBOTTOM=np.zeros(a)\n",
    "dmtop=np.zeros(a)\n",
    "dmbottom=np.zeros(a)\n",
    "Z_GW=np.zeros(a)\n",
    "dmth_GW=np.zeros(a)\n",
    "dmdata_GW=np.zeros(a)\n",
    "dlth_GW = np.zeros(a)\n",
    "dmtoperr=np.zeros(a)\n",
    "dmbottomerr=np.zeros(a)\n",
    "#defining variables for index of the above arrays\n",
    "b=c=d=e=f=h=k=l=m=x=y=p=q=r=s=0\n",
    "#extracting redshifts and DL from the full data\n",
    "for i in full_Z_GW:\n",
    "  Z_GW[e]+=i[0]\n",
    "  e+=1\n",
    "for i in full_DL_GW:\n",
    "  dldata_GW[b]+=i[0]\n",
    "  b+=1\n",
    "for i in dldata_GW:\n",
    "  dmdata_GW[h]+=5*log(i,10)+25\n",
    "  h+=1\n",
    "for i in full_DL_GW:\n",
    "  dlUP[c]+=i[0]+i[1]\n",
    "  c+=1\n",
    "for i in full_DL_GW:\n",
    "  dlLOW[d]+=i[0]+i[2]\n",
    "  d+=1\n",
    "label1 = {\"Event_Name\":name,\"Z_GW\":Z_GW,\"dLdata_GW\":dldata_GW,\"DMdata_GW\": dmdata_GW,\"DL_Uplimit\": dlUP, \"DL_Lowlimit\": dlLOW}\n",
    "data_GW=pd.DataFrame(label1)\n",
    "data_GWTC3 = pd.read_excel (r'/media/ash/1tb/github/HubbleConstant-ConstraintsForVCG/oldGW.xlsx')\n",
    "data_GWTC3.index= np.arange(53,88)\n",
    "\n",
    "mucollect=[data_GW.Z_GW,data_GWTC3.redshift]\n",
    "z1 = pd.concat(mucollect)\n",
    "\n",
    "namecollect=[data_GW.Event_Name,data_GWTC3.Event_Name_GWTC3]\n",
    "finalevents = pd.concat(namecollect)\n",
    "\n",
    "dlcollect=[data_GW.dLdata_GW,data_GWTC3.luminosity_distance]\n",
    "finaldl1 = pd.concat(dlcollect)\n",
    "\n",
    "dlupcollect=[data_GW.DL_Uplimit,data_GWTC3.luminosity_distance_upper]\n",
    "finaldlup1 = pd.concat(dlupcollect)\n",
    "\n",
    "dllowcollect=[data_GW.DL_Lowlimit,data_GWTC3.luminosity_distance_lower]\n",
    "finaldllow1 = pd.concat(dllowcollect)\n",
    "label2 = {\"EventName\":finalevents,\"ZGW\":z1,\"dLdataGW\":finaldl1,\"DLUplimit\":finaldlup1,\"DLLowlimit\":finaldllow1}\n",
    "Final_GW=pd.DataFrame(label2)\n",
    "sort_data_GW=Final_GW.sort_values(by=['ZGW'],ignore_index=True)\n",
    "\n",
    "z_gw=sort_data_GW.ZGW\n",
    "finaldl=sort_data_GW.dLdataGW\n",
    "finaldlup=sort_data_GW.DLUplimit\n",
    "finaldllow=sort_data_GW.DLLowlimit\n",
    "a=finalevents.size\n",
    "\n",
    "#Defining arrays\n",
    "dlTOP=np.zeros(a)\n",
    "dlBOTTOM=np.zeros(a)\n",
    "dmtop=np.zeros(a)\n",
    "dmbottom=np.zeros(a)\n",
    "dmth3_GW=np.zeros(a)\n",
    "mu=np.zeros(a)\n",
    "dlth3_GW = np.zeros(a)\n",
    "dmtoperr=np.zeros(a)\n",
    "dmbottomerr=np.zeros(a)\n",
    "#defining variables for index of the above arrays\n",
    "f=h=k=l=m=x=y=p=q=r=s=0\n",
    "\n",
    "for i in finaldl:\n",
    "  mu[h]+=5*log(i,10)+25\n",
    "  h+=1\n",
    "for i in finaldlup:\n",
    "  dmtop[f]+=5*log(i,10)+25\n",
    "  f+=1\n",
    "for i in finaldllow:\n",
    "  dmbottom[k]+=5*log(i,10)+25\n",
    "  k+=1\n",
    "#upper and lower differences for errors\n",
    "for (i,j) in zip(mu,dmtop):\n",
    "  dmtoperr[r]+=j-i\n",
    "  r+=1\n",
    "for (i,j) in zip(mu,dmbottom):\n",
    "  dmbottomerr[s]+=i-j\n",
    "  s+=1"
   ]
  },
  {
   "cell_type": "code",
   "execution_count": 11,
   "id": "4492bb9d",
   "metadata": {},
   "outputs": [],
   "source": [
    "#number of samples \n",
    "sampl= 10000\n",
    "#number of pars\n",
    "par = 2\n",
    "\n",
    "sigma=np.zeros(len(z))\n",
    "#assume the parameters have a gaussian distribution\n",
    "sigma_omega= 0.01\n",
    "sigma_n= 0.01\n",
    "omega_b0 = 0.0000245\n",
    "omega_r0=0.02\n",
    "\n",
    "\n",
    "#Defining part which comes inside integeration of distance Luminosity\n",
    "\n",
    "ckm = 299792.458\n",
    "dmthSN= np.zeros(len(z))\n",
    "dlthSN = np.zeros(len(z))\n",
    "dldataSN=np.zeros(len(z))\n",
    "error= np.zeros(len(z))\n",
    "dlerror= np.zeros(len(z))\n",
    "\n",
    "a=b=c=d=e=0\n",
    "# DL theoretical from VCG model\n",
    "def D_l(z,omega_m,n,h0):\n",
    "    def int_func(x):\n",
    "        return 1/(pow((1+x),2)*(omega_r0+(omega_b0/(1+x))+((1-omega_b0-omega_r0)*((omega_m*(1+x)**6)+(1-omega_m)*(1+x)**n)**(0.5)/(1+x)**(4)))**(0.5))\n",
    "    g = quad(int_func,0,z)\n",
    "    return (1+z)*g[0]*(ckm/(h0))\n",
    "#Function to calculate the value of mu_theory\n",
    "def mu_theory(z,omega_m,n,h0):\n",
    "        m=5*log(D_l(z,omega_m,n,h0),10)+25\n",
    "        return m\n",
    "\n",
    "# We now defile a likelihood function as given in the notes\n",
    "# If the value comes out to be less than zero, set it to a very very small likelyhood\n",
    "#Temporary variable to store mu(observation)- mu(theory)\n",
    "dmu= np.empty(len(z))\n",
    "def lnlgw(omega_m, n,h0):\n",
    "        if(omega_m<=0.0 or omega_m>=1 or h0<0):\n",
    "            loglikely=-1.e100\n",
    "        else:\n",
    "            for i in range(len(z)): # if data point lower than theoretical: take bottom error\n",
    "                # if data point above th : take upper error\n",
    "                dmu[i]= mu[i]- mu_theory(z[i],omega_m,n,h0)\n",
    "                if dmu[i]>0:\n",
    "                    sigma[i]=dmbottomerr[i]\n",
    "                else:\n",
    "                    sigma[i]=dmtoperr[i]\n",
    "            loglikely= -0.5*np.sum(dmu**2/sigma**2)\n",
    "#             for i in range(len(z)):   #(Average of asymetrical errors)\n",
    "#                 dmu[i]= mu[i]- mu_theory(z[i],omega_m,n,h0)\n",
    "#                 sigma[i]= (dmbottomerr[i] + dmtoperr[i])/2\n",
    "#             loglikely= -0.5*np.sum(dmu**2/sigma**2)\n",
    "        return loglikely"
   ]
  },
  {
   "cell_type": "code",
   "execution_count": 10,
   "id": "c910e27b",
   "metadata": {},
   "outputs": [
    {
     "name": "stdout",
     "output_type": "stream",
     "text": [
      "2\n",
      "4\n",
      "8\n",
      "16\n",
      "32\n",
      "64\n",
      "128\n",
      "256\n",
      "512\n",
      "1024\n"
     ]
    }
   ],
   "source": [
    "def func(i):\n",
    "    for j in range(1,11):\n",
    "        yield i**j\n",
    "\n",
    "for a in func(2):\n",
    "    print(a)"
   ]
  },
  {
   "cell_type": "code",
   "execution_count": 14,
   "id": "13360a5a",
   "metadata": {
    "scrolled": true
   },
   "outputs": [
    {
     "name": "stdout",
     "output_type": "stream",
     "text": [
      "[external] Initialized external likelihood.\n",
      "[mcmc] Getting initial point... (this may take a few seconds)\n",
      "[model] *ERROR* The reference point provided has null likelihood. Set 'ref' to a different point or a pdf.\n"
     ]
    },
    {
     "ename": "LoggedError",
     "evalue": "The reference point provided has null likelihood. Set 'ref' to a different point or a pdf.",
     "output_type": "error",
     "traceback": [
      "\u001b[0;31m---------------------------------------------------------------------------\u001b[0m",
      "\u001b[0;31mLoggedError\u001b[0m                               Traceback (most recent call last)",
      "\u001b[1;32m/media/ash/1tb/github/HubbleConstant-ConstraintsForVCG/Python Codes/Cobaya_Pantheon.ipynb Cell 21\u001b[0m in \u001b[0;36m1\n\u001b[1;32m      <a href='vscode-notebook-cell:/media/ash/1tb/github/HubbleConstant-ConstraintsForVCG/Python%20Codes/Cobaya_Pantheon.ipynb#X30sZmlsZQ%3D%3D?line=0'>1</a>\u001b[0m info_GW \u001b[39m=\u001b[39m {\n\u001b[1;32m      <a href='vscode-notebook-cell:/media/ash/1tb/github/HubbleConstant-ConstraintsForVCG/Python%20Codes/Cobaya_Pantheon.ipynb#X30sZmlsZQ%3D%3D?line=1'>2</a>\u001b[0m     \u001b[39m\"\u001b[39m\u001b[39mlikelihood\u001b[39m\u001b[39m\"\u001b[39m: {\n\u001b[1;32m      <a href='vscode-notebook-cell:/media/ash/1tb/github/HubbleConstant-ConstraintsForVCG/Python%20Codes/Cobaya_Pantheon.ipynb#X30sZmlsZQ%3D%3D?line=2'>3</a>\u001b[0m         \u001b[39m\"\u001b[39m\u001b[39mexternal\u001b[39m\u001b[39m\"\u001b[39m: lnlgw},\n\u001b[0;32m   (...)\u001b[0m\n\u001b[1;32m     <a href='vscode-notebook-cell:/media/ash/1tb/github/HubbleConstant-ConstraintsForVCG/Python%20Codes/Cobaya_Pantheon.ipynb#X30sZmlsZQ%3D%3D?line=14'>15</a>\u001b[0m \u001b[39m\"\u001b[39m\u001b[39msampler\u001b[39m\u001b[39m\"\u001b[39m: {\n\u001b[1;32m     <a href='vscode-notebook-cell:/media/ash/1tb/github/HubbleConstant-ConstraintsForVCG/Python%20Codes/Cobaya_Pantheon.ipynb#X30sZmlsZQ%3D%3D?line=15'>16</a>\u001b[0m     \u001b[39m\"\u001b[39m\u001b[39mmcmc\u001b[39m\u001b[39m\"\u001b[39m: {\u001b[39m\"\u001b[39m\u001b[39mburn_in\u001b[39m\u001b[39m\"\u001b[39m: \u001b[39m300\u001b[39m, \u001b[39m\"\u001b[39m\u001b[39mmax_samples\u001b[39m\u001b[39m\"\u001b[39m: \u001b[39m10000000\u001b[39m, \u001b[39m\"\u001b[39m\u001b[39mRminus1_stop\u001b[39m\u001b[39m\"\u001b[39m: \u001b[39m0.1\u001b[39m, \u001b[39m\"\u001b[39m\u001b[39mRminus1_cl_stop\u001b[39m\u001b[39m\"\u001b[39m: \u001b[39m0.1\u001b[39m, \u001b[39m\"\u001b[39m\u001b[39mlearn_proposal\u001b[39m\u001b[39m\"\u001b[39m: \u001b[39mTrue\u001b[39;00m}}}\n\u001b[0;32m---> <a href='vscode-notebook-cell:/media/ash/1tb/github/HubbleConstant-ConstraintsForVCG/Python%20Codes/Cobaya_Pantheon.ipynb#X30sZmlsZQ%3D%3D?line=17'>18</a>\u001b[0m updated_info_GW, sampler_GW \u001b[39m=\u001b[39m run(info_GW)\n",
      "File \u001b[0;32m~/.local/lib/python3.10/site-packages/cobaya/run.py:144\u001b[0m, in \u001b[0;36mrun\u001b[0;34m(info_or_yaml_or_file, packages_path, output, debug, stop_at_error, resume, force, minimize, no_mpi, test, override)\u001b[0m\n\u001b[1;32m    142\u001b[0m updated_info \u001b[39m=\u001b[39m recursive_update(updated_info, model\u001b[39m.\u001b[39minfo())\n\u001b[1;32m    143\u001b[0m out\u001b[39m.\u001b[39mcheck_and_dump_info(\u001b[39mNone\u001b[39;00m, updated_info, check_compatible\u001b[39m=\u001b[39m\u001b[39mFalse\u001b[39;00m)\n\u001b[0;32m--> 144\u001b[0m sampler \u001b[39m=\u001b[39m sampler_class(updated_info[\u001b[39m\"\u001b[39;49m\u001b[39msampler\u001b[39;49m\u001b[39m\"\u001b[39;49m][sampler_name],\n\u001b[1;32m    145\u001b[0m                         model, out, name\u001b[39m=\u001b[39;49msampler_name,\n\u001b[1;32m    146\u001b[0m                         packages_path\u001b[39m=\u001b[39;49minfo\u001b[39m.\u001b[39;49mget(packages_path_input))\n\u001b[1;32m    147\u001b[0m \u001b[39m# Re-dump updated info, now also containing updates from the sampler\u001b[39;00m\n\u001b[1;32m    148\u001b[0m updated_info[\u001b[39m\"\u001b[39m\u001b[39msampler\u001b[39m\u001b[39m\"\u001b[39m][sampler_name] \u001b[39m=\u001b[39m \\\n\u001b[1;32m    149\u001b[0m     recursive_update(updated_info[\u001b[39m\"\u001b[39m\u001b[39msampler\u001b[39m\u001b[39m\"\u001b[39m][sampler_name],\n\u001b[1;32m    150\u001b[0m                      sampler\u001b[39m.\u001b[39minfo())\n",
      "File \u001b[0;32m~/.local/lib/python3.10/site-packages/cobaya/sampler.py:269\u001b[0m, in \u001b[0;36mSampler.__init__\u001b[0;34m(self, info_sampler, model, output, packages_path, name)\u001b[0m\n\u001b[1;32m    267\u001b[0m         \u001b[39mpass\u001b[39;00m\n\u001b[1;32m    268\u001b[0m \u001b[39mself\u001b[39m\u001b[39m.\u001b[39m_set_rng()\n\u001b[0;32m--> 269\u001b[0m \u001b[39mself\u001b[39;49m\u001b[39m.\u001b[39;49minitialize()\n\u001b[1;32m    270\u001b[0m model\u001b[39m.\u001b[39mset_cache_size(\u001b[39mself\u001b[39m\u001b[39m.\u001b[39m_get_requested_cache_size())\n\u001b[1;32m    271\u001b[0m \u001b[39m# Add to the updated info some values which are\u001b[39;00m\n\u001b[1;32m    272\u001b[0m \u001b[39m# only available after initialisation\u001b[39;00m\n",
      "File \u001b[0;32m~/.local/lib/python3.10/site-packages/cobaya/samplers/mcmc/mcmc.py:154\u001b[0m, in \u001b[0;36mMCMC.initialize\u001b[0;34m(self)\u001b[0m\n\u001b[1;32m    151\u001b[0m \u001b[39mself\u001b[39m\u001b[39m.\u001b[39mmax_tries\u001b[39m.\u001b[39mset_scale(\u001b[39mself\u001b[39m\u001b[39m.\u001b[39mmodel\u001b[39m.\u001b[39mprior\u001b[39m.\u001b[39md())\n\u001b[1;32m    152\u001b[0m \u001b[39mself\u001b[39m\u001b[39m.\u001b[39mlog\u001b[39m.\u001b[39minfo(\u001b[39m\"\u001b[39m\u001b[39mGetting initial point... (this may take a few seconds)\u001b[39m\u001b[39m\"\u001b[39m)\n\u001b[1;32m    153\u001b[0m initial_point, results \u001b[39m=\u001b[39m \\\n\u001b[0;32m--> 154\u001b[0m     \u001b[39mself\u001b[39;49m\u001b[39m.\u001b[39;49mmodel\u001b[39m.\u001b[39;49mget_valid_point(max_tries\u001b[39m=\u001b[39;49m\u001b[39mmin\u001b[39;49m(\u001b[39mself\u001b[39;49m\u001b[39m.\u001b[39;49mmax_tries\u001b[39m.\u001b[39;49mvalue, \u001b[39mint\u001b[39;49m(\u001b[39m1e7\u001b[39;49m)),\n\u001b[1;32m    155\u001b[0m                                random_state\u001b[39m=\u001b[39;49m\u001b[39mself\u001b[39;49m\u001b[39m.\u001b[39;49m_rng)\n\u001b[1;32m    156\u001b[0m \u001b[39m# If resuming but no existing chain, assume failed run and ignore blocking\u001b[39;00m\n\u001b[1;32m    157\u001b[0m \u001b[39m# if speeds measurement requested\u001b[39;00m\n\u001b[1;32m    158\u001b[0m \u001b[39mif\u001b[39;00m \u001b[39mself\u001b[39m\u001b[39m.\u001b[39moutput\u001b[39m.\u001b[39mis_resuming() \u001b[39mand\u001b[39;00m \u001b[39mnot\u001b[39;00m \u001b[39mlen\u001b[39m(\u001b[39mself\u001b[39m\u001b[39m.\u001b[39mcollection) \\\n\u001b[1;32m    159\u001b[0m         \u001b[39mand\u001b[39;00m \u001b[39mself\u001b[39m\u001b[39m.\u001b[39mmeasure_speeds:\n",
      "File \u001b[0;32m~/.local/lib/python3.10/site-packages/cobaya/model.py:623\u001b[0m, in \u001b[0;36mModel.get_valid_point\u001b[0;34m(self, max_tries, ignore_fixed_ref, logposterior_as_dict, random_state)\u001b[0m\n\u001b[1;32m    621\u001b[0m \u001b[39melse\u001b[39;00m:\n\u001b[1;32m    622\u001b[0m     \u001b[39mif\u001b[39;00m \u001b[39mself\u001b[39m\u001b[39m.\u001b[39mprior\u001b[39m.\u001b[39mreference_is_pointlike:\n\u001b[0;32m--> 623\u001b[0m         \u001b[39mraise\u001b[39;00m LoggedError(\u001b[39mself\u001b[39m\u001b[39m.\u001b[39mlog, \u001b[39m\"\u001b[39m\u001b[39mThe reference point provided has null \u001b[39m\u001b[39m\"\u001b[39m\n\u001b[1;32m    624\u001b[0m                                     \u001b[39m\"\u001b[39m\u001b[39mlikelihood. Set \u001b[39m\u001b[39m'\u001b[39m\u001b[39mref\u001b[39m\u001b[39m'\u001b[39m\u001b[39m to a different point \u001b[39m\u001b[39m\"\u001b[39m\n\u001b[1;32m    625\u001b[0m                                     \u001b[39m\"\u001b[39m\u001b[39mor a pdf.\u001b[39m\u001b[39m\"\u001b[39m)\n\u001b[1;32m    626\u001b[0m     \u001b[39mraise\u001b[39;00m LoggedError(\u001b[39mself\u001b[39m\u001b[39m.\u001b[39mlog, \u001b[39m\"\u001b[39m\u001b[39mCould not find random point giving finite \u001b[39m\u001b[39m\"\u001b[39m\n\u001b[1;32m    627\u001b[0m                                 \u001b[39m\"\u001b[39m\u001b[39mposterior after \u001b[39m\u001b[39m%g\u001b[39;00m\u001b[39m tries\u001b[39m\u001b[39m\"\u001b[39m, max_tries)\n\u001b[1;32m    628\u001b[0m \u001b[39mif\u001b[39;00m logposterior_as_dict:\n",
      "\u001b[0;31mLoggedError\u001b[0m: The reference point provided has null likelihood. Set 'ref' to a different point or a pdf."
     ]
    }
   ],
   "source": [
    "info_GW = {\n",
    "    \"likelihood\": {\n",
    "        \"external\": lnlgw},\n",
    "    \"params\": dict([\n",
    "        (\"omega_m\", {\n",
    "            \"prior\": \n",
    "            { \"dist\": \"norm\", \"loc\": 0.11, \"scale\": 5*0.024}, \"ref\": 0.1,\n",
    "            \"latex\": r\"B_s\",\"proposal\":0.001}),\n",
    "        (\"n\", {\n",
    "            \"prior\": {\"dist\": \"norm\", \"loc\": 1.26, \"scale\": 5*0.26}, \"ref\": 1.2,\n",
    "            \"latex\": r\"n\",\"proposal\":0.001}),\n",
    "       (\"h0\", {\n",
    "            \"prior\": {\"dist\": \"norm\", \"loc\": 70.47, \"scale\": 5*0.13}, \"ref\": 70,\n",
    "            \"latex\": r\"H_0\",\"proposal\":0.001}) ]),\n",
    "\"sampler\": {\n",
    "    \"mcmc\": {\"burn_in\": 300, \"max_samples\": 10000000, \"Rminus1_stop\": 0.1, \"Rminus1_cl_stop\": 0.1, \"learn_proposal\": True}}}\n",
    "\n",
    "updated_info_GW, sampler_GW = run(info_GW)"
   ]
  },
  {
   "cell_type": "code",
   "execution_count": 13,
   "id": "95bc0b96",
   "metadata": {},
   "outputs": [
    {
     "name": "stdout",
     "output_type": "stream",
     "text": [
      "[root] *WARNING* outlier fraction 0.025 \n",
      "Mean:\n",
      "[ 0.13425744  1.02752258 70.45232727]\n",
      "1 sigma:\n",
      "[0.08901936 1.16681278 0.66993561]\n",
      "Covariance matrix:\n",
      "[[ 7.92444632e-03 -1.12501681e-02  9.09631321e-04]\n",
      " [-1.12501681e-02  1.36145207e+00 -5.12968125e-02]\n",
      " [ 9.09631321e-04 -5.12968125e-02  4.48813719e-01]]\n"
     ]
    },
    {
     "data": {
      "image/png": "[encoded data removed]",
      "text/plain": [
       "<Figure size 500x500 with 6 Axes>"
      ]
     },
     "metadata": {},
     "output_type": "display_data"
    }
   ],
   "source": [
    "from cobaya.run import run\n",
    "from getdist.mcsamples import MCSamplesFromCobaya\n",
    "import getdist.plots as gdplt\n",
    "\n",
    "gdsamples_GW = MCSamplesFromCobaya(updated_info_GW, sampler_GW.products()[\"sample\"],ignore_rows=0.3)\n",
    "gdplot = gdplt.getSubplotPlotter(width_inch=5)\n",
    "gdplot.triangle_plot(gdsamples_GW, [\"omega_m\", \"n\", \"h0\"], filled=True)\n",
    "mean = gdsamples_GW.getMeans()[:3]\n",
    "sigma = np.sqrt(np.array(gdsamples_GW.getVars()[:3]))\n",
    "covmat = gdsamples_GW.getCovMat().matrix[:3, :3]\n",
    "# plt.savefig(\"figures/GWTCcobaya.pdf\", format=\"pdf\", bbox_inches=\"tight\")\n",
    "print(\"Mean:\")\n",
    "print(mean)\n",
    "print(\"1 sigma:\")\n",
    "print(sigma)\n",
    "print(\"Covariance matrix:\")\n",
    "print(covmat) "
   ]
  },
  {
   "cell_type": "code",
   "execution_count": 5,
   "id": "d84aa707",
   "metadata": {},
   "outputs": [
    {
     "name": "stdout",
     "output_type": "stream",
     "text": [
      "[external] Initialized external likelihood.\n",
      "[mcmc] Getting initial point... (this may take a few seconds)\n",
      "[model] Measuring speeds... (this may take a few seconds)\n",
      "[model] Setting measured speeds (per sec): {external: 56.5}\n",
      "[mcmc] Covariance matrix not present. We will start learning the covariance of the proposal earlier: R-1 = 30 (would be 2 if all params loaded).\n",
      "[mcmc] Initial point: omega_m:0.1, n:1.1, h0:0.7\n",
      "[mcmc] Sampling! (NB: no accepted step will be saved until 300 burn-in samples have been obtained)\n",
      "[mcmc] Progress @ 2022-08-05 18:18:50 : 1 steps taken -- still burning in, 300 accepted steps left.\n",
      "[mcmc] Finished burn-in phase: discarded 300 accepted steps.\n",
      "[mcmc] Learn + convergence test @ 120 samples accepted.\n",
      "[mcmc]  - Acceptance rate: 0.990\n",
      "[mcmc]  - Convergence of means: R-1 = 15.286166 after 96 accepted steps\n",
      "[mcmc]  - Updated covariance matrix of proposal pdf.\n",
      "[mcmc] Learn + convergence test @ 240 samples accepted.\n",
      "[mcmc]  - Acceptance rate: 0.965\n",
      "[mcmc]  - Convergence of means: R-1 = 3.319956 after 192 accepted steps\n",
      "[mcmc]  - Updated covariance matrix of proposal pdf.\n",
      "[mcmc] Learn + convergence test @ 360 samples accepted.\n",
      "[mcmc]  - Acceptance rate: 0.835\n",
      "[mcmc]  - Convergence of means: R-1 = 2.786708 after 288 accepted steps\n",
      "[mcmc]  - Updated covariance matrix of proposal pdf.\n",
      "[mcmc] Learn + convergence test @ 480 samples accepted.\n",
      "[mcmc]  - Acceptance rate: 0.763\n",
      "[mcmc]  - Convergence of means: R-1 = 3.021467 after 384 accepted steps\n",
      "[mcmc]  - Updated covariance matrix of proposal pdf.\n",
      "[mcmc] Learn + convergence test @ 600 samples accepted.\n",
      "[mcmc]  - Acceptance rate: 0.678\n",
      "[mcmc]  - Convergence of means: R-1 = 0.934912 after 480 accepted steps\n",
      "[mcmc]  - Updated covariance matrix of proposal pdf.\n",
      "[mcmc] Learn + convergence test @ 720 samples accepted.\n",
      "[mcmc]  - Acceptance rate: 0.611\n",
      "[mcmc]  - Convergence of means: R-1 = 1.540215 after 576 accepted steps\n",
      "[mcmc]  - Updated covariance matrix of proposal pdf.\n",
      "[mcmc] Learn + convergence test @ 840 samples accepted.\n",
      "[mcmc]  - Acceptance rate: 0.541\n",
      "[mcmc]  - Convergence of means: R-1 = 2.007398 after 672 accepted steps\n",
      "[mcmc]  - Updated covariance matrix of proposal pdf.\n",
      "[mcmc] Learn + convergence test @ 960 samples accepted.\n",
      "[mcmc]  - Acceptance rate: 0.486\n",
      "[mcmc]  - Convergence of means: R-1 = 3.313863 after 768 accepted steps\n",
      "[mcmc]  - Updated covariance matrix of proposal pdf.\n",
      "[mcmc] Learn + convergence test @ 1080 samples accepted.\n",
      "[mcmc]  - Acceptance rate: 0.446\n",
      "[mcmc]  - Convergence of means: R-1 = 1.406447 after 864 accepted steps\n",
      "[mcmc]  - Updated covariance matrix of proposal pdf.\n",
      "[mcmc] Learn + convergence test @ 1200 samples accepted.\n",
      "[mcmc]  - Acceptance rate: 0.420\n",
      "[mcmc]  - Convergence of means: R-1 = 1.852447 after 960 accepted steps\n",
      "[mcmc]  - Updated covariance matrix of proposal pdf.\n",
      "[mcmc] Learn + convergence test @ 1320 samples accepted.\n",
      "[mcmc]  - Acceptance rate: 0.391\n",
      "[mcmc]  - Convergence of means: R-1 = 1.363454 after 1056 accepted steps\n",
      "[mcmc]  - Updated covariance matrix of proposal pdf.\n",
      "[mcmc] Learn + convergence test @ 1440 samples accepted.\n",
      "[mcmc]  - Acceptance rate: 0.369\n",
      "[mcmc]  - Convergence of means: R-1 = 1.168212 after 1152 accepted steps\n",
      "[mcmc]  - Updated covariance matrix of proposal pdf.\n",
      "[mcmc] Learn + convergence test @ 1560 samples accepted.\n",
      "[mcmc]  - Acceptance rate: 0.354\n",
      "[mcmc]  - Convergence of means: R-1 = 1.037943 after 1248 accepted steps\n",
      "[mcmc]  - Updated covariance matrix of proposal pdf.\n",
      "[mcmc] Learn + convergence test @ 1680 samples accepted.\n",
      "[mcmc]  - Acceptance rate: 0.342\n",
      "[mcmc]  - Convergence of means: R-1 = 0.791568 after 1344 accepted steps\n",
      "[mcmc]  - Updated covariance matrix of proposal pdf.\n",
      "[mcmc] Learn + convergence test @ 1800 samples accepted.\n",
      "[mcmc]  - Acceptance rate: 0.325\n",
      "[mcmc]  - Convergence of means: R-1 = 0.851871 after 1440 accepted steps\n",
      "[mcmc]  - Updated covariance matrix of proposal pdf.\n",
      "[mcmc] Learn + convergence test @ 1920 samples accepted.\n",
      "[mcmc]  - Acceptance rate: 0.316\n",
      "[mcmc]  - Convergence of means: R-1 = 0.620526 after 1536 accepted steps\n",
      "[mcmc]  - Updated covariance matrix of proposal pdf.\n",
      "[mcmc] Learn + convergence test @ 2040 samples accepted.\n",
      "[mcmc]  - Acceptance rate: 0.309\n",
      "[mcmc]  - Convergence of means: R-1 = 0.218677 after 1632 accepted steps\n",
      "[mcmc]  - Updated covariance matrix of proposal pdf.\n",
      "[mcmc] Learn + convergence test @ 2160 samples accepted.\n",
      "[mcmc]  - Acceptance rate: 0.301\n",
      "[mcmc]  - Convergence of means: R-1 = 0.101858 after 1728 accepted steps\n",
      "[mcmc]  - Updated covariance matrix of proposal pdf.\n",
      "[mcmc] Learn + convergence test @ 2280 samples accepted.\n",
      "[mcmc]  - Acceptance rate: 0.295\n",
      "[mcmc]  - Convergence of means: R-1 = 0.073660 after 1824 accepted steps\n",
      "[mcmc]  - Updated covariance matrix of proposal pdf.\n",
      "[mcmc] Learn + convergence test @ 2400 samples accepted.\n",
      "[mcmc]  - Acceptance rate: 0.287\n",
      "[mcmc]  - Convergence of means: R-1 = 0.038654 after 1920 accepted steps\n",
      "[mcmc]  - Convergence of bounds: R-1 = 0.292900 after 2400 accepted steps\n",
      "[mcmc]  - Updated covariance matrix of proposal pdf.\n",
      "[mcmc] Learn + convergence test @ 2520 samples accepted.\n",
      "[mcmc]  - Acceptance rate: 0.284\n",
      "[mcmc]  - Convergence of means: R-1 = 0.017196 after 2016 accepted steps\n",
      "[mcmc]  - Convergence of bounds: R-1 = 0.230858 after 2520 accepted steps\n",
      "[mcmc]  - Updated covariance matrix of proposal pdf.\n",
      "[mcmc] Learn + convergence test @ 2640 samples accepted.\n",
      "[mcmc]  - Acceptance rate: 0.279\n",
      "[mcmc]  - Convergence of means: R-1 = 0.016686 after 2112 accepted steps\n",
      "[mcmc]  - Convergence of bounds: R-1 = 0.242382 after 2640 accepted steps\n",
      "[mcmc]  - Updated covariance matrix of proposal pdf.\n",
      "[mcmc] Learn + convergence test @ 2760 samples accepted.\n",
      "[mcmc]  - Acceptance rate: 0.275\n",
      "[mcmc]  - Convergence of means: R-1 = 0.014696 after 2208 accepted steps\n",
      "[mcmc]  - Convergence of bounds: R-1 = 0.207746 after 2760 accepted steps\n",
      "[mcmc]  - Updated covariance matrix of proposal pdf.\n",
      "[mcmc] Learn + convergence test @ 2880 samples accepted.\n",
      "[mcmc]  - Acceptance rate: 0.273\n",
      "[mcmc]  - Convergence of means: R-1 = 0.020104 after 2304 accepted steps\n",
      "[mcmc]  - Convergence of bounds: R-1 = 0.241864 after 2880 accepted steps\n",
      "[mcmc]  - Updated covariance matrix of proposal pdf.\n",
      "[mcmc] Progress @ 2022-08-05 18:19:50 : 9558 steps taken, and 2889 accepted.\n",
      "[mcmc] Learn + convergence test @ 3000 samples accepted.\n",
      "[mcmc]  - Acceptance rate: 0.270\n",
      "[mcmc]  - Convergence of means: R-1 = 0.017001 after 2400 accepted steps\n",
      "[mcmc]  - Convergence of bounds: R-1 = 0.218796 after 3000 accepted steps\n",
      "[mcmc]  - Updated covariance matrix of proposal pdf.\n",
      "[mcmc] Learn + convergence test @ 3120 samples accepted.\n",
      "[mcmc]  - Acceptance rate: 0.269\n",
      "[mcmc]  - Convergence of means: R-1 = 0.008838 after 2496 accepted steps\n",
      "[mcmc]  - Convergence of bounds: R-1 = 0.159231 after 3120 accepted steps\n",
      "[mcmc]  - Updated covariance matrix of proposal pdf.\n",
      "[mcmc] Learn + convergence test @ 3240 samples accepted.\n",
      "[mcmc]  - Acceptance rate: 0.267\n",
      "[mcmc]  - Convergence of means: R-1 = 0.013154 after 2592 accepted steps\n",
      "[mcmc]  - Convergence of bounds: R-1 = 0.171932 after 3240 accepted steps\n",
      "[mcmc]  - Updated covariance matrix of proposal pdf.\n",
      "[mcmc] Learn + convergence test @ 3360 samples accepted.\n",
      "[mcmc]  - Acceptance rate: 0.265\n",
      "[mcmc]  - Convergence of means: R-1 = 0.011263 after 2688 accepted steps\n",
      "[mcmc]  - Convergence of bounds: R-1 = 0.116739 after 3360 accepted steps\n",
      "[mcmc]  - Updated covariance matrix of proposal pdf.\n",
      "[mcmc] Learn + convergence test @ 3480 samples accepted.\n",
      "[mcmc]  - Acceptance rate: 0.265\n",
      "[mcmc]  - Convergence of means: R-1 = 0.004664 after 2784 accepted steps\n",
      "[mcmc]  - Convergence of bounds: R-1 = 0.120128 after 3480 accepted steps\n",
      "[mcmc]  - Updated covariance matrix of proposal pdf.\n",
      "[mcmc] Learn + convergence test @ 3600 samples accepted.\n",
      "[mcmc]  - Acceptance rate: 0.264\n",
      "[mcmc]  - Convergence of means: R-1 = 0.011974 after 2880 accepted steps\n",
      "[mcmc]  - Convergence of bounds: R-1 = 0.124676 after 3600 accepted steps\n",
      "[mcmc]  - Updated covariance matrix of proposal pdf.\n",
      "[mcmc] Learn + convergence test @ 3720 samples accepted.\n",
      "[mcmc]  - Acceptance rate: 0.263\n",
      "[mcmc]  - Convergence of means: R-1 = 0.009713 after 2976 accepted steps\n",
      "[mcmc]  - Convergence of bounds: R-1 = 0.139098 after 3720 accepted steps\n",
      "[mcmc]  - Updated covariance matrix of proposal pdf.\n",
      "[mcmc] Learn + convergence test @ 3840 samples accepted.\n",
      "[mcmc]  - Acceptance rate: 0.262\n",
      "[mcmc]  - Convergence of means: R-1 = 0.010283 after 3072 accepted steps\n",
      "[mcmc]  - Convergence of bounds: R-1 = 0.138060 after 3840 accepted steps\n",
      "[mcmc]  - Updated covariance matrix of proposal pdf.\n",
      "[mcmc] Learn + convergence test @ 3960 samples accepted.\n",
      "[mcmc]  - Acceptance rate: 0.260\n",
      "[mcmc]  - Convergence of means: R-1 = 0.006133 after 3168 accepted steps\n",
      "[mcmc]  - Convergence of bounds: R-1 = 0.109944 after 3960 accepted steps\n",
      "[mcmc]  - Updated covariance matrix of proposal pdf.\n",
      "[mcmc] Learn + convergence test @ 4080 samples accepted.\n",
      "[mcmc]  - Acceptance rate: 0.260\n",
      "[mcmc]  - Convergence of means: R-1 = 0.007804 after 3264 accepted steps\n",
      "[mcmc]  - Convergence of bounds: R-1 = 0.108663 after 4080 accepted steps\n",
      "[mcmc]  - Updated covariance matrix of proposal pdf.\n",
      "[mcmc] Learn + convergence test @ 4200 samples accepted.\n",
      "[mcmc]  - Acceptance rate: 0.258\n",
      "[mcmc]  - Convergence of means: R-1 = 0.008228 after 3360 accepted steps\n",
      "[mcmc]  - Convergence of bounds: R-1 = 0.115340 after 4200 accepted steps\n",
      "[mcmc]  - Updated covariance matrix of proposal pdf.\n",
      "[mcmc] Learn + convergence test @ 4320 samples accepted.\n",
      "[mcmc]  - Acceptance rate: 0.258\n",
      "[mcmc]  - Convergence of means: R-1 = 0.009872 after 3456 accepted steps\n",
      "[mcmc]  - Convergence of bounds: R-1 = 0.140423 after 4320 accepted steps\n",
      "[mcmc]  - Updated covariance matrix of proposal pdf.\n",
      "[mcmc] Learn + convergence test @ 4440 samples accepted.\n",
      "[mcmc]  - Acceptance rate: 0.259\n",
      "[mcmc]  - Convergence of means: R-1 = 0.015442 after 3552 accepted steps\n",
      "[mcmc]  - Convergence of bounds: R-1 = 0.164291 after 4440 accepted steps\n",
      "[mcmc]  - Updated covariance matrix of proposal pdf.\n",
      "[mcmc] Learn + convergence test @ 4560 samples accepted.\n",
      "[mcmc]  - Acceptance rate: 0.259\n",
      "[mcmc]  - Convergence of means: R-1 = 0.013165 after 3648 accepted steps\n",
      "[mcmc]  - Convergence of bounds: R-1 = 0.149074 after 4560 accepted steps\n",
      "[mcmc]  - Updated covariance matrix of proposal pdf.\n",
      "[mcmc] Learn + convergence test @ 4680 samples accepted.\n",
      "[mcmc]  - Acceptance rate: 0.259\n",
      "[mcmc]  - Convergence of means: R-1 = 0.009774 after 3744 accepted steps\n",
      "[mcmc]  - Convergence of bounds: R-1 = 0.145089 after 4680 accepted steps\n",
      "[mcmc]  - Updated covariance matrix of proposal pdf.\n",
      "[mcmc] Learn + convergence test @ 4800 samples accepted.\n",
      "[mcmc]  - Acceptance rate: 0.259\n",
      "[mcmc]  - Convergence of means: R-1 = 0.008537 after 3840 accepted steps\n",
      "[mcmc]  - Convergence of bounds: R-1 = 0.134511 after 4800 accepted steps\n",
      "[mcmc]  - Updated covariance matrix of proposal pdf.\n",
      "[mcmc] Learn + convergence test @ 4920 samples accepted.\n",
      "[mcmc]  - Acceptance rate: 0.259\n",
      "[mcmc]  - Convergence of means: R-1 = 0.009133 after 3936 accepted steps\n",
      "[mcmc]  - Convergence of bounds: R-1 = 0.135839 after 4920 accepted steps\n",
      "[mcmc]  - Updated covariance matrix of proposal pdf.\n",
      "[mcmc] Learn + convergence test @ 5040 samples accepted.\n",
      "[mcmc]  - Acceptance rate: 0.259\n",
      "[mcmc]  - Convergence of means: R-1 = 0.008085 after 4032 accepted steps\n",
      "[mcmc]  - Convergence of bounds: R-1 = 0.095860 after 5040 accepted steps\n",
      "[mcmc] The run has converged!\n",
      "[mcmc] Sampling complete after 5040 accepted steps.\n"
     ]
    }
   ],
   "source": [
    "info_GW = {\n",
    "    \"likelihood\": {\n",
    "        \"external\": lnlgw},\n",
    "    \"params\": dict([\n",
    "        (\"omega_m\", {\n",
    "            \"prior\": \n",
    "            { \"min\" : 0, \"max\": 1}, \"ref\": 0.1,\n",
    "            \"latex\": r\"\\Omega_m\",\"proposal\":0.001}),\n",
    "        (\"n\", {\n",
    "            \"prior\": {\"min\" : -40, \"max\": 4}, \"ref\": 1.1,\n",
    "            \"latex\": r\"n\",\"proposal\":0.001}),\n",
    "       (\"h0\", {\n",
    "            \"prior\": {\"min\" : 0.6, \"max\": 0.8}, \"ref\": 0.7,\n",
    "            \"latex\": r\"h\",\"proposal\":0.001}) ]),\n",
    "\"sampler\": {\n",
    "    \"mcmc\": {\"burn_in\": 300, \"max_samples\": 10000000, \"Rminus1_stop\": 0.1, \"Rminus1_cl_stop\": 0.1, \"learn_proposal\": True}}}\n",
    "\n",
    "updated_info_GW, sampler_GW = run(info_GW)"
   ]
  },
  {
   "cell_type": "code",
   "execution_count": 6,
   "id": "04b10a72",
   "metadata": {},
   "outputs": [
    {
     "name": "stdout",
     "output_type": "stream",
     "text": [
      "[root] *WARNING* outlier fraction 0.0017006802721088435 \n",
      "Mean:\n",
      "[  0.47761801 -15.91400296   0.70457625]\n",
      "1 sigma:\n",
      "[ 0.23450669 12.28480817  0.04923945]\n",
      "Covariance matrix:\n",
      "[[ 5.49933874e-02 -5.78677648e-01 -7.56570255e-03]\n",
      " [-5.78677648e-01  1.50916512e+02 -1.26503643e-01]\n",
      " [-7.56570255e-03 -1.26503643e-01  2.42452352e-03]]\n"
     ]
    },
    {
     "data": {
      "image/png": "[encoded data removed]",
      "text/plain": [
       "<Figure size 360x360 with 6 Axes>"
      ]
     },
     "metadata": {
      "needs_background": "light"
     },
     "output_type": "display_data"
    }
   ],
   "source": [
    "from cobaya.run import run\n",
    "from getdist.mcsamples import MCSamplesFromCobaya\n",
    "import getdist.plots as gdplt\n",
    "\n",
    "gdsamples_GW = MCSamplesFromCobaya(updated_info_GW, sampler_GW.products()[\"sample\"],ignore_rows=0.3)\n",
    "gdplot = gdplt.getSubplotPlotter(width_inch=5)\n",
    "gdplot.triangle_plot(gdsamples_GW, [\"omega_m\", \"n\", \"h0\"], filled=True)\n",
    "mean = gdsamples_GW.getMeans()[:3]\n",
    "sigma = np.sqrt(np.array(gdsamples_GW.getVars()[:3]))\n",
    "covmat = gdsamples_GW.getCovMat().matrix[:3, :3]\n",
    "# plt.savefig(\"figures/GWTCcobaya.pdf\", format=\"pdf\", bbox_inches=\"tight\")\n",
    "print(\"Mean:\")\n",
    "print(mean)\n",
    "print(\"1 sigma:\")\n",
    "print(sigma)\n",
    "print(\"Covariance matrix:\")\n",
    "print(covmat) "
   ]
  },
  {
   "cell_type": "markdown",
   "id": "18dc8df6",
   "metadata": {},
   "source": [
    "# GW and PN Cobaya"
   ]
  },
  {
   "cell_type": "code",
   "execution_count": 21,
   "id": "bf3aa8ad",
   "metadata": {},
   "outputs": [
    {
     "ename": "AxisError",
     "evalue": "axis 1 is out of bounds for array of dimension 1",
     "output_type": "error",
     "traceback": [
      "\u001b[0;31m---------------------------------------------------------------------------\u001b[0m",
      "\u001b[0;31mAxisError\u001b[0m                                 Traceback (most recent call last)",
      "\u001b[1;32m/media/ash/1tb/github/HubbleConstant-ConstraintsForVCG/Python Codes/Cobaya_Pantheon.ipynb Cell 24\u001b[0m in \u001b[0;36m<cell line: 3>\u001b[0;34m()\u001b[0m\n\u001b[1;32m      <a href='vscode-notebook-cell:/media/ash/1tb/github/HubbleConstant-ConstraintsForVCG/Python%20Codes/Cobaya_Pantheon.ipynb#X50sZmlsZQ%3D%3D?line=1'>2</a>\u001b[0m b \u001b[39m=\u001b[39m np\u001b[39m.\u001b[39marray([\u001b[39m1\u001b[39m,\u001b[39m2\u001b[39m])\n\u001b[1;32m      <a href='vscode-notebook-cell:/media/ash/1tb/github/HubbleConstant-ConstraintsForVCG/Python%20Codes/Cobaya_Pantheon.ipynb#X50sZmlsZQ%3D%3D?line=2'>3</a>\u001b[0m \u001b[39mfor\u001b[39;00m i \u001b[39min\u001b[39;00m \u001b[39mrange\u001b[39m(\u001b[39m5\u001b[39m):\n\u001b[0;32m----> <a href='vscode-notebook-cell:/media/ash/1tb/github/HubbleConstant-ConstraintsForVCG/Python%20Codes/Cobaya_Pantheon.ipynb#X50sZmlsZQ%3D%3D?line=3'>4</a>\u001b[0m     a \u001b[39m=\u001b[39m np\u001b[39m.\u001b[39;49mappend(a,b,axis\u001b[39m=\u001b[39;49m\u001b[39m1\u001b[39;49m)\n\u001b[1;32m      <a href='vscode-notebook-cell:/media/ash/1tb/github/HubbleConstant-ConstraintsForVCG/Python%20Codes/Cobaya_Pantheon.ipynb#X50sZmlsZQ%3D%3D?line=4'>5</a>\u001b[0m a\n",
      "File \u001b[0;32m<__array_function__ internals>:5\u001b[0m, in \u001b[0;36mappend\u001b[0;34m(*args, **kwargs)\u001b[0m\n",
      "File \u001b[0;32m/usr/lib/python3/dist-packages/numpy/lib/function_base.py:4817\u001b[0m, in \u001b[0;36mappend\u001b[0;34m(arr, values, axis)\u001b[0m\n\u001b[1;32m   4815\u001b[0m     values \u001b[39m=\u001b[39m ravel(values)\n\u001b[1;32m   4816\u001b[0m     axis \u001b[39m=\u001b[39m arr\u001b[39m.\u001b[39mndim\u001b[39m-\u001b[39m\u001b[39m1\u001b[39m\n\u001b[0;32m-> 4817\u001b[0m \u001b[39mreturn\u001b[39;00m concatenate((arr, values), axis\u001b[39m=\u001b[39;49maxis)\n",
      "File \u001b[0;32m<__array_function__ internals>:5\u001b[0m, in \u001b[0;36mconcatenate\u001b[0;34m(*args, **kwargs)\u001b[0m\n",
      "\u001b[0;31mAxisError\u001b[0m: axis 1 is out of bounds for array of dimension 1"
     ]
    }
   ],
   "source": [
    "a = np.array([])\n",
    "b = np.array([1,2])\n",
    "for i in range(5):\n",
    "    a = np.append(a,b,axis=1)\n",
    "a"
   ]
  },
  {
   "cell_type": "code",
   "execution_count": 18,
   "id": "fdba843a",
   "metadata": {},
   "outputs": [
    {
     "name": "stdout",
     "output_type": "stream",
     "text": [
      "[root] *WARNING* outlier fraction 0.02738095238095238 \n",
      "GW Mean: \n",
      "[0.12346399 0.75236569 0.68956787]\n",
      "GW Covariance matrix:\n",
      "[[ 7.54444596e-03 -1.03710396e-02 -1.76298925e-04]\n",
      " [-1.03710396e-02  6.26785627e-01 -4.89651561e-03]\n",
      " [-1.76298925e-04 -4.89651561e-03  3.54000395e-04]]\n"
     ]
    },
    {
     "data": {
      "image/png": "[encoded data removed]",
      "text/plain": [
       "<Figure size 432x432 with 6 Axes>"
      ]
     },
     "metadata": {
      "needs_background": "light"
     },
     "output_type": "display_data"
    }
   ],
   "source": [
    "# Export the results to GetDist\n",
    "\n",
    "\n",
    "# gd_sample_PS = MCSamplesFromCobaya(updated_info_PS, sampler_PS.products()[\"sample\"])\n",
    "# # Analyze and plot\n",
    "# mean_PS = gd_sample_PS.getMeans()[:3]\n",
    "# covmat_PS = gd_sample_PS.getCovMat().matrix[:3, :3]\n",
    "# print(\"PS Mean:\")\n",
    "# print(mean_PS)\n",
    "# print(\"PS Covariance matrix:\")\n",
    "# print(covmat_PS)\n",
    "\n",
    "\n",
    "# gd_sample_SN = MCSamplesFromCobaya(updated_info_SN, sampler_SN.products()[\"sample\"])\n",
    "# # Analyze and plot\n",
    "# mean_SN = gd_sample_SN.getMeans()[:3]\n",
    "# covmat_SN = gd_sample_SN.getCovMat().matrix[:3, :3]\n",
    "# print(\" SCP Mean:\")\n",
    "# print(mean_SN)\n",
    "# print(\"SCP Covariance matrix:\")\n",
    "# print(covmat_SN)\n",
    "\n",
    "\n",
    "# \n",
    "gdsamples_GW = MCSamplesFromCobaya(updated_info_GW, sampler_GW.products()[\"sample\"],ignore_rows=0.3)\n",
    "# Analyze and plot\n",
    "mean_GW = gdsamples_GW.getMeans()[:3]\n",
    "covmat_GW = gdsamples_GW.getCovMat().matrix[:3, :3]\n",
    "print(\"GW Mean: \")\n",
    "print(mean_GW)\n",
    "print(\"GW Covariance matrix:\")\n",
    "print(covmat_GW)\n",
    "\n",
    "\n",
    "\n",
    "g = gdplt.get_subplot_plotter()\n",
    "g.settings.figure_legend_frame = False\n",
    "g.settings.alpha_filled_add=0.4\n",
    "g.settings.title_limit_fontsize = 14\n",
    "g.triangle_plot([gdsamples_PS, gdsamples_GW], [\"omega_m\", \"n\", \"h0\"], \n",
    "    filled=True, \n",
    "    legend_labels=['Pantheon Sample', 'GWTC-3'], \n",
    "    legend_loc='upper right', \n",
    "    line_args=[{'lw':2,'ls':'--', 'color':'red'},\n",
    "               {'lw':2, 'color':'darkblue'}], \n",
    "    contour_colors=['red','darkblue'],\n",
    "#     title_limit=1, # first title limit (for 1D plots) is 68% by default\n",
    "#     markers={'h0':0}\n",
    "               )\n",
    "plt.savefig(\"figures/GWPantheonCobaya.pdf\", format=\"pdf\", bbox_inches=\"tight\")"
   ]
  },
  {
   "cell_type": "markdown",
   "id": "d573d438",
   "metadata": {},
   "source": [
    "# PN and SCP Cobaya"
   ]
  },
  {
   "cell_type": "code",
   "execution_count": 9,
   "id": "939e8e30",
   "metadata": {},
   "outputs": [
    {
     "name": "stdout",
     "output_type": "stream",
     "text": [
      "[root] *WARNING* outlier fraction 0.019444444444444445 \n",
      "PS Mean:\n",
      "[0.09389865 0.52383324 0.70319113]\n",
      "PS Covariance matrix:\n",
      "[[ 1.11719950e-03 -9.55077611e-03  1.17876760e-04]\n",
      " [-9.55077611e-03  8.73718082e-02 -1.17816617e-03]\n",
      " [ 1.17876760e-04 -1.17816617e-03  1.94236364e-05]]\n",
      "[root] *WARNING* outlier fraction 0.041666666666666664 \n",
      " SCP Mean:\n",
      "[0.09281775 0.58847061 0.69317363]\n",
      "SCP Covariance matrix:\n",
      "[[ 2.50110852e-03 -1.95706095e-02  1.08091202e-04]\n",
      " [-1.95706095e-02  2.06412273e-01 -2.32518322e-03]\n",
      " [ 1.08091202e-04 -2.32518322e-03  8.88939973e-05]]\n"
     ]
    },
    {
     "data": {
      "image/png": "[encoded data removed]",
      "text/plain": [
       "<Figure size 432x432 with 6 Axes>"
      ]
     },
     "metadata": {
      "needs_background": "light"
     },
     "output_type": "display_data"
    }
   ],
   "source": [
    "# Export the results to GetDist\n",
    "\n",
    "\n",
    "gd_sample_PS = MCSamplesFromCobaya(updated_info_PS, sampler_PS.products()[\"sample\"])\n",
    "# Analyze and plot\n",
    "mean_PS = gd_sample_PS.getMeans()[:3]\n",
    "covmat_PS = gd_sample_PS.getCovMat().matrix[:3, :3]\n",
    "print(\"PS Mean:\")\n",
    "print(mean_PS)\n",
    "print(\"PS Covariance matrix:\")\n",
    "print(covmat_PS)\n",
    "\n",
    "\n",
    "gd_sample_SN = MCSamplesFromCobaya(updated_info_SN, sampler_SN.products()[\"sample\"])\n",
    "# Analyze and plot\n",
    "mean_SN = gd_sample_SN.getMeans()[:3]\n",
    "covmat_SN = gd_sample_SN.getCovMat().matrix[:3, :3]\n",
    "print(\" SCP Mean:\")\n",
    "print(mean_SN)\n",
    "print(\"SCP Covariance matrix:\")\n",
    "print(covmat_SN)\n",
    "\n",
    "\n",
    "# gdplot_GW = gdplt.get_subplot_plotter()\n",
    "# gdplot_GW.triangle_plot(gd_sample_GW, [\"omega_m\", \"n\", \"h0\"], filled=True)\n",
    "# gd_sample_GW = MCSamplesFromCobaya(updated_info_GW, sampler_GW.products()[\"sample\"])\n",
    "# # Analyze and plot\n",
    "# mean_GW = gd_sample_GW.getMeans()[:3]\n",
    "# covmat_GW = gd_sample_GW.getCovMat().matrix[:3, :3]\n",
    "# print(\"GW Mean: \")\n",
    "# print(mean_GW)\n",
    "# print(\"GW Covariance matrix:\")\n",
    "# print(covmat_GW)\n",
    "g = gdplt.get_subplot_plotter()\n",
    "g.settings.figure_legend_frame = False\n",
    "g.settings.alpha_filled_add=0.4\n",
    "g.settings.title_limit_fontsize = 14\n",
    "g.triangle_plot([gd_sample_PS, gd_sample_SN], [\"omega_m\", \"n\", \"h0\"], \n",
    "    filled=True, \n",
    "    legend_labels=['Pantheon Sample', 'SCP Union 2.1'], \n",
    "    legend_loc='upper right', \n",
    "    line_args=[{'lw':2,'ls':'--', 'color':'red'},\n",
    "               {'lw':2, 'color':'darkblue'}], \n",
    "    contour_colors=['red','darkblue'],\n",
    "#     title_limit=1, # first title limit (for 1D plots) is 68% by default\n",
    "#     markers={'h0':0}\n",
    "               )\n",
    "plt.savefig(\"figures/SCPPantheonCobaya.pdf\", format=\"pdf\", bbox_inches=\"tight\")\n",
    "\n",
    "\n"
   ]
  },
  {
   "cell_type": "markdown",
   "id": "60b0c763",
   "metadata": {},
   "source": [
    "# GW and SCP Cobaya"
   ]
  },
  {
   "cell_type": "code",
   "execution_count": 8,
   "id": "f901a0d2",
   "metadata": {},
   "outputs": [
    {
     "name": "stdout",
     "output_type": "stream",
     "text": [
      "[root] *WARNING* outlier fraction 0.059027777777777776 \n",
      " SCP Mean:\n",
      "[0.08049946 0.69251186 0.69184335]\n",
      "SCP Covariance matrix:\n",
      "[[ 2.98394601e-03 -2.37095830e-02  1.15902798e-04]\n",
      " [-2.37095830e-02  2.38084126e-01 -2.35651812e-03]\n",
      " [ 1.15902798e-04 -2.35651812e-03  9.41285755e-05]]\n",
      "[root] *WARNING* outlier fraction 0.033928571428571426 \n",
      "GW Mean: \n",
      "[0.135344   0.77702507 0.68914128]\n",
      "GW Covariance matrix:\n",
      "[[ 7.06302677e-03 -1.58472956e-02 -9.44896220e-05]\n",
      " [-1.58472956e-02  5.81484451e-01 -4.72740451e-03]\n",
      " [-9.44896220e-05 -4.72740451e-03  3.52861424e-04]]\n"
     ]
    },
    {
     "ename": "NameError",
     "evalue": "name 'gd_sample_PS' is not defined",
     "output_type": "error",
     "traceback": [
      "\u001b[0;31m---------------------------------------------------------------------------\u001b[0m",
      "\u001b[0;31mNameError\u001b[0m                                 Traceback (most recent call last)",
      "\u001b[0;32m/tmp/ipykernel_2191032/1026262314.py\u001b[0m in \u001b[0;36m<cell line: 39>\u001b[0;34m()\u001b[0m\n\u001b[1;32m     37\u001b[0m \u001b[0mg\u001b[0m\u001b[0;34m.\u001b[0m\u001b[0msettings\u001b[0m\u001b[0;34m.\u001b[0m\u001b[0malpha_filled_add\u001b[0m\u001b[0;34m=\u001b[0m\u001b[0;36m0.4\u001b[0m\u001b[0;34m\u001b[0m\u001b[0;34m\u001b[0m\u001b[0m\n\u001b[1;32m     38\u001b[0m \u001b[0mg\u001b[0m\u001b[0;34m.\u001b[0m\u001b[0msettings\u001b[0m\u001b[0;34m.\u001b[0m\u001b[0mtitle_limit_fontsize\u001b[0m \u001b[0;34m=\u001b[0m \u001b[0;36m14\u001b[0m\u001b[0;34m\u001b[0m\u001b[0;34m\u001b[0m\u001b[0m\n\u001b[0;32m---> 39\u001b[0;31m g.triangle_plot([gd_sample_PS, gd_sample_GW], [\"omega_m\", \"n\", \"h0\"], \n\u001b[0m\u001b[1;32m     40\u001b[0m     \u001b[0mfilled\u001b[0m\u001b[0;34m=\u001b[0m\u001b[0;32mTrue\u001b[0m\u001b[0;34m,\u001b[0m\u001b[0;34m\u001b[0m\u001b[0;34m\u001b[0m\u001b[0m\n\u001b[1;32m     41\u001b[0m     \u001b[0mlegend_labels\u001b[0m\u001b[0;34m=\u001b[0m\u001b[0;34m[\u001b[0m\u001b[0;34m'SCP Union 2.1'\u001b[0m\u001b[0;34m,\u001b[0m \u001b[0;34m'GWTC-3'\u001b[0m\u001b[0;34m]\u001b[0m\u001b[0;34m,\u001b[0m\u001b[0;34m\u001b[0m\u001b[0;34m\u001b[0m\u001b[0m\n",
      "\u001b[0;31mNameError\u001b[0m: name 'gd_sample_PS' is not defined"
     ]
    }
   ],
   "source": [
    "# Export the results to GetDist\n",
    "\n",
    "\n",
    "# gd_sample_PS = MCSamplesFromCobaya(updated_info_PS, sampler_PS.products()[\"sample\"])\n",
    "# # Analyze and plot\n",
    "# mean_PS = gd_sample_PS.getMeans()[:3]\n",
    "# covmat_PS = gd_sample_PS.getCovMat().matrix[:3, :3]\n",
    "# print(\"PS Mean:\")\n",
    "# print(mean_PS)\n",
    "# print(\"PS Covariance matrix:\")\n",
    "# print(covmat_PS)\n",
    "\n",
    "\n",
    "gd_sample_SN = MCSamplesFromCobaya(updated_info_SN, sampler_SN.products()[\"sample\"])\n",
    "# Analyze and plot\n",
    "mean_SN = gd_sample_SN.getMeans()[:3]\n",
    "covmat_SN = gd_sample_SN.getCovMat().matrix[:3, :3]\n",
    "print(\" SCP Mean:\")\n",
    "print(mean_SN)\n",
    "print(\"SCP Covariance matrix:\")\n",
    "print(covmat_SN)\n",
    "\n",
    "\n",
    "gd_sample_GW = MCSamplesFromCobaya(updated_info_GW, sampler_GW.products()[\"sample\"])\n",
    "# Analyze and plot\n",
    "mean_GW = gd_sample_GW.getMeans()[:3]\n",
    "covmat_GW = gd_sample_GW.getCovMat().matrix[:3, :3]\n",
    "print(\"GW Mean: \")\n",
    "print(mean_GW)\n",
    "print(\"GW Covariance matrix:\")\n",
    "print(covmat_GW)\n",
    "\n",
    "\n",
    "\n"
   ]
  },
  {
   "cell_type": "code",
   "execution_count": 9,
   "id": "7f21fbc2",
   "metadata": {
    "scrolled": true
   },
   "outputs": [
    {
     "data": {
      "image/png": "[encoded data removed]",
      "text/plain": [
       "<Figure size 432x432 with 6 Axes>"
      ]
     },
     "metadata": {
      "needs_background": "light"
     },
     "output_type": "display_data"
    }
   ],
   "source": [
    "g = gdplt.get_subplot_plotter()\n",
    "g.settings.figure_legend_frame = False\n",
    "g.settings.alpha_filled_add=0.4\n",
    "g.settings.title_limit_fontsize = 14\n",
    "g.triangle_plot([gd_sample_SN, gd_sample_GW], [\"omega_m\", \"n\", \"h0\"], \n",
    "    filled=True, \n",
    "    legend_labels=['SCP Union 2.1', 'GWTC-3'], \n",
    "    legend_loc='upper right', \n",
    "    line_args=[{'lw':2,'ls':'--', 'color':'red'},\n",
    "               {'lw':2, 'color':'darkblue'}], \n",
    "    contour_colors=['red','darkblue'],\n",
    "#     title_limit=1, # first title limit (for 1D plots) is 68% by default\n",
    "#     markers={'h0':0}\n",
    "               )\n",
    "plt.savefig(\"figures/SCPGWCobaya.pdf\", format=\"pdf\", bbox_inches=\"tight\")"
   ]
  },
  {
   "cell_type": "markdown",
   "id": "8a5baef3",
   "metadata": {},
   "source": [
    "# GW PS SCP Cobaya"
   ]
  },
  {
   "cell_type": "code",
   "execution_count": 11,
   "id": "36b8cbb6",
   "metadata": {
    "scrolled": false
   },
   "outputs": [
    {
     "name": "stdout",
     "output_type": "stream",
     "text": [
      "[root] *WARNING* outlier fraction 0.024404761904761905 \n",
      "[root] *WARNING* outlier fraction 0.021111111111111112 \n"
     ]
    },
    {
     "ename": "NameError",
     "evalue": "name 'updated_info_GW' is not defined",
     "output_type": "error",
     "traceback": [
      "\u001b[0;31m---------------------------------------------------------------------------\u001b[0m",
      "\u001b[0;31mNameError\u001b[0m                                 Traceback (most recent call last)",
      "\u001b[0;32m/tmp/ipykernel_2192173/1280616111.py\u001b[0m in \u001b[0;36m<cell line: 11>\u001b[0;34m()\u001b[0m\n\u001b[1;32m      9\u001b[0m \u001b[0;34m\u001b[0m\u001b[0m\n\u001b[1;32m     10\u001b[0m \u001b[0;34m\u001b[0m\u001b[0m\n\u001b[0;32m---> 11\u001b[0;31m \u001b[0mgd_sample_GW\u001b[0m \u001b[0;34m=\u001b[0m \u001b[0mMCSamplesFromCobaya\u001b[0m\u001b[0;34m(\u001b[0m\u001b[0mupdated_info_GW\u001b[0m\u001b[0;34m,\u001b[0m \u001b[0msampler_GW\u001b[0m\u001b[0;34m.\u001b[0m\u001b[0mproducts\u001b[0m\u001b[0;34m(\u001b[0m\u001b[0;34m)\u001b[0m\u001b[0;34m[\u001b[0m\u001b[0;34m\"sample\"\u001b[0m\u001b[0;34m]\u001b[0m\u001b[0;34m)\u001b[0m\u001b[0;34m\u001b[0m\u001b[0;34m\u001b[0m\u001b[0m\n\u001b[0m\u001b[1;32m     12\u001b[0m \u001b[0;34m\u001b[0m\u001b[0m\n\u001b[1;32m     13\u001b[0m \u001b[0mg\u001b[0m \u001b[0;34m=\u001b[0m \u001b[0mgdplt\u001b[0m\u001b[0;34m.\u001b[0m\u001b[0mget_subplot_plotter\u001b[0m\u001b[0;34m(\u001b[0m\u001b[0;34m)\u001b[0m\u001b[0;34m\u001b[0m\u001b[0;34m\u001b[0m\u001b[0m\n",
      "\u001b[0;31mNameError\u001b[0m: name 'updated_info_GW' is not defined"
     ]
    }
   ],
   "source": [
    "# Export the results to GetDist\n",
    "\n",
    "\n",
    "gdsamples_PS = MCSamplesFromCobaya(updated_info_PS, sampler_PS.products()[\"sample\"])\n",
    "\n",
    "\n",
    "gdsamples_SN = MCSamplesFromCobaya(updated_info_SN, sampler_SN.products()[\"sample\"])\n",
    "\n",
    "\n",
    "\n"
   ]
  },
  {
   "cell_type": "code",
   "execution_count": 15,
   "id": "0bb78587",
   "metadata": {},
   "outputs": [
    {
     "name": "stdout",
     "output_type": "stream",
     "text": [
      "[root] *WARNING* outlier fraction 0.033928571428571426 \n"
     ]
    },
    {
     "ename": "NameError",
     "evalue": "name 'gdsamples_GW' is not defined",
     "output_type": "error",
     "traceback": [
      "\u001b[0;31m---------------------------------------------------------------------------\u001b[0m",
      "\u001b[0;31mNameError\u001b[0m                                 Traceback (most recent call last)",
      "\u001b[0;32m/tmp/ipykernel_2192173/277919404.py\u001b[0m in \u001b[0;36m<cell line: 7>\u001b[0;34m()\u001b[0m\n\u001b[1;32m      5\u001b[0m \u001b[0mg\u001b[0m\u001b[0;34m.\u001b[0m\u001b[0msettings\u001b[0m\u001b[0;34m.\u001b[0m\u001b[0malpha_filled_add\u001b[0m\u001b[0;34m=\u001b[0m\u001b[0;36m0.4\u001b[0m\u001b[0;34m\u001b[0m\u001b[0;34m\u001b[0m\u001b[0m\n\u001b[1;32m      6\u001b[0m \u001b[0mg\u001b[0m\u001b[0;34m.\u001b[0m\u001b[0msettings\u001b[0m\u001b[0;34m.\u001b[0m\u001b[0mtitle_limit_fontsize\u001b[0m \u001b[0;34m=\u001b[0m \u001b[0;36m14\u001b[0m\u001b[0;34m\u001b[0m\u001b[0;34m\u001b[0m\u001b[0m\n\u001b[0;32m----> 7\u001b[0;31m g.triangle_plot([gdsamples_PS, gdsamples_SN, gdsamples_GW], [\"omega_m\", \"n\", \"h0\"], \n\u001b[0m\u001b[1;32m      8\u001b[0m     \u001b[0mfilled\u001b[0m\u001b[0;34m=\u001b[0m\u001b[0;32mTrue\u001b[0m\u001b[0;34m,\u001b[0m\u001b[0;34m\u001b[0m\u001b[0;34m\u001b[0m\u001b[0m\n\u001b[1;32m      9\u001b[0m     \u001b[0mlegend_labels\u001b[0m\u001b[0;34m=\u001b[0m\u001b[0;34m[\u001b[0m\u001b[0;34m'Pantheon Sample'\u001b[0m\u001b[0;34m,\u001b[0m \u001b[0;34m'SCP Union 2.1'\u001b[0m\u001b[0;34m,\u001b[0m \u001b[0;34m'GWTC-3'\u001b[0m\u001b[0;34m]\u001b[0m\u001b[0;34m,\u001b[0m\u001b[0;34m\u001b[0m\u001b[0;34m\u001b[0m\u001b[0m\n",
      "\u001b[0;31mNameError\u001b[0m: name 'gdsamples_GW' is not defined"
     ]
    }
   ],
   "source": [
    "gd_sample_GW = MCSamplesFromCobaya(updated_info_GW, sampler_GW.products()[\"sample\"])\n"
   ]
  },
  {
   "cell_type": "code",
   "execution_count": 17,
   "id": "7d841ac7",
   "metadata": {},
   "outputs": [
    {
     "data": {
      "image/png": "[encoded data removed]",
      "text/plain": [
       "<Figure size 432x432 with 6 Axes>"
      ]
     },
     "metadata": {
      "needs_background": "light"
     },
     "output_type": "display_data"
    }
   ],
   "source": [
    "\n",
    "g = gdplt.get_subplot_plotter()\n",
    "g.settings.figure_legend_frame = False\n",
    "g.settings.alpha_filled_add=0.4\n",
    "g.settings.title_limit_fontsize = 14\n",
    "g.triangle_plot([gdsamples_PS, gdsamples_SN, gd_sample_GW], [\"omega_m\", \"n\", \"h0\"], \n",
    "    filled=True, \n",
    "    legend_labels=['Pantheon Sample', 'SCP Union 2.1', 'GWTC-3'], \n",
    "    legend_loc='upper right', \n",
    "    line_args=[{'lw':2,'ls':'--', 'color':'red'},\n",
    "               {'lw':2, 'color':'darkblue'},\n",
    "               {'lw':2, 'color':'green'}], \n",
    "    contour_colors=['red','darkblue','green'],\n",
    "#     title_limit=1, # first title limit (for 1D plots) is 68% by default\n",
    "#     markers={'h0':0}\n",
    "               )\n",
    "plt.savefig(\"figures/PantheonSCPGWCobaya.pdf\", format=\"pdf\", bbox_inches=\"tight\")"
   ]
  }
 ],
 "metadata": {
  "kernelspec": {
   "display_name": "Python 3.10.4 64-bit",
   "language": "python",
   "name": "python3"
  },
  "language_info": {
   "codemirror_mode": {
    "name": "ipython",
    "version": 3
   },
   "file_extension": ".py",
   "mimetype": "text/x-python",
   "name": "python",
   "nbconvert_exporter": "python",
   "pygments_lexer": "ipython3",
   "version": "3.10.12"
  },
  "vscode": {
   "interpreter": {
    "hash": "916dbcbb3f70747c44a77c7bcd40155683ae19c65e1c03b4aa3499c5328201f1"
   }
  }
 },
 "nbformat": 4,
 "nbformat_minor": 5
}
