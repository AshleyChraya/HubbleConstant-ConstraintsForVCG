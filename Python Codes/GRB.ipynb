{
 "cells": [
  {
   "cell_type": "code",
   "execution_count": 1,
   "id": "6296b6ea",
   "metadata": {},
   "outputs": [],
   "source": [
    "import numpy as np\n",
    "import pandas as pd\n",
    "import math\n",
    "import scipy.integrate\n",
    "from scipy import constants\n",
    "from scipy import stats\n",
    "import scipy.integrate\n",
    "import matplotlib.pyplot as plt\n",
    "from scipy.optimize import minimize\n",
    "import sympy as sp\n",
    "%matplotlib inline\n",
    "from mpl_toolkits import mplot3d\n",
    "from mpl_toolkits.mplot3d import Axes3D\n",
    "from scipy.integrate import quad\n",
    "from getdist import plots, MCSamples\n",
    "import getdist\n",
    "from scipy import interpolate\n",
    "from scipy.interpolate import interp1d\n",
    "plt.rcParams[\"figure.figsize\"] = (20,18)\n",
    "plt.style.use('/media/ash/1tb/github/HubbleConstant-ConstraintsForVCG/standard.mplstyle')"
   ]
  },
  {
   "attachments": {},
   "cell_type": "markdown",
   "id": "1ce89569",
   "metadata": {},
   "source": [
    "# Platinum data importation"
   ]
  },
  {
   "cell_type": "code",
   "execution_count": 2,
   "id": "de1a84e8",
   "metadata": {},
   "outputs": [],
   "source": [
    "#Platinum Sample \n",
    "#PLATINUM 50 isotropic (only minimizer)\n",
    "GS1data=pd.read_csv(\"platinum50.txt\", sep=\"\\t\")\n",
    "\n",
    "ide=GS1data[\"GRBID\"].to_numpy()\n",
    "#Fluxes\n",
    "logFp=np.log10(GS1data[\"EnergyFlux\"].to_numpy()) # conversion to logarithm\n",
    "logFa=GS1data[\"logFa\"].to_numpy()\n",
    "Fp=10**(logFp)\n",
    "Fa=10**(logFa)\n",
    "\n",
    "# Errors in Fluxes\n",
    "logFperr=np.array(GS1data[\"EnergyFluxerr\"].to_numpy()/(Fp*np.log(10)) ) #using $\\delta$logf=$\\delta$f/(f*ln10)\n",
    "logFaerr=(GS1data[\"logFa_max\"].to_numpy()-GS1data[\"logFa_min\"].to_numpy())/2\n",
    "Fa_err=logFaerr*np.log(10)*Fa\n",
    "Fp_err=np.array(GS1data[\"EnergyFluxerr\"].to_numpy())\n",
    "\n",
    "                \n",
    "# K correction in flux equation\n",
    "Kp=GS1data[\"Kprompt\"].to_numpy()\n",
    "Ka=GS1data[\"kplateau\"].to_numpy()\n",
    "Kp_err=GS1data[\"KPrompterror\"].to_numpy()\n",
    "Ka_err=GS1data[\"dk\"].to_numpy()\n",
    "\n",
    "\n",
    "z=GS1data[\"z\"].to_numpy() \n",
    "\n",
    "#Main terms                \n",
    "logLp=GS1data[\"logLpeak\"].to_numpy()\n",
    "logLa=GS1data[\"logLumTa\"].to_numpy()\n",
    "logLp_err=GS1data[\"logLpeakerr\"].to_numpy()\n",
    "logLa_err=GS1data[\"logLumTaErr\"].to_numpy()\n",
    "logTa_rest=GS1data[\"logTa_best\"].to_numpy()-np.log10(1+z) # 2nd term is added to make Ta in rest frame\n",
    "logTaerr=(GS1data[\"logTa_max\"].to_numpy()-GS1data[\"logTa_min\"].to_numpy())/2\n",
    "\n",
    "Ta_rest=10**(logTa_rest)\n",
    "Lp=10**(logLp)\n",
    "La=10**(logLa)\n",
    "Ta_err=logTaerr*np.log(10)*Ta_rest\n",
    "Lp_err=logLp_err*np.log(10)*Lp\n",
    "La_err=logLa_err*np.log(10)*La\n",
    "\n",
    "# Corrected Flux by the K correction\n",
    "Fpcor = Fp * Kp\n",
    "Facor = Fa * Ka\n",
    "\n",
    "logFpcor = logFp + np.log10(Kp)\n",
    "logFacor = logFa + np.log10(Ka)\n",
    "\n",
    "                \n",
    "                \n",
    "# Corrected flux error by K correction\n",
    "Fperrcor = ((Fp * Kp_err) ** 2 + (Kp * Fp_err) ** 2) ** 0.5\n",
    "Faerrcor = ((Fa * Ka_err) ** 2 + (Ka * Fa_err) ** 2) ** 0.5\n",
    "\n",
    "\n",
    "logFaerrcor = Faerrcor / (Facor * np.log(10))\n",
    "logFperrcor = Fperrcor / (Fpcor * np.log(10))\n"
   ]
  },
  {
   "cell_type": "code",
   "execution_count": 6,
   "id": "763bfd1d",
   "metadata": {},
   "outputs": [
    {
     "name": "stdout",
     "output_type": "stream",
     "text": [
      "[agostini] Initialized external likelihood.\n",
      "[mcmc] Getting initial point... (this may take a few seconds)\n",
      "[model] Measuring speeds... (this may take a few seconds)\n",
      "[model] Setting measured speeds (per sec): {agostini: 96.6}\n",
      "[mcmc] Covariance matrix not present. We will start learning the covariance of the proposal earlier: R-1 = 30 (would be 2 if all params loaded).\n",
      "[mcmc] Initial point: a:-0.85, b:0.49, sv:0.34, omega_m:0.1, n:1.2, H0:70\n",
      "[mcmc] Sampling! (NB: no accepted step will be saved until 300 burn-in samples have been obtained)\n",
      "[mcmc] Progress @ 2023-05-25 17:40:03 : 1 steps taken -- still burning in, 300 accepted steps left.\n",
      "[mcmc] Finished burn-in phase: discarded 300 accepted steps.\n",
      "[mcmc] Learn + convergence test @ 240 samples accepted.\n",
      "[mcmc]  - Acceptance rate: 0.393\n",
      "[mcmc]  - Convergence of means: R-1 = 37.271863 after 192 accepted steps\n",
      "[mcmc] Convergence less than requested for updates: waiting until the next convergence check.\n",
      "[mcmc] Learn + convergence test @ 480 samples accepted.\n",
      "[mcmc]  - Acceptance rate: 0.421\n",
      "[mcmc]  - Convergence of means: R-1 = 16.902855 after 384 accepted steps\n",
      "[mcmc]  - Updated covariance matrix of proposal pdf.\n",
      "[mcmc] Learn + convergence test @ 720 samples accepted.\n",
      "[mcmc]  - Acceptance rate: 0.516\n",
      "[mcmc]  - Convergence of means: R-1 = 12.664032 after 576 accepted steps\n",
      "[mcmc]  - Updated covariance matrix of proposal pdf.\n"
     ]
    },
    {
     "name": "stderr",
     "output_type": "stream",
     "text": [
      "/tmp/ipykernel_11765/1396171900.py:23: RuntimeWarning: invalid value encountered in double_scalars\n",
      "  ((1-omega_b0-omega_r0)*((omega_m*(1+x)**6)+(1-omega_m)*(1+x)**n)**(0.5)/(1+x)**(4)))**(0.5))\n",
      "/tmp/ipykernel_11765/1396171900.py:29: IntegrationWarning: The occurrence of roundoff error is detected, which prevents \n",
      "  the requested tolerance from being achieved.  The error may be \n",
      "  underestimated.\n",
      "  I = quad(integrand, 0, i, args=(omega_m, n))\n"
     ]
    },
    {
     "name": "stdout",
     "output_type": "stream",
     "text": [
      "[mcmc] Learn + convergence test @ 960 samples accepted.\n",
      "[mcmc]  - Acceptance rate: 0.525\n",
      "[mcmc]  - Convergence of means: R-1 = 14.471706 after 768 accepted steps\n",
      "[mcmc]  - Updated covariance matrix of proposal pdf.\n"
     ]
    },
    {
     "name": "stderr",
     "output_type": "stream",
     "text": [
      "/tmp/ipykernel_11765/1396171900.py:23: RuntimeWarning: invalid value encountered in double_scalars\n",
      "  ((1-omega_b0-omega_r0)*((omega_m*(1+x)**6)+(1-omega_m)*(1+x)**n)**(0.5)/(1+x)**(4)))**(0.5))\n",
      "/tmp/ipykernel_11765/1396171900.py:29: IntegrationWarning: The occurrence of roundoff error is detected, which prevents \n",
      "  the requested tolerance from being achieved.  The error may be \n",
      "  underestimated.\n",
      "  I = quad(integrand, 0, i, args=(omega_m, n))\n",
      "/tmp/ipykernel_11765/1396171900.py:23: RuntimeWarning: invalid value encountered in double_scalars\n",
      "  ((1-omega_b0-omega_r0)*((omega_m*(1+x)**6)+(1-omega_m)*(1+x)**n)**(0.5)/(1+x)**(4)))**(0.5))\n",
      "/tmp/ipykernel_11765/1396171900.py:29: IntegrationWarning: The occurrence of roundoff error is detected, which prevents \n",
      "  the requested tolerance from being achieved.  The error may be \n",
      "  underestimated.\n",
      "  I = quad(integrand, 0, i, args=(omega_m, n))\n"
     ]
    },
    {
     "name": "stdout",
     "output_type": "stream",
     "text": [
      "[mcmc] Learn + convergence test @ 1200 samples accepted.\n",
      "[mcmc]  - Acceptance rate: 0.503\n",
      "[mcmc]  - Convergence of means: R-1 = 11.546033 after 960 accepted steps\n",
      "[mcmc]  - Updated covariance matrix of proposal pdf.\n"
     ]
    },
    {
     "name": "stderr",
     "output_type": "stream",
     "text": [
      "/tmp/ipykernel_11765/1396171900.py:23: RuntimeWarning: invalid value encountered in double_scalars\n",
      "  ((1-omega_b0-omega_r0)*((omega_m*(1+x)**6)+(1-omega_m)*(1+x)**n)**(0.5)/(1+x)**(4)))**(0.5))\n",
      "/tmp/ipykernel_11765/1396171900.py:29: IntegrationWarning: The occurrence of roundoff error is detected, which prevents \n",
      "  the requested tolerance from being achieved.  The error may be \n",
      "  underestimated.\n",
      "  I = quad(integrand, 0, i, args=(omega_m, n))\n"
     ]
    },
    {
     "name": "stdout",
     "output_type": "stream",
     "text": [
      "[mcmc] Learn + convergence test @ 1440 samples accepted.\n",
      "[mcmc]  - Acceptance rate: 0.488\n",
      "[mcmc]  - Convergence of means: R-1 = 8.128437 after 1152 accepted steps\n",
      "[mcmc]  - Updated covariance matrix of proposal pdf.\n"
     ]
    },
    {
     "name": "stderr",
     "output_type": "stream",
     "text": [
      "/tmp/ipykernel_11765/1396171900.py:23: RuntimeWarning: invalid value encountered in double_scalars\n",
      "  ((1-omega_b0-omega_r0)*((omega_m*(1+x)**6)+(1-omega_m)*(1+x)**n)**(0.5)/(1+x)**(4)))**(0.5))\n",
      "/tmp/ipykernel_11765/1396171900.py:29: IntegrationWarning: The occurrence of roundoff error is detected, which prevents \n",
      "  the requested tolerance from being achieved.  The error may be \n",
      "  underestimated.\n",
      "  I = quad(integrand, 0, i, args=(omega_m, n))\n",
      "/tmp/ipykernel_11765/1396171900.py:23: RuntimeWarning: invalid value encountered in double_scalars\n",
      "  ((1-omega_b0-omega_r0)*((omega_m*(1+x)**6)+(1-omega_m)*(1+x)**n)**(0.5)/(1+x)**(4)))**(0.5))\n",
      "/tmp/ipykernel_11765/1396171900.py:29: IntegrationWarning: The occurrence of roundoff error is detected, which prevents \n",
      "  the requested tolerance from being achieved.  The error may be \n",
      "  underestimated.\n",
      "  I = quad(integrand, 0, i, args=(omega_m, n))\n"
     ]
    },
    {
     "name": "stdout",
     "output_type": "stream",
     "text": [
      "[mcmc] Progress @ 2023-05-25 17:41:03 : 4238 steps taken, and 1578 accepted.\n"
     ]
    },
    {
     "name": "stderr",
     "output_type": "stream",
     "text": [
      "/tmp/ipykernel_11765/1396171900.py:23: RuntimeWarning: invalid value encountered in double_scalars\n",
      "  ((1-omega_b0-omega_r0)*((omega_m*(1+x)**6)+(1-omega_m)*(1+x)**n)**(0.5)/(1+x)**(4)))**(0.5))\n",
      "/tmp/ipykernel_11765/1396171900.py:29: IntegrationWarning: The occurrence of roundoff error is detected, which prevents \n",
      "  the requested tolerance from being achieved.  The error may be \n",
      "  underestimated.\n",
      "  I = quad(integrand, 0, i, args=(omega_m, n))\n"
     ]
    },
    {
     "name": "stdout",
     "output_type": "stream",
     "text": [
      "[mcmc] Learn + convergence test @ 1680 samples accepted.\n",
      "[mcmc]  - Acceptance rate: 0.464\n",
      "[mcmc]  - Convergence of means: R-1 = 3.072572 after 1344 accepted steps\n",
      "[mcmc]  - Updated covariance matrix of proposal pdf.\n"
     ]
    },
    {
     "name": "stderr",
     "output_type": "stream",
     "text": [
      "/tmp/ipykernel_11765/1396171900.py:23: RuntimeWarning: invalid value encountered in double_scalars\n",
      "  ((1-omega_b0-omega_r0)*((omega_m*(1+x)**6)+(1-omega_m)*(1+x)**n)**(0.5)/(1+x)**(4)))**(0.5))\n",
      "/tmp/ipykernel_11765/1396171900.py:29: IntegrationWarning: The occurrence of roundoff error is detected, which prevents \n",
      "  the requested tolerance from being achieved.  The error may be \n",
      "  underestimated.\n",
      "  I = quad(integrand, 0, i, args=(omega_m, n))\n",
      "/tmp/ipykernel_11765/1396171900.py:23: RuntimeWarning: invalid value encountered in double_scalars\n",
      "  ((1-omega_b0-omega_r0)*((omega_m*(1+x)**6)+(1-omega_m)*(1+x)**n)**(0.5)/(1+x)**(4)))**(0.5))\n",
      "/tmp/ipykernel_11765/1396171900.py:29: IntegrationWarning: The occurrence of roundoff error is detected, which prevents \n",
      "  the requested tolerance from being achieved.  The error may be \n",
      "  underestimated.\n",
      "  I = quad(integrand, 0, i, args=(omega_m, n))\n"
     ]
    },
    {
     "name": "stdout",
     "output_type": "stream",
     "text": [
      "[mcmc] Learn + convergence test @ 1920 samples accepted.\n",
      "[mcmc]  - Acceptance rate: 0.442\n",
      "[mcmc]  - Convergence of means: R-1 = 1.349781 after 1536 accepted steps\n",
      "[mcmc]  - Updated covariance matrix of proposal pdf.\n"
     ]
    },
    {
     "name": "stderr",
     "output_type": "stream",
     "text": [
      "/tmp/ipykernel_11765/1396171900.py:23: RuntimeWarning: invalid value encountered in double_scalars\n",
      "  ((1-omega_b0-omega_r0)*((omega_m*(1+x)**6)+(1-omega_m)*(1+x)**n)**(0.5)/(1+x)**(4)))**(0.5))\n",
      "/tmp/ipykernel_11765/1396171900.py:29: IntegrationWarning: The occurrence of roundoff error is detected, which prevents \n",
      "  the requested tolerance from being achieved.  The error may be \n",
      "  underestimated.\n",
      "  I = quad(integrand, 0, i, args=(omega_m, n))\n",
      "/tmp/ipykernel_11765/1396171900.py:23: RuntimeWarning: invalid value encountered in double_scalars\n",
      "  ((1-omega_b0-omega_r0)*((omega_m*(1+x)**6)+(1-omega_m)*(1+x)**n)**(0.5)/(1+x)**(4)))**(0.5))\n",
      "/tmp/ipykernel_11765/1396171900.py:29: IntegrationWarning: The occurrence of roundoff error is detected, which prevents \n",
      "  the requested tolerance from being achieved.  The error may be \n",
      "  underestimated.\n",
      "  I = quad(integrand, 0, i, args=(omega_m, n))\n"
     ]
    },
    {
     "name": "stdout",
     "output_type": "stream",
     "text": [
      "[mcmc] Learn + convergence test @ 2160 samples accepted.\n",
      "[mcmc]  - Acceptance rate: 0.416\n",
      "[mcmc]  - Convergence of means: R-1 = 0.960383 after 1728 accepted steps\n",
      "[mcmc]  - Updated covariance matrix of proposal pdf.\n"
     ]
    },
    {
     "name": "stderr",
     "output_type": "stream",
     "text": [
      "/tmp/ipykernel_11765/1396171900.py:23: RuntimeWarning: invalid value encountered in double_scalars\n",
      "  ((1-omega_b0-omega_r0)*((omega_m*(1+x)**6)+(1-omega_m)*(1+x)**n)**(0.5)/(1+x)**(4)))**(0.5))\n",
      "/tmp/ipykernel_11765/1396171900.py:29: IntegrationWarning: The occurrence of roundoff error is detected, which prevents \n",
      "  the requested tolerance from being achieved.  The error may be \n",
      "  underestimated.\n",
      "  I = quad(integrand, 0, i, args=(omega_m, n))\n",
      "/tmp/ipykernel_11765/1396171900.py:23: RuntimeWarning: invalid value encountered in double_scalars\n",
      "  ((1-omega_b0-omega_r0)*((omega_m*(1+x)**6)+(1-omega_m)*(1+x)**n)**(0.5)/(1+x)**(4)))**(0.5))\n",
      "/tmp/ipykernel_11765/1396171900.py:29: IntegrationWarning: The occurrence of roundoff error is detected, which prevents \n",
      "  the requested tolerance from being achieved.  The error may be \n",
      "  underestimated.\n",
      "  I = quad(integrand, 0, i, args=(omega_m, n))\n"
     ]
    },
    {
     "name": "stdout",
     "output_type": "stream",
     "text": [
      "[mcmc] Learn + convergence test @ 2400 samples accepted.\n",
      "[mcmc]  - Acceptance rate: 0.392\n",
      "[mcmc]  - Convergence of means: R-1 = 0.425157 after 1920 accepted steps\n",
      "[mcmc]  - Updated covariance matrix of proposal pdf.\n"
     ]
    },
    {
     "name": "stderr",
     "output_type": "stream",
     "text": [
      "/tmp/ipykernel_11765/1396171900.py:23: RuntimeWarning: invalid value encountered in double_scalars\n",
      "  ((1-omega_b0-omega_r0)*((omega_m*(1+x)**6)+(1-omega_m)*(1+x)**n)**(0.5)/(1+x)**(4)))**(0.5))\n",
      "/tmp/ipykernel_11765/1396171900.py:29: IntegrationWarning: The occurrence of roundoff error is detected, which prevents \n",
      "  the requested tolerance from being achieved.  The error may be \n",
      "  underestimated.\n",
      "  I = quad(integrand, 0, i, args=(omega_m, n))\n"
     ]
    },
    {
     "name": "stdout",
     "output_type": "stream",
     "text": [
      "[mcmc] Progress @ 2023-05-25 17:42:03 : 7398 steps taken, and 2548 accepted.\n"
     ]
    },
    {
     "name": "stderr",
     "output_type": "stream",
     "text": [
      "/tmp/ipykernel_11765/1396171900.py:23: RuntimeWarning: invalid value encountered in double_scalars\n",
      "  ((1-omega_b0-omega_r0)*((omega_m*(1+x)**6)+(1-omega_m)*(1+x)**n)**(0.5)/(1+x)**(4)))**(0.5))\n",
      "/tmp/ipykernel_11765/1396171900.py:29: IntegrationWarning: The occurrence of roundoff error is detected, which prevents \n",
      "  the requested tolerance from being achieved.  The error may be \n",
      "  underestimated.\n",
      "  I = quad(integrand, 0, i, args=(omega_m, n))\n"
     ]
    },
    {
     "name": "stdout",
     "output_type": "stream",
     "text": [
      "[mcmc] Learn + convergence test @ 2640 samples accepted.\n",
      "[mcmc]  - Acceptance rate: 0.371\n",
      "[mcmc]  - Convergence of means: R-1 = 0.240865 after 2112 accepted steps\n",
      "[mcmc]  - Updated covariance matrix of proposal pdf.\n"
     ]
    },
    {
     "name": "stderr",
     "output_type": "stream",
     "text": [
      "/tmp/ipykernel_11765/1396171900.py:23: RuntimeWarning: invalid value encountered in double_scalars\n",
      "  ((1-omega_b0-omega_r0)*((omega_m*(1+x)**6)+(1-omega_m)*(1+x)**n)**(0.5)/(1+x)**(4)))**(0.5))\n",
      "/tmp/ipykernel_11765/1396171900.py:29: IntegrationWarning: The occurrence of roundoff error is detected, which prevents \n",
      "  the requested tolerance from being achieved.  The error may be \n",
      "  underestimated.\n",
      "  I = quad(integrand, 0, i, args=(omega_m, n))\n",
      "/tmp/ipykernel_11765/1396171900.py:23: RuntimeWarning: invalid value encountered in double_scalars\n",
      "  ((1-omega_b0-omega_r0)*((omega_m*(1+x)**6)+(1-omega_m)*(1+x)**n)**(0.5)/(1+x)**(4)))**(0.5))\n",
      "/tmp/ipykernel_11765/1396171900.py:29: IntegrationWarning: The occurrence of roundoff error is detected, which prevents \n",
      "  the requested tolerance from being achieved.  The error may be \n",
      "  underestimated.\n",
      "  I = quad(integrand, 0, i, args=(omega_m, n))\n"
     ]
    },
    {
     "name": "stdout",
     "output_type": "stream",
     "text": [
      "[mcmc] Learn + convergence test @ 2880 samples accepted.\n",
      "[mcmc]  - Acceptance rate: 0.359\n",
      "[mcmc]  - Convergence of means: R-1 = 0.272988 after 2304 accepted steps\n",
      "[mcmc]  - Updated covariance matrix of proposal pdf.\n"
     ]
    },
    {
     "name": "stderr",
     "output_type": "stream",
     "text": [
      "/tmp/ipykernel_11765/1396171900.py:23: RuntimeWarning: invalid value encountered in double_scalars\n",
      "  ((1-omega_b0-omega_r0)*((omega_m*(1+x)**6)+(1-omega_m)*(1+x)**n)**(0.5)/(1+x)**(4)))**(0.5))\n",
      "/tmp/ipykernel_11765/1396171900.py:29: IntegrationWarning: The occurrence of roundoff error is detected, which prevents \n",
      "  the requested tolerance from being achieved.  The error may be \n",
      "  underestimated.\n",
      "  I = quad(integrand, 0, i, args=(omega_m, n))\n",
      "/tmp/ipykernel_11765/1396171900.py:23: RuntimeWarning: invalid value encountered in double_scalars\n",
      "  ((1-omega_b0-omega_r0)*((omega_m*(1+x)**6)+(1-omega_m)*(1+x)**n)**(0.5)/(1+x)**(4)))**(0.5))\n",
      "/tmp/ipykernel_11765/1396171900.py:29: IntegrationWarning: The occurrence of roundoff error is detected, which prevents \n",
      "  the requested tolerance from being achieved.  The error may be \n",
      "  underestimated.\n",
      "  I = quad(integrand, 0, i, args=(omega_m, n))\n"
     ]
    },
    {
     "name": "stdout",
     "output_type": "stream",
     "text": [
      "[mcmc] Learn + convergence test @ 3120 samples accepted.\n",
      "[mcmc]  - Acceptance rate: 0.349\n",
      "[mcmc]  - Convergence of means: R-1 = 0.257540 after 2496 accepted steps\n",
      "[mcmc]  - Updated covariance matrix of proposal pdf.\n"
     ]
    },
    {
     "name": "stderr",
     "output_type": "stream",
     "text": [
      "/tmp/ipykernel_11765/1396171900.py:23: RuntimeWarning: invalid value encountered in double_scalars\n",
      "  ((1-omega_b0-omega_r0)*((omega_m*(1+x)**6)+(1-omega_m)*(1+x)**n)**(0.5)/(1+x)**(4)))**(0.5))\n",
      "/tmp/ipykernel_11765/1396171900.py:29: IntegrationWarning: The occurrence of roundoff error is detected, which prevents \n",
      "  the requested tolerance from being achieved.  The error may be \n",
      "  underestimated.\n",
      "  I = quad(integrand, 0, i, args=(omega_m, n))\n",
      "/tmp/ipykernel_11765/1396171900.py:23: RuntimeWarning: invalid value encountered in double_scalars\n",
      "  ((1-omega_b0-omega_r0)*((omega_m*(1+x)**6)+(1-omega_m)*(1+x)**n)**(0.5)/(1+x)**(4)))**(0.5))\n",
      "/tmp/ipykernel_11765/1396171900.py:29: IntegrationWarning: The occurrence of roundoff error is detected, which prevents \n",
      "  the requested tolerance from being achieved.  The error may be \n",
      "  underestimated.\n",
      "  I = quad(integrand, 0, i, args=(omega_m, n))\n"
     ]
    },
    {
     "name": "stdout",
     "output_type": "stream",
     "text": [
      "[mcmc] Progress @ 2023-05-25 17:43:03 : 10072 steps taken, and 3333 accepted.\n",
      "[mcmc] Learn + convergence test @ 3360 samples accepted.\n",
      "[mcmc]  - Acceptance rate: 0.337\n",
      "[mcmc]  - Convergence of means: R-1 = 0.222383 after 2688 accepted steps\n",
      "[mcmc]  - Updated covariance matrix of proposal pdf.\n"
     ]
    },
    {
     "name": "stderr",
     "output_type": "stream",
     "text": [
      "/tmp/ipykernel_11765/1396171900.py:23: RuntimeWarning: invalid value encountered in double_scalars\n",
      "  ((1-omega_b0-omega_r0)*((omega_m*(1+x)**6)+(1-omega_m)*(1+x)**n)**(0.5)/(1+x)**(4)))**(0.5))\n",
      "/tmp/ipykernel_11765/1396171900.py:29: IntegrationWarning: The occurrence of roundoff error is detected, which prevents \n",
      "  the requested tolerance from being achieved.  The error may be \n",
      "  underestimated.\n",
      "  I = quad(integrand, 0, i, args=(omega_m, n))\n",
      "/tmp/ipykernel_11765/1396171900.py:23: RuntimeWarning: invalid value encountered in double_scalars\n",
      "  ((1-omega_b0-omega_r0)*((omega_m*(1+x)**6)+(1-omega_m)*(1+x)**n)**(0.5)/(1+x)**(4)))**(0.5))\n",
      "/tmp/ipykernel_11765/1396171900.py:29: IntegrationWarning: The occurrence of roundoff error is detected, which prevents \n",
      "  the requested tolerance from being achieved.  The error may be \n",
      "  underestimated.\n",
      "  I = quad(integrand, 0, i, args=(omega_m, n))\n"
     ]
    },
    {
     "name": "stdout",
     "output_type": "stream",
     "text": [
      "[mcmc] Learn + convergence test @ 3600 samples accepted.\n",
      "[mcmc]  - Acceptance rate: 0.330\n",
      "[mcmc]  - Convergence of means: R-1 = 0.124530 after 2880 accepted steps\n",
      "[mcmc]  - Updated covariance matrix of proposal pdf.\n"
     ]
    },
    {
     "name": "stderr",
     "output_type": "stream",
     "text": [
      "/tmp/ipykernel_11765/1396171900.py:23: RuntimeWarning: invalid value encountered in double_scalars\n",
      "  ((1-omega_b0-omega_r0)*((omega_m*(1+x)**6)+(1-omega_m)*(1+x)**n)**(0.5)/(1+x)**(4)))**(0.5))\n",
      "/tmp/ipykernel_11765/1396171900.py:29: IntegrationWarning: The occurrence of roundoff error is detected, which prevents \n",
      "  the requested tolerance from being achieved.  The error may be \n",
      "  underestimated.\n",
      "  I = quad(integrand, 0, i, args=(omega_m, n))\n",
      "/tmp/ipykernel_11765/1396171900.py:23: RuntimeWarning: invalid value encountered in double_scalars\n",
      "  ((1-omega_b0-omega_r0)*((omega_m*(1+x)**6)+(1-omega_m)*(1+x)**n)**(0.5)/(1+x)**(4)))**(0.5))\n",
      "/tmp/ipykernel_11765/1396171900.py:29: IntegrationWarning: The occurrence of roundoff error is detected, which prevents \n",
      "  the requested tolerance from being achieved.  The error may be \n",
      "  underestimated.\n",
      "  I = quad(integrand, 0, i, args=(omega_m, n))\n"
     ]
    },
    {
     "name": "stdout",
     "output_type": "stream",
     "text": [
      "[mcmc] Learn + convergence test @ 3840 samples accepted.\n",
      "[mcmc]  - Acceptance rate: 0.325\n",
      "[mcmc]  - Convergence of means: R-1 = 0.127055 after 3072 accepted steps\n",
      "[mcmc]  - Updated covariance matrix of proposal pdf.\n"
     ]
    },
    {
     "name": "stderr",
     "output_type": "stream",
     "text": [
      "/tmp/ipykernel_11765/1396171900.py:23: RuntimeWarning: invalid value encountered in double_scalars\n",
      "  ((1-omega_b0-omega_r0)*((omega_m*(1+x)**6)+(1-omega_m)*(1+x)**n)**(0.5)/(1+x)**(4)))**(0.5))\n",
      "/tmp/ipykernel_11765/1396171900.py:29: IntegrationWarning: The occurrence of roundoff error is detected, which prevents \n",
      "  the requested tolerance from being achieved.  The error may be \n",
      "  underestimated.\n",
      "  I = quad(integrand, 0, i, args=(omega_m, n))\n"
     ]
    },
    {
     "name": "stdout",
     "output_type": "stream",
     "text": [
      "[mcmc] Progress @ 2023-05-25 17:44:03 : 12462 steps taken, and 4022 accepted.\n"
     ]
    },
    {
     "name": "stderr",
     "output_type": "stream",
     "text": [
      "/tmp/ipykernel_11765/1396171900.py:23: RuntimeWarning: invalid value encountered in double_scalars\n",
      "  ((1-omega_b0-omega_r0)*((omega_m*(1+x)**6)+(1-omega_m)*(1+x)**n)**(0.5)/(1+x)**(4)))**(0.5))\n",
      "/tmp/ipykernel_11765/1396171900.py:29: IntegrationWarning: The occurrence of roundoff error is detected, which prevents \n",
      "  the requested tolerance from being achieved.  The error may be \n",
      "  underestimated.\n",
      "  I = quad(integrand, 0, i, args=(omega_m, n))\n"
     ]
    },
    {
     "name": "stdout",
     "output_type": "stream",
     "text": [
      "[mcmc] Learn + convergence test @ 4080 samples accepted.\n",
      "[mcmc]  - Acceptance rate: 0.319\n",
      "[mcmc]  - Convergence of means: R-1 = 0.123550 after 3264 accepted steps\n",
      "[mcmc]  - Updated covariance matrix of proposal pdf.\n"
     ]
    },
    {
     "name": "stderr",
     "output_type": "stream",
     "text": [
      "/tmp/ipykernel_11765/1396171900.py:23: RuntimeWarning: invalid value encountered in double_scalars\n",
      "  ((1-omega_b0-omega_r0)*((omega_m*(1+x)**6)+(1-omega_m)*(1+x)**n)**(0.5)/(1+x)**(4)))**(0.5))\n",
      "/tmp/ipykernel_11765/1396171900.py:29: IntegrationWarning: The occurrence of roundoff error is detected, which prevents \n",
      "  the requested tolerance from being achieved.  The error may be \n",
      "  underestimated.\n",
      "  I = quad(integrand, 0, i, args=(omega_m, n))\n",
      "/tmp/ipykernel_11765/1396171900.py:23: RuntimeWarning: invalid value encountered in double_scalars\n",
      "  ((1-omega_b0-omega_r0)*((omega_m*(1+x)**6)+(1-omega_m)*(1+x)**n)**(0.5)/(1+x)**(4)))**(0.5))\n",
      "/tmp/ipykernel_11765/1396171900.py:29: IntegrationWarning: The occurrence of roundoff error is detected, which prevents \n",
      "  the requested tolerance from being achieved.  The error may be \n",
      "  underestimated.\n",
      "  I = quad(integrand, 0, i, args=(omega_m, n))\n"
     ]
    },
    {
     "name": "stdout",
     "output_type": "stream",
     "text": [
      "[mcmc] Learn + convergence test @ 4320 samples accepted.\n",
      "[mcmc]  - Acceptance rate: 0.312\n",
      "[mcmc]  - Convergence of means: R-1 = 0.155497 after 3456 accepted steps\n",
      "[mcmc]  - Updated covariance matrix of proposal pdf.\n"
     ]
    },
    {
     "name": "stderr",
     "output_type": "stream",
     "text": [
      "/tmp/ipykernel_11765/1396171900.py:23: RuntimeWarning: invalid value encountered in double_scalars\n",
      "  ((1-omega_b0-omega_r0)*((omega_m*(1+x)**6)+(1-omega_m)*(1+x)**n)**(0.5)/(1+x)**(4)))**(0.5))\n",
      "/tmp/ipykernel_11765/1396171900.py:29: IntegrationWarning: The occurrence of roundoff error is detected, which prevents \n",
      "  the requested tolerance from being achieved.  The error may be \n",
      "  underestimated.\n",
      "  I = quad(integrand, 0, i, args=(omega_m, n))\n",
      "/tmp/ipykernel_11765/1396171900.py:23: RuntimeWarning: invalid value encountered in double_scalars\n",
      "  ((1-omega_b0-omega_r0)*((omega_m*(1+x)**6)+(1-omega_m)*(1+x)**n)**(0.5)/(1+x)**(4)))**(0.5))\n",
      "/tmp/ipykernel_11765/1396171900.py:29: IntegrationWarning: The occurrence of roundoff error is detected, which prevents \n",
      "  the requested tolerance from being achieved.  The error may be \n",
      "  underestimated.\n",
      "  I = quad(integrand, 0, i, args=(omega_m, n))\n"
     ]
    },
    {
     "name": "stdout",
     "output_type": "stream",
     "text": [
      "[mcmc] Learn + convergence test @ 4560 samples accepted.\n",
      "[mcmc]  - Acceptance rate: 0.308\n",
      "[mcmc]  - Convergence of means: R-1 = 0.110952 after 3648 accepted steps\n",
      "[mcmc]  - Updated covariance matrix of proposal pdf.\n"
     ]
    },
    {
     "name": "stderr",
     "output_type": "stream",
     "text": [
      "/tmp/ipykernel_11765/1396171900.py:23: RuntimeWarning: invalid value encountered in double_scalars\n",
      "  ((1-omega_b0-omega_r0)*((omega_m*(1+x)**6)+(1-omega_m)*(1+x)**n)**(0.5)/(1+x)**(4)))**(0.5))\n",
      "/tmp/ipykernel_11765/1396171900.py:29: IntegrationWarning: The occurrence of roundoff error is detected, which prevents \n",
      "  the requested tolerance from being achieved.  The error may be \n",
      "  underestimated.\n",
      "  I = quad(integrand, 0, i, args=(omega_m, n))\n"
     ]
    },
    {
     "name": "stdout",
     "output_type": "stream",
     "text": [
      "[mcmc] Progress @ 2023-05-25 17:45:03 : 14773 steps taken, and 4625 accepted.\n"
     ]
    },
    {
     "name": "stderr",
     "output_type": "stream",
     "text": [
      "/tmp/ipykernel_11765/1396171900.py:23: RuntimeWarning: invalid value encountered in double_scalars\n",
      "  ((1-omega_b0-omega_r0)*((omega_m*(1+x)**6)+(1-omega_m)*(1+x)**n)**(0.5)/(1+x)**(4)))**(0.5))\n",
      "/tmp/ipykernel_11765/1396171900.py:29: IntegrationWarning: The occurrence of roundoff error is detected, which prevents \n",
      "  the requested tolerance from being achieved.  The error may be \n",
      "  underestimated.\n",
      "  I = quad(integrand, 0, i, args=(omega_m, n))\n"
     ]
    },
    {
     "name": "stdout",
     "output_type": "stream",
     "text": [
      "[mcmc] Learn + convergence test @ 4800 samples accepted.\n",
      "[mcmc]  - Acceptance rate: 0.304\n",
      "[mcmc]  - Convergence of means: R-1 = 0.083971 after 3840 accepted steps\n",
      "[mcmc]  - Updated covariance matrix of proposal pdf.\n"
     ]
    },
    {
     "name": "stderr",
     "output_type": "stream",
     "text": [
      "/tmp/ipykernel_11765/1396171900.py:23: RuntimeWarning: invalid value encountered in double_scalars\n",
      "  ((1-omega_b0-omega_r0)*((omega_m*(1+x)**6)+(1-omega_m)*(1+x)**n)**(0.5)/(1+x)**(4)))**(0.5))\n",
      "/tmp/ipykernel_11765/1396171900.py:29: IntegrationWarning: The occurrence of roundoff error is detected, which prevents \n",
      "  the requested tolerance from being achieved.  The error may be \n",
      "  underestimated.\n",
      "  I = quad(integrand, 0, i, args=(omega_m, n))\n",
      "/tmp/ipykernel_11765/1396171900.py:23: RuntimeWarning: invalid value encountered in double_scalars\n",
      "  ((1-omega_b0-omega_r0)*((omega_m*(1+x)**6)+(1-omega_m)*(1+x)**n)**(0.5)/(1+x)**(4)))**(0.5))\n",
      "/tmp/ipykernel_11765/1396171900.py:29: IntegrationWarning: The occurrence of roundoff error is detected, which prevents \n",
      "  the requested tolerance from being achieved.  The error may be \n",
      "  underestimated.\n",
      "  I = quad(integrand, 0, i, args=(omega_m, n))\n"
     ]
    },
    {
     "name": "stdout",
     "output_type": "stream",
     "text": [
      "[mcmc] Learn + convergence test @ 5040 samples accepted.\n",
      "[mcmc]  - Acceptance rate: 0.300\n",
      "[mcmc]  - Convergence of means: R-1 = 0.074015 after 4032 accepted steps\n",
      "[mcmc]  - Convergence of bounds: R-1 = 0.144289 after 5040 accepted steps\n",
      "[mcmc] The run has converged!\n",
      "[mcmc] Sampling complete after 5040 accepted steps.\n",
      "[root] *WARNING* outlier fraction 0.0002834467120181406 \n",
      "Using 3 sigma\n",
      "Mean\n",
      "[-0.87225621  0.4913421   1.06022459  0.19586999  1.44720645 70.40621038]\n",
      "1 sigma:\n",
      "[0.0690938  0.00436056 0.06493961 0.11883875 1.39744837 0.67431663]\n",
      "Covariance matrix:\n",
      "[[ 4.77395302e-03 -2.93299160e-04  3.89826890e-04  5.80583582e-04\n",
      "  -3.04593300e-03 -2.81036153e-04]\n",
      " [-2.93299160e-04  1.90144408e-05 -2.54838026e-05 -9.11120556e-05\n",
      "  -2.81418054e-04 -3.57424453e-05]\n",
      " [ 3.89826890e-04 -2.54838026e-05  4.21715356e-03 -2.49274538e-05\n",
      "   2.92584115e-03 -2.64319018e-03]\n",
      " [ 5.80583582e-04 -9.11120556e-05 -2.49274538e-05  1.41226473e-02\n",
      "  -3.71496591e-02 -4.44162212e-03]\n",
      " [-3.04593300e-03 -2.81418054e-04  2.92584115e-03 -3.71496591e-02\n",
      "   1.95286194e+00  4.30683022e-02]\n",
      " [-2.81036153e-04 -3.57424453e-05 -2.64319018e-03 -4.44162212e-03\n",
      "   4.30683022e-02  4.54702922e-01]]\n"
     ]
    },
    {
     "data": {
      "image/png": "[encoded data removed]",
      "text/plain": [
       "<Figure size 500x500 with 21 Axes>"
      ]
     },
     "metadata": {},
     "output_type": "display_data"
    }
   ],
   "source": [
    "#Varying Omega_M with Evolution\n",
    "#This means we apply k-correction to La, Lp, Fa, Fp \n",
    "\n",
    "conversionfrom_cm_to_Mpc=3.08567758*10**24\n",
    "def my_like(a, b, sv, omega_m, n,H0):\n",
    "    c = 25.4\n",
    "    a1 = a / (2 * (1 - b))\n",
    "    b1 = b / (2 * (1 - b))\n",
    "    c1 = (np.log10(4 * np.pi) * (b - 1) + c) / (2 * (1 - b))\n",
    "    d1 = -1.0 / (2 * (1 - b))\n",
    "    h = H0 / 100\n",
    "    #H0_s = H0 / (3.085677581491367 * 10 ** 19) # Converting Km and Mpc to cm\n",
    "    c_cm = scipy.constants.c * 100\n",
    "    ckm = 299792.458\n",
    "\n",
    "    omega_b0 = 0.0000245\n",
    "    omega_r0=0.02\n",
    "\n",
    "\n",
    "\n",
    "    def integrand(x, omega_m, n):\n",
    "        return 1/(pow((1+x),2)*(omega_r0+(omega_b0/(1+x))+\n",
    "        ((1-omega_b0-omega_r0)*((omega_m*(1+x)**6)+(1-omega_m)*(1+x)**n)**(0.5)/(1+x)**(4)))**(0.5))\n",
    "    \n",
    "    coefGRB=(ckm/H0)*(1+z)\n",
    "\n",
    "    d_par = np.array([])\n",
    "    for i in z:\n",
    "        I = quad(integrand, 0, i, args=(omega_m, n))\n",
    "        d_par = np.append(d_par, I[0])\n",
    "\n",
    "    #d = np.array(c_cm * (1 + zGRB) * d_par / H0_s)\n",
    "    d = np.array(coefGRB*d_par)\n",
    "    \n",
    "    logdl_th = np.log10(d)\n",
    "        \n",
    "    logint_obGRB = ((logTa_rest * a1) + (logFpcor * b1) + \n",
    "    c1 + (d1 * logFacor) - np.log10(conversionfrom_cm_to_Mpc))\n",
    "    \n",
    "    muth = 5 * logdl_th + 25\n",
    "    muob = (5 * logint_obGRB) + 25\n",
    "    sv_muob = np.sqrt((5 * a1 * logTaerr) ** 2 + (5 * b1 * logFperrcor) ** 2 +\n",
    "                      (5 * d1 * logFaerrcor) ** 2 + sv ** 2)\n",
    "    # Now we define the chi^2 for GRB\n",
    "    chi2_GRB = np.sum(((muth - muob)/(sv_muob))**2)\n",
    "    \n",
    "    #We take the loglikelihood defined in Equa. 17 of Sharov 2018, https://arxiv.org/pdf/1807.07323.pdf\n",
    "    \n",
    "    logliketotal= - np.sum(np.log(sv_muob)) - (1/2)*chi2_GRB\n",
    "    return(logliketotal)\n",
    "guess=[-0.85, 0.49, 0.34,0.3, 70]\n",
    "a,b,sv,O_m,H0=guess\n",
    "\n",
    "info = {\"likelihood\": {\"agostini\": my_like}} \n",
    "\n",
    "from collections import OrderedDict as odict\n",
    "#info related to the parameters inside the likelihood \n",
    "#Ref = reference value from which to start the MCMC chain, proposed confidence interval\n",
    "for i in range(3,4,1):\n",
    "    info[\"params\"] = odict([\n",
    "         [\"a\", {\n",
    "            \"prior\": \n",
    "            { \"dist\": \"norm\", \"loc\": -0.86, \"scale\": i*0.13},\n",
    "             \"ref\": a,\"proposal\":0.001}],\n",
    "        [\"b\", {\n",
    "            \"prior\": {\"dist\": \"norm\", \"loc\": 0.56, \"scale\": i*0.12},\n",
    "            \"ref\": b,\"proposal\":0.001}],\n",
    "        [\"sv\", {\n",
    "            \"prior\": {\"dist\": \"norm\", \"loc\": 0.34, \"scale\": i*0.04}, \n",
    "            \"ref\": sv, \"latex\":r\"\\sigma_{int}\",\"proposal\":0.001}],\n",
    "        [\"omega_m\", {\n",
    "            \"prior\": { \"dist\": \"norm\", \"loc\": 0.11, \"scale\": 5*0.03}, \"ref\": 0.1,\n",
    "            \"latex\": r\"B_s\",\"proposal\":0.001}],\n",
    "        [\"n\", {\n",
    "            \"prior\": {\"dist\": \"norm\", \"loc\": 1.25, \"scale\": 5*0.26}, \"ref\": 1.2,\n",
    "            \"latex\": r\"n\",\"proposal\":0.001}],\n",
    "       [\"H0\", {\n",
    "            \"prior\": {\"dist\": \"norm\", \"loc\":70.4, \"scale\": 5*0.13}, \"ref\": 70,\n",
    "            \"latex\": r\"H_0\",\"proposal\":0.001}] ])\n",
    "\n",
    "\n",
    "#Settings to start the MCMC chain # Gelman-Rubin test accuracy\n",
    "    info[\"sampler\"] = {\n",
    "    \"mcmc\": {\"burn_in\": 300, \"max_samples\": 10000000, \"Rminus1_stop\": 0.1,\n",
    "             \"Rminus1_cl_stop\": 0.2, \"learn_proposal\": True}}\n",
    "#info[\"output\"] = \"chains/agostini\"\n",
    "\n",
    "#load the settings defined in cobaya\n",
    "    from cobaya.run import run\n",
    "\n",
    "    updated_info, products = run(info)\n",
    "\n",
    "    from getdist.mcsamples import MCSamplesFromCobaya\n",
    "    import getdist.plots as gdplt\n",
    "\n",
    "    gdsamples = MCSamplesFromCobaya(updated_info, products.products()[\"sample\"],ignore_rows=0.3)\n",
    "    gdplot = gdplt.getSubplotPlotter(width_inch=5)\n",
    "#gdplot.triangle_plot(gdsamples, [\"O_k\"], filled=True)\n",
    "#gdplot.triangle_plot(gdsamples, [\"H0\",\"O_m\"], filled=True)\n",
    "#p1 = gdsamples.getParams()\n",
    "#O_m1=p1.O_m\n",
    "#gdsamples.addDerived(O_m1, name='O_m1', label=r\"\\Omega_{M}\")\n",
    "    gdplot.triangle_plot(gdsamples, [\"a\",\"b\",\"sv\",\"omega_m\", \"n\", \"H0\"], filled=True)\n",
    "\n",
    "    mean = gdsamples.getMeans()[:6]\n",
    "    sigma = np.sqrt(np.array(gdsamples.getVars()[:6]))\n",
    "    covmat = gdsamples.getCovMat().matrix[:6, :6]\n",
    "    plt. savefig(\"figures/grb.pdf\", format=\"pdf\", bbox_inches=\"tight\")\n",
    "    print(\"Using \"+ str(i) + \" sigma\")\n",
    "    print(\"Mean\")\n",
    "    print(mean)\n",
    "    print(\"1 sigma:\")\n",
    "    print(sigma)\n",
    "    print(\"Covariance matrix:\")\n",
    "    print(covmat)  "
   ]
  },
  {
   "cell_type": "code",
   "execution_count": null,
   "id": "b864ae33",
   "metadata": {},
   "outputs": [],
   "source": []
  }
 ],
 "metadata": {
  "kernelspec": {
   "display_name": "Python 3.10.4 64-bit",
   "language": "python",
   "name": "python3"
  },
  "language_info": {
   "codemirror_mode": {
    "name": "ipython",
    "version": 3
   },
   "file_extension": ".py",
   "mimetype": "text/x-python",
   "name": "python",
   "nbconvert_exporter": "python",
   "pygments_lexer": "ipython3",
   "version": "3.10.6"
  },
  "vscode": {
   "interpreter": {
    "hash": "916dbcbb3f70747c44a77c7bcd40155683ae19c65e1c03b4aa3499c5328201f1"
   }
  }
 },
 "nbformat": 4,
 "nbformat_minor": 5
}
