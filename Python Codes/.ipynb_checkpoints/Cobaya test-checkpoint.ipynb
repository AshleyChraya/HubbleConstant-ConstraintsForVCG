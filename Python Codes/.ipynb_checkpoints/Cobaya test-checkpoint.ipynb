{
 "cells": [
  {
   "cell_type": "code",
   "execution_count": 1,
   "id": "3e9c65e5",
   "metadata": {},
   "outputs": [],
   "source": [
    "info = {\n",
    "    \"likelihood\": {\n",
    "        \"gaussian_mixture\": {\n",
    "            \"means\": [0.2, 0],\n",
    "            \"covs\": [[0.1, 0.05],\n",
    "                     [0.05, 0.2]],\n",
    "            \"derived\": True}},\n",
    "    \"params\": dict([\n",
    "        (\"a\", {\n",
    "            \"prior\": {\"min\": -0.5, \"max\": 3},\n",
    "            \"latex\": r\"\\alpha\"}),\n",
    "        (\"b\", {\n",
    "            \"prior\": {\"dist\": \"norm\", \"loc\": 0, \"scale\": 1},\n",
    "            \"ref\": 0,\n",
    "            \"proposal\": 0.5,\n",
    "            \"latex\": r\"\\beta\"}),\n",
    "        (\"derived_a\", {\n",
    "            \"latex\": r\"\\alpha^\\prime\"}),\n",
    "        (\"derived_b\", {\n",
    "            \"latex\": r\"\\beta^\\prime\"})]),\n",
    "    \"sampler\": {\n",
    "        \"mcmc\": None}}"
   ]
  },
  {
   "cell_type": "code",
   "execution_count": 2,
   "id": "89e7b03a",
   "metadata": {
    "scrolled": true
   },
   "outputs": [
    {
     "name": "stdout",
     "output_type": "stream",
     "text": [
      "[mcmc] Getting initial point... (this may take a few seconds)\n",
      "[prior] Reference values or pdfs for some parameters were not provided. Sampling from the prior instead for those parameters.\n",
      "[model] Measuring speeds... (this may take a few seconds)\n",
      "[model] Setting measured speeds (per sec): {gaussian_mixture: 9000.0}\n",
      "[prior] *WARNING* Reference pdf not defined or improper for some parameters. Using prior's sigma instead for them.\n",
      "[mcmc] Covariance matrix not present. We will start learning the covariance of the proposal earlier: R-1 = 30 (would be 2 if all params loaded).\n",
      "[mcmc] Initial point: a:2.765199, b:0\n",
      "[mcmc] Sampling!\n",
      "[mcmc] Progress @ 2022-02-02 23:40:57 : 1 steps taken, and 0 accepted.\n",
      "[mcmc] Learn + convergence test @ 80 samples accepted.\n",
      "[mcmc]  - Acceptance rate: 0.231\n",
      "[mcmc]  - Convergence of means: R-1 = 0.483897 after 64 accepted steps\n",
      "[mcmc]  - Updated covariance matrix of proposal pdf.\n",
      "[mcmc] Learn + convergence test @ 160 samples accepted.\n",
      "[mcmc]  - Acceptance rate: 0.244\n",
      "[mcmc]  - Convergence of means: R-1 = 0.076310 after 128 accepted steps\n",
      "[mcmc]  - Updated covariance matrix of proposal pdf.\n",
      "[mcmc] Learn + convergence test @ 240 samples accepted.\n",
      "[mcmc]  - Acceptance rate: 0.260\n",
      "[mcmc]  - Convergence of means: R-1 = 0.050850 after 192 accepted steps\n",
      "[mcmc]  - Updated covariance matrix of proposal pdf.\n",
      "[mcmc] Learn + convergence test @ 320 samples accepted.\n",
      "[mcmc]  - Acceptance rate: 0.280\n",
      "[mcmc]  - Convergence of means: R-1 = 0.066683 after 256 accepted steps\n",
      "[mcmc]  - Updated covariance matrix of proposal pdf.\n",
      "[mcmc] Learn + convergence test @ 400 samples accepted.\n",
      "[mcmc]  - Acceptance rate: 0.301\n",
      "[mcmc]  - Convergence of means: R-1 = 0.054639 after 320 accepted steps\n",
      "[mcmc]  - Updated covariance matrix of proposal pdf.\n",
      "[mcmc] Learn + convergence test @ 480 samples accepted.\n",
      "[mcmc]  - Acceptance rate: 0.305\n",
      "[mcmc]  - Convergence of means: R-1 = 0.087733 after 384 accepted steps\n",
      "[mcmc]  - Updated covariance matrix of proposal pdf.\n",
      "[mcmc] Learn + convergence test @ 560 samples accepted.\n",
      "[mcmc]  - Acceptance rate: 0.307\n",
      "[mcmc]  - Convergence of means: R-1 = 0.057822 after 448 accepted steps\n",
      "[mcmc]  - Updated covariance matrix of proposal pdf.\n",
      "[mcmc] Learn + convergence test @ 640 samples accepted.\n",
      "[mcmc]  - Acceptance rate: 0.307\n",
      "[mcmc]  - Convergence of means: R-1 = 0.054797 after 512 accepted steps\n",
      "[mcmc]  - Updated covariance matrix of proposal pdf.\n",
      "[mcmc] Learn + convergence test @ 720 samples accepted.\n",
      "[mcmc]  - Acceptance rate: 0.311\n",
      "[mcmc]  - Convergence of means: R-1 = 0.039923 after 576 accepted steps\n",
      "[mcmc]  - Updated covariance matrix of proposal pdf.\n",
      "[mcmc] Learn + convergence test @ 800 samples accepted.\n",
      "[mcmc]  - Acceptance rate: 0.313\n",
      "[mcmc]  - Convergence of means: R-1 = 0.056658 after 640 accepted steps\n",
      "[mcmc]  - Updated covariance matrix of proposal pdf.\n",
      "[mcmc] Learn + convergence test @ 880 samples accepted.\n",
      "[mcmc]  - Acceptance rate: 0.322\n",
      "[mcmc]  - Convergence of means: R-1 = 0.039895 after 704 accepted steps\n",
      "[mcmc]  - Updated covariance matrix of proposal pdf.\n",
      "[mcmc] Learn + convergence test @ 960 samples accepted.\n",
      "[mcmc]  - Acceptance rate: 0.318\n",
      "[mcmc]  - Convergence of means: R-1 = 0.029412 after 768 accepted steps\n",
      "[mcmc]  - Updated covariance matrix of proposal pdf.\n",
      "[mcmc] Learn + convergence test @ 1040 samples accepted.\n",
      "[mcmc]  - Acceptance rate: 0.315\n",
      "[mcmc]  - Convergence of means: R-1 = 0.030956 after 832 accepted steps\n",
      "[mcmc]  - Updated covariance matrix of proposal pdf.\n",
      "[mcmc] Learn + convergence test @ 1120 samples accepted.\n",
      "[mcmc]  - Acceptance rate: 0.315\n",
      "[mcmc]  - Convergence of means: R-1 = 0.022851 after 896 accepted steps\n",
      "[mcmc]  - Updated covariance matrix of proposal pdf.\n",
      "[mcmc] Learn + convergence test @ 1200 samples accepted.\n",
      "[mcmc]  - Acceptance rate: 0.314\n",
      "[mcmc]  - Convergence of means: R-1 = 0.012384 after 960 accepted steps\n",
      "[mcmc]  - Updated covariance matrix of proposal pdf.\n",
      "[mcmc] Learn + convergence test @ 1280 samples accepted.\n",
      "[mcmc]  - Acceptance rate: 0.314\n",
      "[mcmc]  - Convergence of means: R-1 = 0.001425 after 1024 accepted steps\n",
      "[mcmc]  - Updated covariance matrix of proposal pdf.\n",
      "[mcmc] Learn + convergence test @ 1360 samples accepted.\n",
      "[mcmc]  - Acceptance rate: 0.311\n",
      "[mcmc]  - Convergence of means: R-1 = 0.010613 after 1088 accepted steps\n",
      "[mcmc]  - Updated covariance matrix of proposal pdf.\n",
      "[mcmc] Learn + convergence test @ 1440 samples accepted.\n",
      "[mcmc]  - Acceptance rate: 0.311\n",
      "[mcmc]  - Convergence of means: R-1 = 0.007736 after 1152 accepted steps\n",
      "[mcmc]  - Updated covariance matrix of proposal pdf.\n",
      "[mcmc] Learn + convergence test @ 1520 samples accepted.\n",
      "[mcmc]  - Acceptance rate: 0.306\n",
      "[mcmc]  - Convergence of means: R-1 = 0.012616 after 1216 accepted steps\n",
      "[mcmc]  - Updated covariance matrix of proposal pdf.\n",
      "[mcmc] Learn + convergence test @ 1600 samples accepted.\n",
      "[mcmc]  - Acceptance rate: 0.308\n",
      "[mcmc]  - Convergence of means: R-1 = 0.009288 after 1280 accepted steps\n",
      "[mcmc]  - Updated covariance matrix of proposal pdf.\n",
      "[mcmc] Learn + convergence test @ 1680 samples accepted.\n",
      "[mcmc]  - Acceptance rate: 0.305\n",
      "[mcmc]  - Convergence of means: R-1 = 0.003704 after 1344 accepted steps\n",
      "[mcmc]  - Convergence of bounds: R-1 = 0.114290 after 1680 accepted steps\n",
      "[mcmc] The run has converged!\n",
      "[mcmc] Sampling complete after 1680 accepted steps.\n"
     ]
    }
   ],
   "source": [
    "from cobaya.run import run\n",
    "\n",
    "updated_info, sampler = run(info)"
   ]
  },
  {
   "cell_type": "code",
   "execution_count": 3,
   "id": "62d5561a",
   "metadata": {},
   "outputs": [
    {
     "name": "stdout",
     "output_type": "stream",
     "text": [
      "[root] *WARNING* outlier fraction 0.02142857142857143 \n",
      "Mean:\n",
      "[ 0.21816959 -0.01201924]\n",
      "Covariance matrix:\n",
      "[[0.10514062 0.04164878]\n",
      " [0.04164878 0.17519256]]\n"
     ]
    },
    {
     "data": {
      "image/png": "[encoded data removed]",
      "text/plain": [
       "<Figure size 288x288 with 3 Axes>"
      ]
     },
     "metadata": {
      "needs_background": "light"
     },
     "output_type": "display_data"
    }
   ],
   "source": [
    "# Export the results to GetDist\n",
    "from getdist.mcsamples import MCSamplesFromCobaya\n",
    "\n",
    "gd_sample = MCSamplesFromCobaya(updated_info, sampler.products()[\"sample\"])\n",
    "# Analyze and plot\n",
    "mean = gd_sample.getMeans()[:2]\n",
    "covmat = gd_sample.getCovMat().matrix[:2, :2]\n",
    "print(\"Mean:\")\n",
    "print(mean)\n",
    "print(\"Covariance matrix:\")\n",
    "print(covmat)\n",
    "# %matplotlib inline  # uncomment if running from the Jupyter notebook\n",
    "import getdist.plots as gdplt\n",
    "\n",
    "gdplot = gdplt.get_subplot_plotter()\n",
    "gdplot.triangle_plot(gd_sample, [\"a\", \"b\"], filled=True)"
   ]
  }
 ],
 "metadata": {
  "kernelspec": {
   "display_name": "Python 3",
   "language": "python",
   "name": "python3"
  },
  "language_info": {
   "codemirror_mode": {
    "name": "ipython",
    "version": 3
   },
   "file_extension": ".py",
   "mimetype": "text/x-python",
   "name": "python",
   "nbconvert_exporter": "python",
   "pygments_lexer": "ipython3",
   "version": "3.8.8"
  }
 },
 "nbformat": 4,
 "nbformat_minor": 5
}
