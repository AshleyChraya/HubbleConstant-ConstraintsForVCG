{
 "cells": [
  {
   "cell_type": "code",
   "execution_count": 1,
   "id": "761e3cd0",
   "metadata": {},
   "outputs": [],
   "source": [
    "import numpy as np\n",
    "import pandas as pd\n",
    "import math\n",
    "import scipy.integrate\n",
    "from scipy import constants\n",
    "from scipy import stats\n",
    "import scipy.integrate\n",
    "import matplotlib.pyplot as plt\n",
    "from scipy.optimize import minimize\n",
    "import sympy as sp\n",
    "%matplotlib inline\n",
    "from mpl_toolkits import mplot3d\n",
    "from mpl_toolkits.mplot3d import Axes3D\n",
    "from scipy.integrate import quad\n",
    "from getdist import plots, MCSamples\n",
    "import getdist\n",
    "from scipy import interpolate\n",
    "from scipy.interpolate import interp1d\n",
    "from math import sqrt,pow,log\n",
    "plt.rcParams[\"figure.figsize\"] = (20,18)\n",
    "plt.style.use('/media/ash/1tb/github/HubbleConstant-ConstraintsForVCG/standard.mplstyle')"
   ]
  },
  {
   "attachments": {},
   "cell_type": "markdown",
   "id": "f43bfb6c",
   "metadata": {},
   "source": [
    "# GRB"
   ]
  },
  {
   "cell_type": "code",
   "execution_count": 2,
   "id": "5f15e330",
   "metadata": {},
   "outputs": [],
   "source": [
    "#Platinum Sample \n",
    "#PLATINUM 50 isotropic (only minimizer)\n",
    "GS1data=pd.read_csv(\"platinum50.txt\", sep=\"\\t\")\n",
    "\n",
    "ide=GS1data[\"GRBID\"].to_numpy()\n",
    "#Fluxes\n",
    "logFp=np.log10(GS1data[\"EnergyFlux\"].to_numpy()) # conversion to logarithm\n",
    "logFa=GS1data[\"logFa\"].to_numpy()\n",
    "Fp=10**(logFp)\n",
    "Fa=10**(logFa)\n",
    "\n",
    "# Errors in Fluxes\n",
    "logFperr=np.array(GS1data[\"EnergyFluxerr\"].to_numpy()/(Fp*np.log(10)) ) #using $\\delta$logf=$\\delta$f/(f*ln10)\n",
    "logFaerr=(GS1data[\"logFa_max\"].to_numpy()-GS1data[\"logFa_min\"].to_numpy())/2\n",
    "Fa_err=logFaerr*np.log(10)*Fa\n",
    "Fp_err=np.array(GS1data[\"EnergyFluxerr\"].to_numpy())\n",
    "\n",
    "                \n",
    "# K correction in flux equation\n",
    "Kp=GS1data[\"Kprompt\"].to_numpy()\n",
    "Ka=GS1data[\"kplateau\"].to_numpy()\n",
    "Kp_err=GS1data[\"KPrompterror\"].to_numpy()\n",
    "Ka_err=GS1data[\"dk\"].to_numpy()\n",
    "\n",
    "\n",
    "z_grb=GS1data[\"z\"].to_numpy() \n",
    "\n",
    "#Main terms                \n",
    "logLp=GS1data[\"logLpeak\"].to_numpy()\n",
    "logLa=GS1data[\"logLumTa\"].to_numpy()\n",
    "logLp_err=GS1data[\"logLpeakerr\"].to_numpy()\n",
    "logLa_err=GS1data[\"logLumTaErr\"].to_numpy()\n",
    "logTa_rest=GS1data[\"logTa_best\"].to_numpy()-np.log10(1+z_grb) # 2nd term is added to make Ta in rest frame\n",
    "logTaerr=(GS1data[\"logTa_max\"].to_numpy()-GS1data[\"logTa_min\"].to_numpy())/2\n",
    "\n",
    "Ta_rest=10**(logTa_rest)\n",
    "Lp=10**(logLp)\n",
    "La=10**(logLa)\n",
    "Ta_err=logTaerr*np.log(10)*Ta_rest\n",
    "Lp_err=logLp_err*np.log(10)*Lp\n",
    "La_err=logLa_err*np.log(10)*La\n",
    "\n",
    "# Corrected Flux by the K correction\n",
    "Fpcor = Fp * Kp\n",
    "Facor = Fa * Ka\n",
    "\n",
    "logFpcor = logFp + np.log10(Kp)\n",
    "logFacor = logFa + np.log10(Ka)\n",
    "\n",
    "                \n",
    "                \n",
    "# Corrected flux error by K correction\n",
    "Fperrcor = ((Fp * Kp_err) ** 2 + (Kp * Fp_err) ** 2) ** 0.5\n",
    "Faerrcor = ((Fa * Ka_err) ** 2 + (Ka * Fa_err) ** 2) ** 0.5\n",
    "\n",
    "\n",
    "logFaerrcor = Faerrcor / (Facor * np.log(10))\n",
    "logFperrcor = Fperrcor / (Fpcor * np.log(10))\n"
   ]
  },
  {
   "cell_type": "markdown",
   "id": "4640a7d2",
   "metadata": {},
   "source": [
    "# Pantheon"
   ]
  },
  {
   "cell_type": "code",
   "execution_count": 3,
   "id": "e11b71de",
   "metadata": {},
   "outputs": [],
   "source": [
    "# Covariance data\n",
    "InverseCmat = pd.read_csv(\n",
    "    \"/media/ash/1tb/github/HubbleConstant-ConstraintsForVCG/AVGCfrom1to1048ORD.txt\", sep=\"\\t\", header=None\n",
    ")  # import the matrices from SNe (Cmat) where C is the complete Coariance matrix from Dstat and Csys already inverted\n",
    "# Cov = Dstat + Csyst;  statistical matrix Dstat only has the diagonal components, it includes the distance error of each SNIa\n",
    "# Csys is the systematic covariance for each SNIa\n",
    "Cinverse = np.array(InverseCmat)\n",
    "Cmat = np.linalg.inv(Cinverse)  # Inverse of the inverse =  Cov\n",
    "Dstatinverse = np.diag(\n",
    "    Cinverse\n",
    ")  # extract only the diagonal statistical uncertainties for SNe = Dstat (Dstat, see Scolnic et al. 2018)\n",
    "Dstat = np.diag(Cmat) ** 1 / 2 # Diagonal elements\n",
    "\n",
    "# SNe data\n",
    "SNdata = pd.read_csv(\"/media/ash/1tb/github/HubbleConstant-ConstraintsForVCG/AVGdeltamulcfrom1to1048ORD.txt\", sep=\"\\t\")\n",
    "# Columns are muobs\tzHD\tzhel  mu-M  mu-M_err\n",
    "SNdata = SNdata.sort_values(by=[\"zHD\"])\n",
    "zSNe = SNdata[\"zHD\"].to_numpy()\n",
    "zhel = SNdata[\"zhel\"].to_numpy()    # zhel is the heliocentric redshift\n",
    "muobs = SNdata[\"muobs\"].to_numpy()  # The mu_observed of the SNe are already in Mpc\n"
   ]
  },
  {
   "cell_type": "code",
   "execution_count": 4,
   "id": "4a9513da",
   "metadata": {},
   "outputs": [],
   "source": [
    "#omega_m, n , H0 SN\n",
    "#number of samples \n",
    "sampl= 10000\n",
    "#number of pars\n",
    "par = 2\n",
    "\n",
    "#assume the parameters have a gaussian distribution\n",
    "sigma_omega= 0.01\n",
    "sigma_n= 0.01\n",
    "omega_b0 = 0.0000245\n",
    "omega_r0=0.02\n",
    "\n",
    "#Defining part which comes inside integeration of distance Luminosity\n",
    "\n",
    "# inv_cov_mat= np.linalg.inv(cov_mat)\n",
    "dmthSN= np.zeros(len(zSNe))\n",
    "dlthSN = np.zeros(len(zSNe))\n",
    "dldataSN=np.zeros(len(zSNe))\n",
    "error= np.zeros(len(zSNe))\n",
    "dlerror= np.zeros(len(zSNe))\n",
    "ckm = 299792.458\n",
    "H0 = 70\n",
    "a=b=c=d=e=0\n",
    "# DL theoretical from VCG model\n",
    "coefSNe=(ckm/H0)*(1+zhel)\n",
    "#Function to calculate the value of mu_theory\n",
    "\n",
    "\n",
    "def integrand(x, omega_m, n):\n",
    "    return 1/(pow((1+x),2)*(omega_r0+(omega_b0/(1+x))+\n",
    "    ((1-omega_b0-omega_r0)*((omega_m*(1+x)**6)+(1-omega_m)*(1+x)**n)**(0.5)/(1+x)**(4)))**(0.5))\n",
    "\n"
   ]
  },
  {
   "cell_type": "code",
   "execution_count": 5,
   "id": "5f4202ca",
   "metadata": {},
   "outputs": [],
   "source": [
    "name=np.array(['GW190521','GW190706_222641','GW190413_134308','GW190514_065416','GW190719_215514','GW190521',\"GW190909_114149\",\"GW190413_052954\",'GW190803_022701','GW190731_140936','GW190727_060333','GW190620_030421','GW190421_213856','GW170729','GW190602_175927','GW190527_092055','GW190519_153544','GW190424_180648','GW190929_012149','GW190828_063405','GW190701_203306','GW190513_205428','GW170823','GW190517_055101','GW190915_235702','GW190828_065509','GW190408_181802','GW190910_112807','GW190512_180714','GW190503_185404','GW190521_074359','GW170818','GW151012','GW170809','GW170104','GW190728_064510','GW190708_232457','GW190630_185205','GW190720_000836','GW190707_093326','GW190930_133541','GW190412','GW190924_021846','GW170814','GW151226','GW150914','GW190426_152155','GW200115_042309','GW170608','GW200105_162426','GW190814','GW190425','GW170817'])\n",
    "full_DL_GW=np.array([[5300.0,2400,-2600],[4420.0,2590,-1930],[4450,2480,-2120],[4130.0,2650,-2170],[3940.0,2590,-2000],[3920.0,2190,-1950],[3770.0,3270,-2220],[3550.0,2270,-1660],[3270.0,1950,-1580],[3300.0,2390,-1720],[3300.0,1540,-1500],[2810.0,1680,-1310],[2880.0,1370,-1380],[2840.0,1400,-1360],[2690.0,1790,-1120],[2490.0,2480,-1240],[2530.0,1830,-920],[2200.0,1580,-1160],[2130.0,3650,-1050],[2130.0,660,-930],[2060.0,760,-730],[2060.0,880,-800],[1940.0,970,-900],[1860.0,1620,-840],[1620.0,710,-610],[1600.0,620,-600],[1550.0,400,-600],[1460.0,1030,-580],[1430.0,550,-550],[1450.0,690,-630],[1240.0,400,-570],[1060.0,420,-380],[1080.0,550,-490],[1030.0,320,-390],[990.0,440,-430],[870.0,260,-370],[880.0,330,-390],[890.0,560,-370],[790.0,690,-320],[770.0,380,-370],[760.0,360,-320],[740.0,140,-170],[570.0,220,-220],[600.0,150,-220],[450.0,180,-190],[440.0,150,-170],[370.0,180,-160],[300.0,150,-100],[320.0,120,-110],[280.0,110,-110],[241.0,41,-45],[159.0,69,-72],[40.0,7,-15]])\n",
    "full_Z_GW=np.array([[0.82,0.28,-0.34],[0.71,0.32,-0.27],[0.71,0.31,-0.30],[0.67,0.33,-0.31],[0.64,0.33,-0.29],[0.64,0.28,-0.28],[0.62,0.41,-0.33],[0.59,0.29,-0.24],[0.55,0.26,-0.24],[0.55,0.31,-0.26],[0.55,0.21,-0.22],[0.49,0.23,-0.20],[0.49,0.19,-0.21],[0.49,0.19,-0.21],[0.47,0.25,-0.17],[0.44,0.34,-0.20],[0.44,0.25,-0.14],[0.39,0.23,-0.19],[0.38,0.49,-0.17],[0.38,0.10,-0.15],[0.37,0.11,-0.12],[0.37,0.13,-0.13],[0.35,0.15,-0.15],[0.34,0.24,-0.14],[0.3,0.11,-0.10],[0.3,0.10,-0.10],[0.29,0.06,-0.10],[0.28,0.16,-0.10],[0.27,0.09,-0.10],[0.27,0.11,-0.11],[0.24,0.07,-0.10],[0.21,0.07,-0.07],[0.21,0.09,-0.09],[0.2,0.05,-0.07],[0.2,0.08,-0.08],[0.18,0.05,-0.07],[0.18,0.06,-0.07],[0.18,0.10,-0.07],[0.16,0.12,-0.06],[0.16,0.07,-0.07],[0.15,0.06,-0.06],[0.15,0.03,-0.03],[0.12,0.04,-0.04],[0.12,0.03,-0.04],[0.09,0.04,-0.04],[0.09,0.03,-0.03],[0.08,0.04,-0.03],[0.07,0.03,-0.02],[0.07,0.02,-0.02],[0.06,0.02,-0.02],[0.053,0.009,-0.010],[0.04,0.01,-0.02],[0.01,0.00,-0.00]])\n",
    "# Number of events\n",
    "a=name.size\n",
    "\n",
    "#Defining arrays\n",
    "dldata_GW=np.zeros(a)\n",
    "dlUP=np.zeros(a)\n",
    "dlLOW=np.zeros(a)\n",
    "dlTOP=np.zeros(a)\n",
    "dlBOTTOM=np.zeros(a)\n",
    "dmtop=np.zeros(a)\n",
    "dmbottom=np.zeros(a)\n",
    "Z_GW=np.zeros(a)\n",
    "dmth_GW=np.zeros(a)\n",
    "dmdata_GW=np.zeros(a)\n",
    "dlth_GW = np.zeros(a)\n",
    "dmtoperr=np.zeros(a)\n",
    "dmbottomerr=np.zeros(a)\n",
    "#defining variables for index of the above arrays\n",
    "b=c=d=e=f=h=k=l=m=x=y=p=q=r=s=0\n",
    "#extracting redshifts and DL from the full data\n",
    "for i in full_Z_GW:\n",
    "  Z_GW[e]+=i[0]\n",
    "  e+=1\n",
    "for i in full_DL_GW:\n",
    "  dldata_GW[b]+=i[0]\n",
    "  b+=1\n",
    "for i in dldata_GW:\n",
    "  dmdata_GW[h]+=5*log(i,10)+25\n",
    "  h+=1\n",
    "for i in full_DL_GW:\n",
    "  dlUP[c]+=i[0]+i[1]\n",
    "  c+=1\n",
    "for i in full_DL_GW:\n",
    "  dlLOW[d]+=i[0]+i[2]\n",
    "  d+=1\n",
    "label1 = {\"Event_Name\":name,\"Z_GW\":Z_GW,\"dLdata_GW\":dldata_GW,\"DMdata_GW\": dmdata_GW,\"DL_Uplimit\": dlUP, \"DL_Lowlimit\": dlLOW}\n",
    "data_GW=pd.DataFrame(label1)\n",
    "data_GWTC3 = pd.read_excel (r'/media/ash/1tb/github/HubbleConstant-ConstraintsForVCG/oldGW.xlsx')\n",
    "data_GWTC3.index= np.arange(53,88)\n",
    "\n",
    "mucollect=[data_GW.Z_GW,data_GWTC3.redshift]\n",
    "z1 = pd.concat(mucollect)\n",
    "\n",
    "namecollect=[data_GW.Event_Name,data_GWTC3.Event_Name_GWTC3]\n",
    "finalevents = pd.concat(namecollect)\n",
    "\n",
    "dlcollect=[data_GW.dLdata_GW,data_GWTC3.luminosity_distance]\n",
    "finaldl1 = pd.concat(dlcollect)\n",
    "\n",
    "dlupcollect=[data_GW.DL_Uplimit,data_GWTC3.luminosity_distance_upper]\n",
    "finaldlup1 = pd.concat(dlupcollect)\n",
    "\n",
    "dllowcollect=[data_GW.DL_Lowlimit,data_GWTC3.luminosity_distance_lower]\n",
    "finaldllow1 = pd.concat(dllowcollect)\n",
    "label2 = {\"EventName\":finalevents,\"ZGW\":z1,\"dLdataGW\":finaldl1,\"DLUplimit\":finaldlup1,\"DLLowlimit\":finaldllow1}\n",
    "Final_GW=pd.DataFrame(label2)\n",
    "sort_data_GW=Final_GW.sort_values(by=['ZGW'],ignore_index=True)\n",
    "\n",
    "z_gw=sort_data_GW.ZGW\n",
    "finaldl=sort_data_GW.dLdataGW\n",
    "finaldlup=sort_data_GW.DLUplimit\n",
    "finaldllow=sort_data_GW.DLLowlimit\n",
    "a=finalevents.size\n",
    "\n",
    "#Defining arrays\n",
    "dlTOP=np.zeros(a)\n",
    "dlBOTTOM=np.zeros(a)\n",
    "dmtop=np.zeros(a)\n",
    "dmbottom=np.zeros(a)\n",
    "dmth3_GW=np.zeros(a)\n",
    "mu_gw=np.zeros(a)\n",
    "dlth3_GW = np.zeros(a)\n",
    "dmtoperr_gw=np.zeros(a)\n",
    "dmbottomerr_gw=np.zeros(a)\n",
    "#defining variables for index of the above arrays\n",
    "f=h=k=l=m=x=y=p=q=r=s=0\n",
    "\n",
    "for i in finaldl:\n",
    "  mu_gw[h]+=5*log(i,10)+25\n",
    "  h+=1\n",
    "for i in finaldlup:\n",
    "  dmtop[f]+=5*log(i,10)+25\n",
    "  f+=1\n",
    "for i in finaldllow:\n",
    "  dmbottom[k]+=5*log(i,10)+25\n",
    "  k+=1\n",
    "#upper and lower differences for errors\n",
    "for (i,j) in zip(mu_gw,dmtop):\n",
    "  dmtoperr_gw[r]+=j-i\n",
    "  r+=1\n",
    "for (i,j) in zip(mu_gw,dmbottom):\n",
    "  dmbottomerr_gw[s]+=i-j\n",
    "  s+=1"
   ]
  },
  {
   "cell_type": "markdown",
   "id": "6c33f75d",
   "metadata": {},
   "source": [
    "# GW"
   ]
  },
  {
   "cell_type": "code",
   "execution_count": 6,
   "id": "6601c7b2",
   "metadata": {},
   "outputs": [],
   "source": [
    "#number of samples \n",
    "sampl= 10000\n",
    "#number of pars\n",
    "par = 2\n",
    "\n",
    "sigma_gw=np.zeros(len(z_gw))\n",
    "#assume the parameters have a gaussian distribution\n",
    "sigma_omega= 0.01\n",
    "sigma_n= 0.01\n",
    "omega_b0 = 0.0000245\n",
    "omega_r0=0.02\n",
    "\n",
    "\n",
    "#Defining part which comes inside integeration of distance Luminosity\n",
    "\n",
    "ckm = 299792.458\n",
    "dmthSN= np.zeros(len(z_gw))\n",
    "dlthSN = np.zeros(len(z_gw))\n",
    "dldataSN=np.zeros(len(z_gw))\n",
    "error= np.zeros(len(z_gw))\n",
    "dlerror= np.zeros(len(z_gw))\n",
    "\n",
    "a=b=c=d=e=0\n",
    "# DL theoretical from VCG model\n",
    "def D_l_gw(z_gw,omega_m,n,h0):\n",
    "    def int_func(x):\n",
    "        return 1/(pow((1+x),2)*(omega_r0+(omega_b0/(1+x))+((1-omega_b0-omega_r0)*((omega_m*(1+x)**6)+(1-omega_m)*(1+x)**n)**(0.5)/(1+x)**(4)))**(0.5))\n",
    "    g = quad(int_func,0,z_gw)\n",
    "    return (1+z_gw)*g[0]*(ckm/(h0))\n",
    "#Function to calculate the value of mu_theory\n",
    "def mu_theory_gw(z_gw,omega_m,n,h0):\n",
    "        m=5*log(D_l_gw(z_gw,omega_m,n,h0),10)+25\n",
    "        return m\n",
    "\n",
    "conversionfrom_cm_to_Mpc=3.08567758*10**24\n",
    "# We now defile a likelihood function as given in the notes\n",
    "# If the value comes out to be less than zero, set it to a very very small likelyhood\n",
    "#Temporary variable to store mu(observation)- mu(theory)\n",
    "dmu_gw= np.empty(len(z_gw))\n",
    "def lnltotal(a, b, sv, omega_m, n,H0):\n",
    "\n",
    "            for i in range(len(z_gw)): # if data point lower than theoretical: take bottom error\n",
    "                # if data point above th : take upper error\n",
    "                dmu_gw[i]= mu_gw[i]- mu_theory_gw(z_gw[i],omega_m,n,H0)\n",
    "                if dmu_gw[i]>0:\n",
    "                    sigma_gw[i]=dmbottomerr_gw[i]\n",
    "                else:\n",
    "                    sigma_gw[i]=dmtoperr_gw[i]\n",
    "            loglikely_gw= -0.5*np.sum(dmu_gw**2/sigma_gw**2)\n",
    "\n",
    "            \n",
    "\n",
    "            d_parSNe= np.array([])\n",
    "            for i in zSNe:\n",
    "                I = quad(integrand, 0, i, args=(omega_m, n))\n",
    "                d_parSNe = np.append(d_parSNe, I[0])  \n",
    "\n",
    "            dSNe = np.array(coefSNe*d_parSNe)\n",
    "            logdl_thSNe = np.log10(dSNe)\n",
    "            muthSNe = 5 * logdl_thSNe + 25    \n",
    "            Deltamu = muobs - muthSNe  \n",
    "            chi2_SNe = np.matmul(Deltamu,np.matmul(Cinverse,Deltamu)) \n",
    "            loglikely_ps = -0.5*chi2_SNe\n",
    "\n",
    "            c = 25.4\n",
    "            a1 = a / (2 * (1 - b))\n",
    "            b1 = b / (2 * (1 - b))\n",
    "            c1 = (np.log10(4 * np.pi) * (b - 1) + c) / (2 * (1 - b))\n",
    "            d1 = -1.0 / (2 * (1 - b))\n",
    "            h = H0 / 100\n",
    "            #H0_s = H0 / (3.085677581491367 * 10 ** 19) # Converting Km and Mpc to cm\n",
    "            c_cm = scipy.constants.c * 100\n",
    "            ckm = 299792.458\n",
    "\n",
    "            omega_b0 = 0.0000245\n",
    "            omega_r0=0.02\n",
    "\n",
    "\n",
    "\n",
    "            # def integrand(x, omega_m, n):\n",
    "            #     return 1/(pow((1+x),2)*(omega_r0+(omega_b0/(1+x))+\n",
    "            #     ((1-omega_b0-omega_r0)*((omega_m*(1+x)**6)+(1-omega_m)*(1+x)**n)**(0.5)/(1+x)**(4)))**(0.5))\n",
    "            \n",
    "            coefGRB=(ckm/H0)*(1+z_grb)\n",
    "\n",
    "            d_par = np.array([])\n",
    "            for i in z_grb:\n",
    "                I = quad(integrand, 0, i, args=(omega_m, n))\n",
    "                d_par = np.append(d_par, I[0])\n",
    "\n",
    "            #d = np.array(c_cm * (1 + zGRB) * d_par / H0_s)\n",
    "            d = np.array(coefGRB*d_par)\n",
    "            \n",
    "            logdl_th = np.log10(d)\n",
    "                \n",
    "            logint_obGRB = ((logTa_rest * a1) + (logFpcor * b1) + \n",
    "            c1 + (d1 * logFacor) - np.log10(conversionfrom_cm_to_Mpc))\n",
    "            \n",
    "            muth = 5 * logdl_th + 25\n",
    "            muob = (5 * logint_obGRB) + 25\n",
    "            sv_muob = np.sqrt((5 * a1 * logTaerr) ** 2 + (5 * b1 * logFperrcor) ** 2 +\n",
    "                            (5 * d1 * logFaerrcor) ** 2 + sv ** 2)\n",
    "            # Now we define the chi^2 for GRB\n",
    "            chi2_GRB = np.sum(((muth - muob)/(sv_muob))**2)\n",
    "            \n",
    "            #We take the loglikelihood defined in Equa. 17 of Sharov 2018, https://arxiv.org/pdf/1807.07323.pdf\n",
    "            \n",
    "            logliketotal= - np.sum(np.log(sv_muob)) - (1/2)*chi2_GRB\n",
    "            \n",
    "            #We take the loglikelihood defined in Equa. 17 of Sharov 2018, https://arxiv.org/pdf/1807.07323.pdf\n",
    "            \n",
    "            loglikely_grb= - np.sum(np.log(sv_muob)) - (1/2)*chi2_GRB\n",
    "    \n",
    "\n",
    "            loglikely = loglikely_gw + loglikely_ps + loglikely_grb\n",
    "            return loglikely"
   ]
  },
  {
   "cell_type": "code",
   "execution_count": 7,
   "id": "6d771514",
   "metadata": {},
   "outputs": [
    {
     "data": {
      "text/plain": [
       "-652.342159629383"
      ]
     },
     "execution_count": 7,
     "metadata": {},
     "output_type": "execute_result"
    }
   ],
   "source": [
    "lnltotal(-0.87910718,  0.49179848,  1.06074925,  0.20238724,  1.34345676, 70.4257005)"
   ]
  },
  {
   "cell_type": "code",
   "execution_count": 11,
   "id": "19c83734",
   "metadata": {},
   "outputs": [],
   "source": [
    "guess=[-0.85, 0.49, 0.34]\n",
    "a,b,sv=guess\n",
    "\n",
    "\n",
    "const = 3\n",
    "info = {\"likelihood\": {\"agostini\": lnltotal}} \n",
    "from collections import OrderedDict as odict \n",
    "\n",
    "info[\"params\"] = odict([\n",
    "        [\"a\", {\n",
    "        \"prior\": \n",
    "        { \"dist\": \"norm\", \"loc\": -0.86, \"scale\": const*0.13},\n",
    "            \"ref\": a,\"proposal\":0.001}],\n",
    "    [\"b\", {\n",
    "        \"prior\": {\"dist\": \"norm\", \"loc\": 0.56, \"scale\": const*0.12},\n",
    "        \"ref\": b,\"proposal\":0.001}],\n",
    "    [\"sv\", {\n",
    "        \"prior\": {\"dist\": \"norm\", \"loc\": 0.34, \"scale\": const*0.04}, \n",
    "        \"ref\": sv,\"latex\": r\"\\sigma_{int}\",\"proposal\":0.001}],\n",
    "    [\"omega_m\", {\n",
    "        \"prior\": { \"dist\": \"norm\", \"loc\": 0.11, \"scale\": 5*0.03}, \"ref\": 0.1,\n",
    "        \"latex\": r\"B_s\",\"proposal\":0.001}],\n",
    "    [\"n\", {\n",
    "        \"prior\": {\"dist\": \"norm\", \"loc\": 1.25, \"scale\": 5*0.26}, \"ref\": 1.2,\n",
    "        \"latex\": r\"n\",\"proposal\":0.001}],\n",
    "    [\"H0\", {\n",
    "        \"prior\": {\"dist\": \"norm\", \"loc\":70.4, \"scale\": 5*0.13}, \"ref\": 70,\n",
    "        \"latex\": r\"H_0\",\"proposal\":0.001}] ])\n",
    "\n",
    "\n",
    "info[\"sampler\"] = {\n",
    "    \"mcmc\": {\"burn_in\": 300, \"max_samples\": 10000000, \"Rminus1_stop\": 0.1,\n",
    "             \"Rminus1_cl_stop\": 0.2, \"learn_proposal\": True}}"
   ]
  },
  {
   "cell_type": "code",
   "execution_count": 12,
   "id": "22412cd4",
   "metadata": {},
   "outputs": [
    {
     "name": "stdout",
     "output_type": "stream",
     "text": [
      "[agostini] Initialized external likelihood.\n",
      "[mcmc] Getting initial point... (this may take a few seconds)\n",
      "[model] Measuring speeds... (this may take a few seconds)\n",
      "[model] Setting measured speeds (per sec): {agostini: 4.89}\n",
      "[mcmc] Covariance matrix not present. We will start learning the covariance of the proposal earlier: R-1 = 30 (would be 2 if all params loaded).\n",
      "[mcmc] Initial point: a:-0.85, b:0.49, sv:0.34, omega_m:0.1, n:1.2, H0:70\n",
      "[mcmc] Sampling! (NB: no accepted step will be saved until 300 burn-in samples have been obtained)\n",
      "[mcmc] Progress @ 2023-05-25 18:03:44 : 1 steps taken -- still burning in, 300 accepted steps left.\n",
      "[mcmc] Progress @ 2023-05-25 18:04:44 : 315 steps taken -- still burning in, 186 accepted steps left.\n",
      "[mcmc] Progress @ 2023-05-25 18:05:44 : 629 steps taken -- still burning in, 58 accepted steps left.\n",
      "[mcmc] Finished burn-in phase: discarded 300 accepted steps.\n",
      "[mcmc] Progress @ 2023-05-25 18:06:44 : 977 steps taken, and 86 accepted.\n",
      "[mcmc] Progress @ 2023-05-25 18:07:44 : 1311 steps taken, and 235 accepted.\n",
      "[mcmc] Learn + convergence test @ 240 samples accepted.\n",
      "[mcmc]  - Acceptance rate: 0.454\n",
      "[mcmc]  - Convergence of means: R-1 = 23.114277 after 192 accepted steps\n",
      "[mcmc]  - Updated covariance matrix of proposal pdf.\n",
      "[mcmc] Progress @ 2023-05-25 18:08:45 : 1639 steps taken, and 435 accepted.\n",
      "[mcmc] Learn + convergence test @ 480 samples accepted.\n",
      "[mcmc]  - Acceptance rate: 0.542\n",
      "[mcmc]  - Convergence of means: R-1 = 26.865546 after 384 accepted steps\n",
      "[mcmc]  - Updated covariance matrix of proposal pdf.\n",
      "[mcmc] Progress @ 2023-05-25 18:09:45 : 1974 steps taken, and 612 accepted.\n",
      "[mcmc] Learn + convergence test @ 720 samples accepted.\n",
      "[mcmc]  - Acceptance rate: 0.536\n",
      "[mcmc]  - Convergence of means: R-1 = 19.739655 after 576 accepted steps\n",
      "[mcmc]  - Updated covariance matrix of proposal pdf.\n",
      "[mcmc] Progress @ 2023-05-25 18:10:45 : 2316 steps taken, and 770 accepted.\n",
      "[mcmc] Progress @ 2023-05-25 18:11:45 : 2661 steps taken, and 913 accepted.\n",
      "[mcmc] Learn + convergence test @ 960 samples accepted.\n",
      "[mcmc]  - Acceptance rate: 0.495\n",
      "[mcmc]  - Convergence of means: R-1 = 20.590311 after 768 accepted steps\n",
      "[mcmc]  - Updated covariance matrix of proposal pdf.\n",
      "[mcmc] Progress @ 2023-05-25 18:12:45 : 3003 steps taken, and 1053 accepted.\n",
      "[mcmc] Progress @ 2023-05-25 18:13:45 : 3330 steps taken, and 1178 accepted.\n",
      "[mcmc] Learn + convergence test @ 1200 samples accepted.\n",
      "[mcmc]  - Acceptance rate: 0.470\n",
      "[mcmc]  - Convergence of means: R-1 = 9.897573 after 960 accepted steps\n",
      "[mcmc]  - Updated covariance matrix of proposal pdf.\n",
      "[mcmc] Progress @ 2023-05-25 18:14:45 : 3666 steps taken, and 1301 accepted.\n"
     ]
    },
    {
     "name": "stderr",
     "output_type": "stream",
     "text": [
      "/tmp/ipykernel_9991/23169461.py:31: RuntimeWarning: invalid value encountered in double_scalars\n",
      "  ((1-omega_b0-omega_r0)*((omega_m*(1+x)**6)+(1-omega_m)*(1+x)**n)**(0.5)/(1+x)**(4)))**(0.5))\n",
      "/tmp/ipykernel_9991/501642165.py:55: IntegrationWarning: The occurrence of roundoff error is detected, which prevents \n",
      "  the requested tolerance from being achieved.  The error may be \n",
      "  underestimated.\n",
      "  I = quad(integrand, 0, i, args=(omega_m, n))\n",
      "/tmp/ipykernel_9991/501642165.py:88: IntegrationWarning: The occurrence of roundoff error is detected, which prevents \n",
      "  the requested tolerance from being achieved.  The error may be \n",
      "  underestimated.\n",
      "  I = quad(integrand, 0, i, args=(omega_m, n))\n"
     ]
    },
    {
     "name": "stdout",
     "output_type": "stream",
     "text": [
      "[mcmc] Progress @ 2023-05-25 18:15:45 : 3992 steps taken, and 1409 accepted.\n",
      "[mcmc] Learn + convergence test @ 1440 samples accepted.\n",
      "[mcmc]  - Acceptance rate: 0.434\n",
      "[mcmc]  - Convergence of means: R-1 = 2.582613 after 1152 accepted steps\n",
      "[mcmc]  - Updated covariance matrix of proposal pdf.\n"
     ]
    },
    {
     "name": "stderr",
     "output_type": "stream",
     "text": [
      "/tmp/ipykernel_9991/23169461.py:31: RuntimeWarning: invalid value encountered in double_scalars\n",
      "  ((1-omega_b0-omega_r0)*((omega_m*(1+x)**6)+(1-omega_m)*(1+x)**n)**(0.5)/(1+x)**(4)))**(0.5))\n",
      "/tmp/ipykernel_9991/501642165.py:88: IntegrationWarning: The occurrence of roundoff error is detected, which prevents \n",
      "  the requested tolerance from being achieved.  The error may be \n",
      "  underestimated.\n",
      "  I = quad(integrand, 0, i, args=(omega_m, n))\n",
      "/tmp/ipykernel_9991/501642165.py:55: IntegrationWarning: The occurrence of roundoff error is detected, which prevents \n",
      "  the requested tolerance from being achieved.  The error may be \n",
      "  underestimated.\n",
      "  I = quad(integrand, 0, i, args=(omega_m, n))\n"
     ]
    },
    {
     "name": "stdout",
     "output_type": "stream",
     "text": [
      "[mcmc] Progress @ 2023-05-25 18:16:45 : 4326 steps taken, and 1529 accepted.\n",
      "[mcmc] Progress @ 2023-05-25 18:17:45 : 4672 steps taken, and 1644 accepted.\n"
     ]
    },
    {
     "name": "stderr",
     "output_type": "stream",
     "text": [
      "/tmp/ipykernel_9991/23169461.py:31: RuntimeWarning: invalid value encountered in double_scalars\n",
      "  ((1-omega_b0-omega_r0)*((omega_m*(1+x)**6)+(1-omega_m)*(1+x)**n)**(0.5)/(1+x)**(4)))**(0.5))\n",
      "/tmp/ipykernel_9991/501642165.py:55: IntegrationWarning: The occurrence of roundoff error is detected, which prevents \n",
      "  the requested tolerance from being achieved.  The error may be \n",
      "  underestimated.\n",
      "  I = quad(integrand, 0, i, args=(omega_m, n))\n",
      "/tmp/ipykernel_9991/501642165.py:88: IntegrationWarning: The occurrence of roundoff error is detected, which prevents \n",
      "  the requested tolerance from being achieved.  The error may be \n",
      "  underestimated.\n",
      "  I = quad(integrand, 0, i, args=(omega_m, n))\n"
     ]
    },
    {
     "name": "stdout",
     "output_type": "stream",
     "text": [
      "[mcmc] Learn + convergence test @ 1680 samples accepted.\n",
      "[mcmc]  - Acceptance rate: 0.410\n",
      "[mcmc]  - Convergence of means: R-1 = 1.296015 after 1344 accepted steps\n",
      "[mcmc]  - Updated covariance matrix of proposal pdf.\n"
     ]
    },
    {
     "name": "stderr",
     "output_type": "stream",
     "text": [
      "/tmp/ipykernel_9991/23169461.py:31: RuntimeWarning: invalid value encountered in double_scalars\n",
      "  ((1-omega_b0-omega_r0)*((omega_m*(1+x)**6)+(1-omega_m)*(1+x)**n)**(0.5)/(1+x)**(4)))**(0.5))\n",
      "/tmp/ipykernel_9991/501642165.py:88: IntegrationWarning: The occurrence of roundoff error is detected, which prevents \n",
      "  the requested tolerance from being achieved.  The error may be \n",
      "  underestimated.\n",
      "  I = quad(integrand, 0, i, args=(omega_m, n))\n"
     ]
    },
    {
     "name": "stdout",
     "output_type": "stream",
     "text": [
      "[mcmc] Progress @ 2023-05-25 18:18:45 : 4996 steps taken, and 1745 accepted.\n"
     ]
    },
    {
     "name": "stderr",
     "output_type": "stream",
     "text": [
      "/tmp/ipykernel_9991/501642165.py:55: IntegrationWarning: The occurrence of roundoff error is detected, which prevents \n",
      "  the requested tolerance from being achieved.  The error may be \n",
      "  underestimated.\n",
      "  I = quad(integrand, 0, i, args=(omega_m, n))\n"
     ]
    },
    {
     "name": "stdout",
     "output_type": "stream",
     "text": [
      "[mcmc] Progress @ 2023-05-25 18:19:45 : 5318 steps taken, and 1835 accepted.\n"
     ]
    },
    {
     "name": "stderr",
     "output_type": "stream",
     "text": [
      "/tmp/ipykernel_9991/23169461.py:31: RuntimeWarning: invalid value encountered in double_scalars\n",
      "  ((1-omega_b0-omega_r0)*((omega_m*(1+x)**6)+(1-omega_m)*(1+x)**n)**(0.5)/(1+x)**(4)))**(0.5))\n",
      "/tmp/ipykernel_9991/501642165.py:88: IntegrationWarning: The occurrence of roundoff error is detected, which prevents \n",
      "  the requested tolerance from being achieved.  The error may be \n",
      "  underestimated.\n",
      "  I = quad(integrand, 0, i, args=(omega_m, n))\n"
     ]
    },
    {
     "name": "stdout",
     "output_type": "stream",
     "text": [
      "[mcmc] Learn + convergence test @ 1920 samples accepted.\n",
      "[mcmc]  - Acceptance rate: 0.384\n",
      "[mcmc]  - Convergence of means: R-1 = 0.841966 after 1536 accepted steps\n",
      "[mcmc]  - Updated covariance matrix of proposal pdf.\n"
     ]
    },
    {
     "name": "stderr",
     "output_type": "stream",
     "text": [
      "/tmp/ipykernel_9991/23169461.py:31: RuntimeWarning: invalid value encountered in double_scalars\n",
      "  ((1-omega_b0-omega_r0)*((omega_m*(1+x)**6)+(1-omega_m)*(1+x)**n)**(0.5)/(1+x)**(4)))**(0.5))\n",
      "/tmp/ipykernel_9991/501642165.py:55: IntegrationWarning: The occurrence of roundoff error is detected, which prevents \n",
      "  the requested tolerance from being achieved.  The error may be \n",
      "  underestimated.\n",
      "  I = quad(integrand, 0, i, args=(omega_m, n))\n",
      "/tmp/ipykernel_9991/501642165.py:88: IntegrationWarning: The occurrence of roundoff error is detected, which prevents \n",
      "  the requested tolerance from being achieved.  The error may be \n",
      "  underestimated.\n",
      "  I = quad(integrand, 0, i, args=(omega_m, n))\n"
     ]
    },
    {
     "name": "stdout",
     "output_type": "stream",
     "text": [
      "[mcmc] Progress @ 2023-05-25 18:20:45 : 5659 steps taken, and 1955 accepted.\n",
      "[mcmc] Progress @ 2023-05-25 18:21:46 : 5992 steps taken, and 2078 accepted.\n"
     ]
    },
    {
     "name": "stderr",
     "output_type": "stream",
     "text": [
      "/tmp/ipykernel_9991/23169461.py:31: RuntimeWarning: invalid value encountered in double_scalars\n",
      "  ((1-omega_b0-omega_r0)*((omega_m*(1+x)**6)+(1-omega_m)*(1+x)**n)**(0.5)/(1+x)**(4)))**(0.5))\n",
      "/tmp/ipykernel_9991/501642165.py:88: IntegrationWarning: The occurrence of roundoff error is detected, which prevents \n",
      "  the requested tolerance from being achieved.  The error may be \n",
      "  underestimated.\n",
      "  I = quad(integrand, 0, i, args=(omega_m, n))\n"
     ]
    },
    {
     "name": "stdout",
     "output_type": "stream",
     "text": [
      "[mcmc] Learn + convergence test @ 2160 samples accepted.\n",
      "[mcmc]  - Acceptance rate: 0.377\n",
      "[mcmc]  - Convergence of means: R-1 = 0.849339 after 1728 accepted steps\n",
      "[mcmc]  - Updated covariance matrix of proposal pdf.\n"
     ]
    },
    {
     "name": "stderr",
     "output_type": "stream",
     "text": [
      "/tmp/ipykernel_9991/23169461.py:31: RuntimeWarning: invalid value encountered in double_scalars\n",
      "  ((1-omega_b0-omega_r0)*((omega_m*(1+x)**6)+(1-omega_m)*(1+x)**n)**(0.5)/(1+x)**(4)))**(0.5))\n",
      "/tmp/ipykernel_9991/501642165.py:55: IntegrationWarning: The occurrence of roundoff error is detected, which prevents \n",
      "  the requested tolerance from being achieved.  The error may be \n",
      "  underestimated.\n",
      "  I = quad(integrand, 0, i, args=(omega_m, n))\n",
      "/tmp/ipykernel_9991/501642165.py:88: IntegrationWarning: The occurrence of roundoff error is detected, which prevents \n",
      "  the requested tolerance from being achieved.  The error may be \n",
      "  underestimated.\n",
      "  I = quad(integrand, 0, i, args=(omega_m, n))\n"
     ]
    },
    {
     "name": "stdout",
     "output_type": "stream",
     "text": [
      "[mcmc] Progress @ 2023-05-25 18:22:46 : 6337 steps taken, and 2187 accepted.\n",
      "[mcmc] Progress @ 2023-05-25 18:23:46 : 6670 steps taken, and 2290 accepted.\n"
     ]
    },
    {
     "name": "stderr",
     "output_type": "stream",
     "text": [
      "/tmp/ipykernel_9991/23169461.py:31: RuntimeWarning: invalid value encountered in double_scalars\n",
      "  ((1-omega_b0-omega_r0)*((omega_m*(1+x)**6)+(1-omega_m)*(1+x)**n)**(0.5)/(1+x)**(4)))**(0.5))\n",
      "/tmp/ipykernel_9991/501642165.py:55: IntegrationWarning: The occurrence of roundoff error is detected, which prevents \n",
      "  the requested tolerance from being achieved.  The error may be \n",
      "  underestimated.\n",
      "  I = quad(integrand, 0, i, args=(omega_m, n))\n",
      "/tmp/ipykernel_9991/501642165.py:88: IntegrationWarning: The occurrence of roundoff error is detected, which prevents \n",
      "  the requested tolerance from being achieved.  The error may be \n",
      "  underestimated.\n",
      "  I = quad(integrand, 0, i, args=(omega_m, n))\n"
     ]
    },
    {
     "name": "stdout",
     "output_type": "stream",
     "text": [
      "[mcmc] Progress @ 2023-05-25 18:24:46 : 7013 steps taken, and 2395 accepted.\n",
      "[mcmc] Learn + convergence test @ 2400 samples accepted.\n",
      "[mcmc]  - Acceptance rate: 0.361\n",
      "[mcmc]  - Convergence of means: R-1 = 0.614501 after 1920 accepted steps\n",
      "[mcmc]  - Updated covariance matrix of proposal pdf.\n"
     ]
    },
    {
     "name": "stderr",
     "output_type": "stream",
     "text": [
      "/tmp/ipykernel_9991/23169461.py:31: RuntimeWarning: invalid value encountered in double_scalars\n",
      "  ((1-omega_b0-omega_r0)*((omega_m*(1+x)**6)+(1-omega_m)*(1+x)**n)**(0.5)/(1+x)**(4)))**(0.5))\n",
      "/tmp/ipykernel_9991/501642165.py:55: IntegrationWarning: The occurrence of roundoff error is detected, which prevents \n",
      "  the requested tolerance from being achieved.  The error may be \n",
      "  underestimated.\n",
      "  I = quad(integrand, 0, i, args=(omega_m, n))\n",
      "/tmp/ipykernel_9991/501642165.py:88: IntegrationWarning: The occurrence of roundoff error is detected, which prevents \n",
      "  the requested tolerance from being achieved.  The error may be \n",
      "  underestimated.\n",
      "  I = quad(integrand, 0, i, args=(omega_m, n))\n"
     ]
    },
    {
     "name": "stdout",
     "output_type": "stream",
     "text": [
      "[mcmc] Progress @ 2023-05-25 18:25:46 : 7362 steps taken, and 2515 accepted.\n"
     ]
    },
    {
     "name": "stderr",
     "output_type": "stream",
     "text": [
      "/tmp/ipykernel_9991/23169461.py:31: RuntimeWarning: invalid value encountered in double_scalars\n",
      "  ((1-omega_b0-omega_r0)*((omega_m*(1+x)**6)+(1-omega_m)*(1+x)**n)**(0.5)/(1+x)**(4)))**(0.5))\n",
      "/tmp/ipykernel_9991/501642165.py:55: IntegrationWarning: The occurrence of roundoff error is detected, which prevents \n",
      "  the requested tolerance from being achieved.  The error may be \n",
      "  underestimated.\n",
      "  I = quad(integrand, 0, i, args=(omega_m, n))\n",
      "/tmp/ipykernel_9991/501642165.py:88: IntegrationWarning: The occurrence of roundoff error is detected, which prevents \n",
      "  the requested tolerance from being achieved.  The error may be \n",
      "  underestimated.\n",
      "  I = quad(integrand, 0, i, args=(omega_m, n))\n"
     ]
    },
    {
     "name": "stdout",
     "output_type": "stream",
     "text": [
      "[mcmc] Progress @ 2023-05-25 18:26:46 : 7702 steps taken, and 2628 accepted.\n",
      "[mcmc] Learn + convergence test @ 2640 samples accepted.\n",
      "[mcmc]  - Acceptance rate: 0.356\n",
      "[mcmc]  - Convergence of means: R-1 = 0.584125 after 2112 accepted steps\n",
      "[mcmc]  - Updated covariance matrix of proposal pdf.\n"
     ]
    },
    {
     "name": "stderr",
     "output_type": "stream",
     "text": [
      "/tmp/ipykernel_9991/23169461.py:31: RuntimeWarning: invalid value encountered in double_scalars\n",
      "  ((1-omega_b0-omega_r0)*((omega_m*(1+x)**6)+(1-omega_m)*(1+x)**n)**(0.5)/(1+x)**(4)))**(0.5))\n",
      "/tmp/ipykernel_9991/501642165.py:55: IntegrationWarning: The occurrence of roundoff error is detected, which prevents \n",
      "  the requested tolerance from being achieved.  The error may be \n",
      "  underestimated.\n",
      "  I = quad(integrand, 0, i, args=(omega_m, n))\n",
      "/tmp/ipykernel_9991/501642165.py:88: IntegrationWarning: The occurrence of roundoff error is detected, which prevents \n",
      "  the requested tolerance from being achieved.  The error may be \n",
      "  underestimated.\n",
      "  I = quad(integrand, 0, i, args=(omega_m, n))\n"
     ]
    },
    {
     "name": "stdout",
     "output_type": "stream",
     "text": [
      "[mcmc] Progress @ 2023-05-25 18:27:46 : 8052 steps taken, and 2745 accepted.\n",
      "[mcmc] Progress @ 2023-05-25 18:28:46 : 8404 steps taken, and 2849 accepted.\n"
     ]
    },
    {
     "name": "stderr",
     "output_type": "stream",
     "text": [
      "/tmp/ipykernel_9991/23169461.py:31: RuntimeWarning: invalid value encountered in double_scalars\n",
      "  ((1-omega_b0-omega_r0)*((omega_m*(1+x)**6)+(1-omega_m)*(1+x)**n)**(0.5)/(1+x)**(4)))**(0.5))\n",
      "/tmp/ipykernel_9991/501642165.py:88: IntegrationWarning: The occurrence of roundoff error is detected, which prevents \n",
      "  the requested tolerance from being achieved.  The error may be \n",
      "  underestimated.\n",
      "  I = quad(integrand, 0, i, args=(omega_m, n))\n",
      "/tmp/ipykernel_9991/501642165.py:55: IntegrationWarning: The occurrence of roundoff error is detected, which prevents \n",
      "  the requested tolerance from being achieved.  The error may be \n",
      "  underestimated.\n",
      "  I = quad(integrand, 0, i, args=(omega_m, n))\n"
     ]
    },
    {
     "name": "stdout",
     "output_type": "stream",
     "text": [
      "[mcmc] Learn + convergence test @ 2880 samples accepted.\n",
      "[mcmc]  - Acceptance rate: 0.349\n",
      "[mcmc]  - Convergence of means: R-1 = 0.590713 after 2304 accepted steps\n",
      "[mcmc]  - Updated covariance matrix of proposal pdf.\n"
     ]
    },
    {
     "name": "stderr",
     "output_type": "stream",
     "text": [
      "/tmp/ipykernel_9991/23169461.py:31: RuntimeWarning: invalid value encountered in double_scalars\n",
      "  ((1-omega_b0-omega_r0)*((omega_m*(1+x)**6)+(1-omega_m)*(1+x)**n)**(0.5)/(1+x)**(4)))**(0.5))\n",
      "/tmp/ipykernel_9991/501642165.py:55: IntegrationWarning: The occurrence of roundoff error is detected, which prevents \n",
      "  the requested tolerance from being achieved.  The error may be \n",
      "  underestimated.\n",
      "  I = quad(integrand, 0, i, args=(omega_m, n))\n",
      "/tmp/ipykernel_9991/501642165.py:88: IntegrationWarning: The occurrence of roundoff error is detected, which prevents \n",
      "  the requested tolerance from being achieved.  The error may be \n",
      "  underestimated.\n",
      "  I = quad(integrand, 0, i, args=(omega_m, n))\n"
     ]
    },
    {
     "name": "stdout",
     "output_type": "stream",
     "text": [
      "[mcmc] Progress @ 2023-05-25 18:29:46 : 8758 steps taken, and 2957 accepted.\n",
      "[mcmc] Progress @ 2023-05-25 18:30:46 : 9112 steps taken, and 3076 accepted.\n"
     ]
    },
    {
     "name": "stderr",
     "output_type": "stream",
     "text": [
      "/tmp/ipykernel_9991/23169461.py:31: RuntimeWarning: invalid value encountered in double_scalars\n",
      "  ((1-omega_b0-omega_r0)*((omega_m*(1+x)**6)+(1-omega_m)*(1+x)**n)**(0.5)/(1+x)**(4)))**(0.5))\n",
      "/tmp/ipykernel_9991/501642165.py:88: IntegrationWarning: The occurrence of roundoff error is detected, which prevents \n",
      "  the requested tolerance from being achieved.  The error may be \n",
      "  underestimated.\n",
      "  I = quad(integrand, 0, i, args=(omega_m, n))\n",
      "/tmp/ipykernel_9991/501642165.py:55: IntegrationWarning: The occurrence of roundoff error is detected, which prevents \n",
      "  the requested tolerance from being achieved.  The error may be \n",
      "  underestimated.\n",
      "  I = quad(integrand, 0, i, args=(omega_m, n))\n"
     ]
    },
    {
     "name": "stdout",
     "output_type": "stream",
     "text": [
      "[mcmc] Learn + convergence test @ 3120 samples accepted.\n",
      "[mcmc]  - Acceptance rate: 0.342\n",
      "[mcmc]  - Convergence of means: R-1 = 0.614160 after 2496 accepted steps\n",
      "[mcmc]  - Updated covariance matrix of proposal pdf.\n"
     ]
    },
    {
     "name": "stderr",
     "output_type": "stream",
     "text": [
      "/tmp/ipykernel_9991/23169461.py:31: RuntimeWarning: invalid value encountered in double_scalars\n",
      "  ((1-omega_b0-omega_r0)*((omega_m*(1+x)**6)+(1-omega_m)*(1+x)**n)**(0.5)/(1+x)**(4)))**(0.5))\n",
      "/tmp/ipykernel_9991/501642165.py:55: IntegrationWarning: The occurrence of roundoff error is detected, which prevents \n",
      "  the requested tolerance from being achieved.  The error may be \n",
      "  underestimated.\n",
      "  I = quad(integrand, 0, i, args=(omega_m, n))\n",
      "/tmp/ipykernel_9991/501642165.py:88: IntegrationWarning: The occurrence of roundoff error is detected, which prevents \n",
      "  the requested tolerance from being achieved.  The error may be \n",
      "  underestimated.\n",
      "  I = quad(integrand, 0, i, args=(omega_m, n))\n"
     ]
    },
    {
     "name": "stdout",
     "output_type": "stream",
     "text": [
      "[mcmc] Progress @ 2023-05-25 18:31:47 : 9461 steps taken, and 3168 accepted.\n",
      "[mcmc] Progress @ 2023-05-25 18:32:47 : 9814 steps taken, and 3268 accepted.\n"
     ]
    },
    {
     "name": "stderr",
     "output_type": "stream",
     "text": [
      "/tmp/ipykernel_9991/23169461.py:31: RuntimeWarning: invalid value encountered in double_scalars\n",
      "  ((1-omega_b0-omega_r0)*((omega_m*(1+x)**6)+(1-omega_m)*(1+x)**n)**(0.5)/(1+x)**(4)))**(0.5))\n",
      "/tmp/ipykernel_9991/501642165.py:55: IntegrationWarning: The occurrence of roundoff error is detected, which prevents \n",
      "  the requested tolerance from being achieved.  The error may be \n",
      "  underestimated.\n",
      "  I = quad(integrand, 0, i, args=(omega_m, n))\n",
      "/tmp/ipykernel_9991/501642165.py:88: IntegrationWarning: The occurrence of roundoff error is detected, which prevents \n",
      "  the requested tolerance from being achieved.  The error may be \n",
      "  underestimated.\n",
      "  I = quad(integrand, 0, i, args=(omega_m, n))\n"
     ]
    },
    {
     "name": "stdout",
     "output_type": "stream",
     "text": [
      "[mcmc] Progress @ 2023-05-25 18:33:47 : 10156 steps taken, and 3356 accepted.\n",
      "[mcmc] Learn + convergence test @ 3360 samples accepted.\n",
      "[mcmc]  - Acceptance rate: 0.333\n",
      "[mcmc]  - Convergence of means: R-1 = 0.296804 after 2688 accepted steps\n",
      "[mcmc]  - Updated covariance matrix of proposal pdf.\n"
     ]
    },
    {
     "name": "stderr",
     "output_type": "stream",
     "text": [
      "/tmp/ipykernel_9991/23169461.py:31: RuntimeWarning: invalid value encountered in double_scalars\n",
      "  ((1-omega_b0-omega_r0)*((omega_m*(1+x)**6)+(1-omega_m)*(1+x)**n)**(0.5)/(1+x)**(4)))**(0.5))\n",
      "/tmp/ipykernel_9991/501642165.py:88: IntegrationWarning: The occurrence of roundoff error is detected, which prevents \n",
      "  the requested tolerance from being achieved.  The error may be \n",
      "  underestimated.\n",
      "  I = quad(integrand, 0, i, args=(omega_m, n))\n",
      "/tmp/ipykernel_9991/501642165.py:55: IntegrationWarning: The occurrence of roundoff error is detected, which prevents \n",
      "  the requested tolerance from being achieved.  The error may be \n",
      "  underestimated.\n",
      "  I = quad(integrand, 0, i, args=(omega_m, n))\n"
     ]
    },
    {
     "name": "stdout",
     "output_type": "stream",
     "text": [
      "[mcmc] Progress @ 2023-05-25 18:34:47 : 10507 steps taken, and 3463 accepted.\n",
      "[mcmc] Progress @ 2023-05-25 18:35:47 : 10865 steps taken, and 3577 accepted.\n"
     ]
    },
    {
     "name": "stderr",
     "output_type": "stream",
     "text": [
      "/tmp/ipykernel_9991/23169461.py:31: RuntimeWarning: invalid value encountered in double_scalars\n",
      "  ((1-omega_b0-omega_r0)*((omega_m*(1+x)**6)+(1-omega_m)*(1+x)**n)**(0.5)/(1+x)**(4)))**(0.5))\n",
      "/tmp/ipykernel_9991/501642165.py:88: IntegrationWarning: The occurrence of roundoff error is detected, which prevents \n",
      "  the requested tolerance from being achieved.  The error may be \n",
      "  underestimated.\n",
      "  I = quad(integrand, 0, i, args=(omega_m, n))\n",
      "/tmp/ipykernel_9991/501642165.py:55: IntegrationWarning: The occurrence of roundoff error is detected, which prevents \n",
      "  the requested tolerance from being achieved.  The error may be \n",
      "  underestimated.\n",
      "  I = quad(integrand, 0, i, args=(omega_m, n))\n"
     ]
    },
    {
     "name": "stdout",
     "output_type": "stream",
     "text": [
      "[mcmc] Learn + convergence test @ 3600 samples accepted.\n",
      "[mcmc]  - Acceptance rate: 0.329\n",
      "[mcmc]  - Convergence of means: R-1 = 0.280755 after 2880 accepted steps\n",
      "[mcmc]  - Updated covariance matrix of proposal pdf.\n"
     ]
    },
    {
     "name": "stderr",
     "output_type": "stream",
     "text": [
      "/tmp/ipykernel_9991/23169461.py:31: RuntimeWarning: invalid value encountered in double_scalars\n",
      "  ((1-omega_b0-omega_r0)*((omega_m*(1+x)**6)+(1-omega_m)*(1+x)**n)**(0.5)/(1+x)**(4)))**(0.5))\n",
      "/tmp/ipykernel_9991/501642165.py:55: IntegrationWarning: The occurrence of roundoff error is detected, which prevents \n",
      "  the requested tolerance from being achieved.  The error may be \n",
      "  underestimated.\n",
      "  I = quad(integrand, 0, i, args=(omega_m, n))\n",
      "/tmp/ipykernel_9991/501642165.py:88: IntegrationWarning: The occurrence of roundoff error is detected, which prevents \n",
      "  the requested tolerance from being achieved.  The error may be \n",
      "  underestimated.\n",
      "  I = quad(integrand, 0, i, args=(omega_m, n))\n"
     ]
    },
    {
     "name": "stdout",
     "output_type": "stream",
     "text": [
      "[mcmc] Progress @ 2023-05-25 18:36:47 : 11204 steps taken, and 3688 accepted.\n",
      "[mcmc] Progress @ 2023-05-25 18:37:47 : 11552 steps taken, and 3789 accepted.\n"
     ]
    },
    {
     "name": "stderr",
     "output_type": "stream",
     "text": [
      "/tmp/ipykernel_9991/23169461.py:31: RuntimeWarning: invalid value encountered in double_scalars\n",
      "  ((1-omega_b0-omega_r0)*((omega_m*(1+x)**6)+(1-omega_m)*(1+x)**n)**(0.5)/(1+x)**(4)))**(0.5))\n",
      "/tmp/ipykernel_9991/501642165.py:88: IntegrationWarning: The occurrence of roundoff error is detected, which prevents \n",
      "  the requested tolerance from being achieved.  The error may be \n",
      "  underestimated.\n",
      "  I = quad(integrand, 0, i, args=(omega_m, n))\n"
     ]
    },
    {
     "name": "stdout",
     "output_type": "stream",
     "text": [
      "[mcmc] Learn + convergence test @ 3840 samples accepted.\n",
      "[mcmc]  - Acceptance rate: 0.326\n",
      "[mcmc]  - Convergence of means: R-1 = 0.178716 after 3072 accepted steps\n",
      "[mcmc]  - Updated covariance matrix of proposal pdf.\n"
     ]
    },
    {
     "name": "stderr",
     "output_type": "stream",
     "text": [
      "/tmp/ipykernel_9991/23169461.py:31: RuntimeWarning: invalid value encountered in double_scalars\n",
      "  ((1-omega_b0-omega_r0)*((omega_m*(1+x)**6)+(1-omega_m)*(1+x)**n)**(0.5)/(1+x)**(4)))**(0.5))\n",
      "/tmp/ipykernel_9991/501642165.py:55: IntegrationWarning: The occurrence of roundoff error is detected, which prevents \n",
      "  the requested tolerance from being achieved.  The error may be \n",
      "  underestimated.\n",
      "  I = quad(integrand, 0, i, args=(omega_m, n))\n",
      "/tmp/ipykernel_9991/501642165.py:88: IntegrationWarning: The occurrence of roundoff error is detected, which prevents \n",
      "  the requested tolerance from being achieved.  The error may be \n",
      "  underestimated.\n",
      "  I = quad(integrand, 0, i, args=(omega_m, n))\n"
     ]
    },
    {
     "name": "stdout",
     "output_type": "stream",
     "text": [
      "[mcmc] Progress @ 2023-05-25 18:38:47 : 11901 steps taken, and 3893 accepted.\n",
      "[mcmc] Progress @ 2023-05-25 18:39:47 : 12250 steps taken, and 3992 accepted.\n"
     ]
    },
    {
     "name": "stderr",
     "output_type": "stream",
     "text": [
      "/tmp/ipykernel_9991/23169461.py:31: RuntimeWarning: invalid value encountered in double_scalars\n",
      "  ((1-omega_b0-omega_r0)*((omega_m*(1+x)**6)+(1-omega_m)*(1+x)**n)**(0.5)/(1+x)**(4)))**(0.5))\n",
      "/tmp/ipykernel_9991/501642165.py:88: IntegrationWarning: The occurrence of roundoff error is detected, which prevents \n",
      "  the requested tolerance from being achieved.  The error may be \n",
      "  underestimated.\n",
      "  I = quad(integrand, 0, i, args=(omega_m, n))\n"
     ]
    },
    {
     "name": "stdout",
     "output_type": "stream",
     "text": [
      "[mcmc] Progress @ 2023-05-25 18:40:47 : 12586 steps taken, and 4076 accepted.\n",
      "[mcmc] Learn + convergence test @ 4080 samples accepted.\n",
      "[mcmc]  - Acceptance rate: 0.321\n",
      "[mcmc]  - Convergence of means: R-1 = 0.160352 after 3264 accepted steps\n",
      "[mcmc]  - Updated covariance matrix of proposal pdf.\n"
     ]
    },
    {
     "name": "stderr",
     "output_type": "stream",
     "text": [
      "/tmp/ipykernel_9991/23169461.py:31: RuntimeWarning: invalid value encountered in double_scalars\n",
      "  ((1-omega_b0-omega_r0)*((omega_m*(1+x)**6)+(1-omega_m)*(1+x)**n)**(0.5)/(1+x)**(4)))**(0.5))\n",
      "/tmp/ipykernel_9991/501642165.py:55: IntegrationWarning: The occurrence of roundoff error is detected, which prevents \n",
      "  the requested tolerance from being achieved.  The error may be \n",
      "  underestimated.\n",
      "  I = quad(integrand, 0, i, args=(omega_m, n))\n",
      "/tmp/ipykernel_9991/501642165.py:88: IntegrationWarning: The occurrence of roundoff error is detected, which prevents \n",
      "  the requested tolerance from being achieved.  The error may be \n",
      "  underestimated.\n",
      "  I = quad(integrand, 0, i, args=(omega_m, n))\n"
     ]
    },
    {
     "name": "stdout",
     "output_type": "stream",
     "text": [
      "[mcmc] Progress @ 2023-05-25 18:41:47 : 12930 steps taken, and 4181 accepted.\n",
      "[mcmc] Progress @ 2023-05-25 18:42:48 : 13284 steps taken, and 4274 accepted.\n"
     ]
    },
    {
     "name": "stderr",
     "output_type": "stream",
     "text": [
      "/tmp/ipykernel_9991/23169461.py:31: RuntimeWarning: invalid value encountered in double_scalars\n",
      "  ((1-omega_b0-omega_r0)*((omega_m*(1+x)**6)+(1-omega_m)*(1+x)**n)**(0.5)/(1+x)**(4)))**(0.5))\n",
      "/tmp/ipykernel_9991/501642165.py:88: IntegrationWarning: The occurrence of roundoff error is detected, which prevents \n",
      "  the requested tolerance from being achieved.  The error may be \n",
      "  underestimated.\n",
      "  I = quad(integrand, 0, i, args=(omega_m, n))\n"
     ]
    },
    {
     "name": "stdout",
     "output_type": "stream",
     "text": [
      "[mcmc] Learn + convergence test @ 4320 samples accepted.\n",
      "[mcmc]  - Acceptance rate: 0.317\n",
      "[mcmc]  - Convergence of means: R-1 = 0.125409 after 3456 accepted steps\n",
      "[mcmc]  - Updated covariance matrix of proposal pdf.\n"
     ]
    },
    {
     "name": "stderr",
     "output_type": "stream",
     "text": [
      "/tmp/ipykernel_9991/23169461.py:31: RuntimeWarning: invalid value encountered in double_scalars\n",
      "  ((1-omega_b0-omega_r0)*((omega_m*(1+x)**6)+(1-omega_m)*(1+x)**n)**(0.5)/(1+x)**(4)))**(0.5))\n",
      "/tmp/ipykernel_9991/501642165.py:55: IntegrationWarning: The occurrence of roundoff error is detected, which prevents \n",
      "  the requested tolerance from being achieved.  The error may be \n",
      "  underestimated.\n",
      "  I = quad(integrand, 0, i, args=(omega_m, n))\n",
      "/tmp/ipykernel_9991/501642165.py:88: IntegrationWarning: The occurrence of roundoff error is detected, which prevents \n",
      "  the requested tolerance from being achieved.  The error may be \n",
      "  underestimated.\n",
      "  I = quad(integrand, 0, i, args=(omega_m, n))\n"
     ]
    },
    {
     "name": "stdout",
     "output_type": "stream",
     "text": [
      "[mcmc] Progress @ 2023-05-25 18:43:48 : 13629 steps taken, and 4376 accepted.\n",
      "[mcmc] Progress @ 2023-05-25 18:44:48 : 13973 steps taken, and 4455 accepted.\n"
     ]
    },
    {
     "name": "stderr",
     "output_type": "stream",
     "text": [
      "/tmp/ipykernel_9991/23169461.py:31: RuntimeWarning: invalid value encountered in double_scalars\n",
      "  ((1-omega_b0-omega_r0)*((omega_m*(1+x)**6)+(1-omega_m)*(1+x)**n)**(0.5)/(1+x)**(4)))**(0.5))\n",
      "/tmp/ipykernel_9991/501642165.py:55: IntegrationWarning: The occurrence of roundoff error is detected, which prevents \n",
      "  the requested tolerance from being achieved.  The error may be \n",
      "  underestimated.\n",
      "  I = quad(integrand, 0, i, args=(omega_m, n))\n",
      "/tmp/ipykernel_9991/501642165.py:88: IntegrationWarning: The occurrence of roundoff error is detected, which prevents \n",
      "  the requested tolerance from being achieved.  The error may be \n",
      "  underestimated.\n",
      "  I = quad(integrand, 0, i, args=(omega_m, n))\n"
     ]
    },
    {
     "name": "stdout",
     "output_type": "stream",
     "text": [
      "[mcmc] Progress @ 2023-05-25 18:45:48 : 14245 steps taken, and 4540 accepted.\n",
      "[mcmc] Learn + convergence test @ 4560 samples accepted.\n",
      "[mcmc]  - Acceptance rate: 0.312\n",
      "[mcmc]  - Convergence of means: R-1 = 0.084659 after 3648 accepted steps\n",
      "[mcmc]  - Updated covariance matrix of proposal pdf.\n"
     ]
    },
    {
     "name": "stderr",
     "output_type": "stream",
     "text": [
      "/tmp/ipykernel_9991/23169461.py:31: RuntimeWarning: invalid value encountered in double_scalars\n",
      "  ((1-omega_b0-omega_r0)*((omega_m*(1+x)**6)+(1-omega_m)*(1+x)**n)**(0.5)/(1+x)**(4)))**(0.5))\n",
      "/tmp/ipykernel_9991/501642165.py:88: IntegrationWarning: The occurrence of roundoff error is detected, which prevents \n",
      "  the requested tolerance from being achieved.  The error may be \n",
      "  underestimated.\n",
      "  I = quad(integrand, 0, i, args=(omega_m, n))\n"
     ]
    },
    {
     "name": "stdout",
     "output_type": "stream",
     "text": [
      "[mcmc] Progress @ 2023-05-25 18:46:48 : 14519 steps taken, and 4613 accepted.\n"
     ]
    },
    {
     "name": "stderr",
     "output_type": "stream",
     "text": [
      "/tmp/ipykernel_9991/501642165.py:55: IntegrationWarning: The occurrence of roundoff error is detected, which prevents \n",
      "  the requested tolerance from being achieved.  The error may be \n",
      "  underestimated.\n",
      "  I = quad(integrand, 0, i, args=(omega_m, n))\n"
     ]
    },
    {
     "name": "stdout",
     "output_type": "stream",
     "text": [
      "[mcmc] Progress @ 2023-05-25 18:47:48 : 14797 steps taken, and 4696 accepted.\n"
     ]
    },
    {
     "name": "stderr",
     "output_type": "stream",
     "text": [
      "/tmp/ipykernel_9991/23169461.py:31: RuntimeWarning: invalid value encountered in double_scalars\n",
      "  ((1-omega_b0-omega_r0)*((omega_m*(1+x)**6)+(1-omega_m)*(1+x)**n)**(0.5)/(1+x)**(4)))**(0.5))\n",
      "/tmp/ipykernel_9991/501642165.py:55: IntegrationWarning: The occurrence of roundoff error is detected, which prevents \n",
      "  the requested tolerance from being achieved.  The error may be \n",
      "  underestimated.\n",
      "  I = quad(integrand, 0, i, args=(omega_m, n))\n",
      "/tmp/ipykernel_9991/501642165.py:88: IntegrationWarning: The occurrence of roundoff error is detected, which prevents \n",
      "  the requested tolerance from being achieved.  The error may be \n",
      "  underestimated.\n",
      "  I = quad(integrand, 0, i, args=(omega_m, n))\n"
     ]
    },
    {
     "name": "stdout",
     "output_type": "stream",
     "text": [
      "[mcmc] Progress @ 2023-05-25 18:48:48 : 15085 steps taken, and 4774 accepted.\n",
      "[mcmc] Learn + convergence test @ 4800 samples accepted.\n",
      "[mcmc]  - Acceptance rate: 0.309\n",
      "[mcmc]  - Convergence of means: R-1 = 0.064703 after 3840 accepted steps\n",
      "[mcmc]  - Convergence of bounds: R-1 = 0.235452 after 4800 accepted steps\n",
      "[mcmc]  - Updated covariance matrix of proposal pdf.\n"
     ]
    },
    {
     "name": "stderr",
     "output_type": "stream",
     "text": [
      "/tmp/ipykernel_9991/23169461.py:31: RuntimeWarning: invalid value encountered in double_scalars\n",
      "  ((1-omega_b0-omega_r0)*((omega_m*(1+x)**6)+(1-omega_m)*(1+x)**n)**(0.5)/(1+x)**(4)))**(0.5))\n",
      "/tmp/ipykernel_9991/501642165.py:55: IntegrationWarning: The occurrence of roundoff error is detected, which prevents \n",
      "  the requested tolerance from being achieved.  The error may be \n",
      "  underestimated.\n",
      "  I = quad(integrand, 0, i, args=(omega_m, n))\n",
      "/tmp/ipykernel_9991/501642165.py:88: IntegrationWarning: The occurrence of roundoff error is detected, which prevents \n",
      "  the requested tolerance from being achieved.  The error may be \n",
      "  underestimated.\n",
      "  I = quad(integrand, 0, i, args=(omega_m, n))\n"
     ]
    },
    {
     "name": "stdout",
     "output_type": "stream",
     "text": [
      "[mcmc] Progress @ 2023-05-25 18:49:48 : 15424 steps taken, and 4873 accepted.\n",
      "[mcmc] Progress @ 2023-05-25 18:50:48 : 15772 steps taken, and 4974 accepted.\n"
     ]
    },
    {
     "name": "stderr",
     "output_type": "stream",
     "text": [
      "/tmp/ipykernel_9991/23169461.py:31: RuntimeWarning: invalid value encountered in double_scalars\n",
      "  ((1-omega_b0-omega_r0)*((omega_m*(1+x)**6)+(1-omega_m)*(1+x)**n)**(0.5)/(1+x)**(4)))**(0.5))\n",
      "/tmp/ipykernel_9991/501642165.py:88: IntegrationWarning: The occurrence of roundoff error is detected, which prevents \n",
      "  the requested tolerance from being achieved.  The error may be \n",
      "  underestimated.\n",
      "  I = quad(integrand, 0, i, args=(omega_m, n))\n",
      "/tmp/ipykernel_9991/501642165.py:55: IntegrationWarning: The occurrence of roundoff error is detected, which prevents \n",
      "  the requested tolerance from being achieved.  The error may be \n",
      "  underestimated.\n",
      "  I = quad(integrand, 0, i, args=(omega_m, n))\n"
     ]
    },
    {
     "name": "stdout",
     "output_type": "stream",
     "text": [
      "[mcmc] Learn + convergence test @ 5040 samples accepted.\n",
      "[mcmc]  - Acceptance rate: 0.307\n",
      "[mcmc]  - Convergence of means: R-1 = 0.046813 after 4032 accepted steps\n",
      "[mcmc]  - Convergence of bounds: R-1 = 0.158079 after 5040 accepted steps\n",
      "[mcmc] The run has converged!\n",
      "[mcmc] Sampling complete after 5040 accepted steps.\n",
      "[root] *WARNING* outlier fraction 0.0005668934240362812 \n"
     ]
    }
   ],
   "source": [
    "#load the settings defined in cobaya\n",
    "from cobaya.run import run\n",
    "\n",
    "updated_info, products = run(info)\n",
    "\n",
    "from getdist.mcsamples import MCSamplesFromCobaya\n",
    "import getdist.plots as gdplt\n",
    "\n",
    "gdsamples = MCSamplesFromCobaya(updated_info, products.products()[\"sample\"],ignore_rows=0.3)\n",
    "gdplot = gdplt.getSubplotPlotter(width_inch=5)\n"
   ]
  },
  {
   "cell_type": "code",
   "execution_count": 13,
   "id": "e4bf48fb",
   "metadata": {},
   "outputs": [
    {
     "name": "stdout",
     "output_type": "stream",
     "text": [
      "Using 43.89075625191822 sigma\n",
      "Mean\n",
      "[-0.87556173  0.49221451  1.06251794  0.11136555  1.13812191 70.34507744]\n",
      "1 sigma:\n",
      "[0.06815753 0.00420666 0.0649489  0.03380385 0.39317467 0.60707563]\n",
      "Covariance matrix:\n",
      "[[ 4.64544883e-03 -2.82879744e-04  1.13708717e-04  7.43515548e-05\n",
      "  -4.48633269e-04 -1.99682459e-03]\n",
      " [-2.82879744e-04  1.76959906e-05 -7.52200334e-06 -1.06835538e-05\n",
      "   9.62137838e-05  7.68063401e-05]\n",
      " [ 1.13708717e-04 -7.52200334e-06  4.21835929e-03  8.70363689e-05\n",
      "  -8.92180466e-04 -5.92108801e-04]\n",
      " [ 7.43515548e-05 -1.06835538e-05  8.70363689e-05  1.14270034e-03\n",
      "  -1.28277037e-02 -1.03158877e-03]\n",
      " [-4.48633269e-04  9.62137838e-05 -8.92180466e-04 -1.28277037e-02\n",
      "   1.54586325e-01  1.18314902e-02]\n",
      " [-1.99682459e-03  7.68063401e-05 -5.92108801e-04 -1.03158877e-03\n",
      "   1.18314902e-02  3.68540819e-01]]\n"
     ]
    },
    {
     "data": {
      "image/png": "[encoded data removed]",
      "text/plain": [
       "<Figure size 500x500 with 21 Axes>"
      ]
     },
     "metadata": {},
     "output_type": "display_data"
    }
   ],
   "source": [
    "gdplot.triangle_plot(gdsamples, [\"a\",\"b\",\"sv\",\"omega_m\", \"n\", \"H0\"], filled=True)\n",
    "\n",
    "mean = gdsamples.getMeans()[:6]\n",
    "sigma = np.sqrt(np.array(gdsamples.getVars()[:6]))\n",
    "covmat = gdsamples.getCovMat().matrix[:6, :6]\n",
    "plt. savefig(\"figures/combined.pdf\", format=\"pdf\", bbox_inches=\"tight\")\n",
    "print(\"Using \"+ str(i) + \" sigma\")\n",
    "print(\"Mean\")\n",
    "print(mean)\n",
    "print(\"1 sigma:\")\n",
    "print(sigma)\n",
    "print(\"Covariance matrix:\")\n",
    "print(covmat) "
   ]
  }
 ],
 "metadata": {
  "kernelspec": {
   "display_name": "Python 3 (ipykernel)",
   "language": "python",
   "name": "python3"
  },
  "language_info": {
   "codemirror_mode": {
    "name": "ipython",
    "version": 3
   },
   "file_extension": ".py",
   "mimetype": "text/x-python",
   "name": "python",
   "nbconvert_exporter": "python",
   "pygments_lexer": "ipython3",
   "version": "3.10.12"
  }
 },
 "nbformat": 4,
 "nbformat_minor": 5
}
