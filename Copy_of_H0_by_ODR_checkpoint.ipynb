{
  "nbformat": 4,
  "nbformat_minor": 5,
  "metadata": {
    "kernelspec": {
      "display_name": "Python 3",
      "language": "python",
      "name": "python3"
    },
    "language_info": {
      "codemirror_mode": {
        "name": "ipython",
        "version": 3
      },
      "file_extension": ".py",
      "mimetype": "text/x-python",
      "name": "python",
      "nbconvert_exporter": "python",
      "pygments_lexer": "ipython3",
      "version": "3.8.8"
    },
    "colab": {
      "name": "Copy of H0 by ODR-checkpoint.ipynb",
      "provenance": [],
      "include_colab_link": true
    }
  },
  "cells": [
    {
      "cell_type": "markdown",
      "metadata": {
        "id": "view-in-github",
        "colab_type": "text"
      },
      "source": [
        "<a href=\"https://colab.research.google.com/github/AshleyChraya/HubbleConstant-ConstraintsForVCG/blob/main/Copy_of_H0_by_ODR_checkpoint.ipynb\" target=\"_parent\"><img src=\"https://colab.research.google.com/assets/colab-badge.svg\" alt=\"Open In Colab\"/></a>"
      ]
    },
    {
      "cell_type": "code",
      "metadata": {
        "id": "aa72927c"
      },
      "source": [
        "import numpy as np\n",
        "import matplotlib.pyplot as plt\n",
        "import matplotlib as mpl\n",
        "from scipy.integrate import quad\n",
        "from math import sqrt,pow,log\n",
        "import pandas as pd\n",
        "from matplotlib.pyplot import figure\n",
        "from matplotlib.patches import Ellipse\n",
        "import matplotlib.transforms as transforms\n",
        "from scipy.optimize import curve_fit\n",
        "#plt.style.use('/root/Github_Repos/HubbleConstant-ConstraintsForVCG/standard.mplstyle')"
      ],
      "id": "aa72927c",
      "execution_count": 1,
      "outputs": []
    },
    {
      "cell_type": "code",
      "metadata": {
        "id": "49359b63",
        "colab": {
          "base_uri": "https://localhost:8080/"
        },
        "outputId": "cd33d990-8790-4bc8-b6c2-25ecf9619b9b"
      },
      "source": [
        "def defineparam():\n",
        "  global omega_r0\n",
        "  omega_r0 = float(input(\"Omega R0: \"))\n",
        "  global omega_b0\n",
        "  omega_b0 = float(input(\"Omega B0: \"))\n",
        "defineparam()"
      ],
      "id": "49359b63",
      "execution_count": 2,
      "outputs": [
        {
          "name": "stdout",
          "output_type": "stream",
          "text": [
            "Omega R0: 0.0000245\n",
            "Omega B0: 0.02\n"
          ]
        }
      ]
    },
    {
      "cell_type": "code",
      "metadata": {
        "id": "babc6b11"
      },
      "source": [
        "def int_func(redshift):\n",
        "      return 1/((pow((1+redshift),2)*(omega_r0+(omega_b0/(1+redshift))+((1-omega_b0-omega_r0)*((omega_m*(1+redshift)**6)+(1-omega_m)*(1+redshift)**n)**(0.5)/(1+redshift)**(4)))**(0.5)))"
      ],
      "id": "babc6b11",
      "execution_count": 3,
      "outputs": []
    },
    {
      "cell_type": "code",
      "metadata": {
        "id": "7a2979d1"
      },
      "source": [
        "name=np.array(['GW190521','GW190706_222641','GW190413_134308','GW190514_065416','GW190719_215514','GW190521',\"GW190909_114149\",\"GW190413_052954\",'GW190803_022701','GW190731_140936','GW190727_060333','GW190620_030421','GW190421_213856','GW170729','GW190602_175927','GW190527_092055','GW190519_153544','GW190424_180648','GW190929_012149','GW190828_063405','GW190701_203306','GW190513_205428','GW170823','GW190517_055101','GW190915_235702','GW190828_065509','GW190408_181802','GW190910_112807','GW190512_180714','GW190503_185404','GW190521_074359','GW170818','GW151012','GW170809','GW170104','GW190728_064510','GW190708_232457','GW190630_185205','GW190720_000836','GW190707_093326','GW190930_133541','GW190412','GW190924_021846','GW170814','GW151226','GW150914','GW190426_152155','GW200115_042309','GW170608','GW200105_162426','GW190814','GW190425'])\n",
        "full_DL_GW=np.array([[5300.0,2400,-2600],[4420.0,2590,-1930],[4450,2480,-2120],[4130.0,2650,-2170],[3940.0,2590,-2000],[3920.0,2190,-1950],[3770.0,3270,-2220],[3550.0,2270,-1660],[3270.0,1950,-1580],[3300.0,2390,-1720],[3300.0,1540,-1500],[2810.0,1680,-1310],[2880.0,1370,-1380],[2840.0,1400,-1360],[2690.0,1790,-1120],[2490.0,2480,-1240],[2530.0,1830,-920],[2200.0,1580,-1160],[2130.0,3650,-1050],[2130.0,660,-930],[2060.0,760,-730],[2060.0,880,-800],[1940.0,970,-900],[1860.0,1620,-840],[1620.0,710,-610],[1600.0,620,-600],[1550.0,400,-600],[1460.0,1030,-580],[1430.0,550,-550],[1450.0,690,-630],[1240.0,400,-570],[1060.0,420,-380],[1080.0,550,-490],[1030.0,320,-390],[990.0,440,-430],[870.0,260,-370],[880.0,330,-390],[890.0,560,-370],[790.0,690,-320],[770.0,380,-370],[760.0,360,-320],[740.0,140,-170],[570.0,220,-220],[600.0,150,-220],[450.0,180,-190],[440.0,150,-170],[370.0,180,-160],[300.0,150,-100],[320.0,120,-110],[280.0,110,-110],[241.0,41,-45],[159.0,69,-72]])\n",
        "full_Z_GW=np.array([[0.82,0.28,-0.34],[0.71,0.32,-0.27],[0.71,0.31,-0.30],[0.67,0.33,-0.31],[0.64,0.33,-0.29],[0.64,0.28,-0.28],[0.62,0.41,-0.33],[0.59,0.29,-0.24],[0.55,0.26,-0.24],[0.55,0.31,-0.26],[0.55,0.21,-0.22],[0.49,0.23,-0.20],[0.49,0.19,-0.21],[0.49,0.19,-0.21],[0.47,0.25,-0.17],[0.44,0.34,-0.20],[0.44,0.25,-0.14],[0.39,0.23,-0.19],[0.38,0.49,-0.17],[0.38,0.10,-0.15],[0.37,0.11,-0.12],[0.37,0.13,-0.13],[0.35,0.15,-0.15],[0.34,0.24,-0.14],[0.3,0.11,-0.10],[0.3,0.10,-0.10],[0.29,0.06,-0.10],[0.28,0.16,-0.10],[0.27,0.09,-0.10],[0.27,0.11,-0.11],[0.24,0.07,-0.10],[0.21,0.07,-0.07],[0.21,0.09,-0.09],[0.2,0.05,-0.07],[0.2,0.08,-0.08],[0.18,0.05,-0.07],[0.18,0.06,-0.07],[0.18,0.10,-0.07],[0.16,0.12,-0.06],[0.16,0.07,-0.07],[0.15,0.06,-0.06],[0.15,0.03,-0.03],[0.12,0.04,-0.04],[0.12,0.03,-0.04],[0.09,0.04,-0.04],[0.09,0.03,-0.03],[0.08,0.04,-0.03],[0.07,0.03,-0.02],[0.07,0.02,-0.02],[0.06,0.02,-0.02],[0.053,0.009,-0.010],[0.04,0.01,-0.02]])\n",
        "# Number of events\n",
        "a=name.size\n",
        "\n",
        "#Defining arrays\n",
        "dldata_GW=np.zeros(a)\n",
        "dlUP=np.zeros(a)\n",
        "dlLOW=np.zeros(a)\n",
        "dlTOP=np.zeros(a)\n",
        "dlBOTTOM=np.zeros(a)\n",
        "dmtop=np.zeros(a)\n",
        "dmbottom=np.zeros(a)\n",
        "Z_GW=np.zeros(a)\n",
        "Zup_GW=np.zeros(a)\n",
        "Zlow_GW=np.zeros(a)\n",
        "dmth_GW=np.zeros(a)\n",
        "dmdata_GW=np.zeros(a)\n",
        "dlth_GW = np.zeros(a)\n",
        "dmtoperr=np.zeros(a)\n",
        "dmbottomerr=np.zeros(a)\n",
        "#defining variables for index of the above arrays\n",
        "b=c=d=e=f=h=k=l=m=x=y=p=q=r=s=xx=yy=0\n",
        "#extracting redshifts and DL from the full data\n",
        "for i in full_Z_GW:\n",
        "  Z_GW[e]+=i[0]\n",
        "  e+=1\n",
        "for i in full_Z_GW:\n",
        "  Zup_GW[xx]+=i[1] +i[0]\n",
        "  xx+=1\n",
        "for i in full_Z_GW:\n",
        "  Zlow_GW[yy]+=i[0]+i[2]\n",
        "  yy+=1\n",
        "for i in full_DL_GW:\n",
        "  dldata_GW[b]+=i[0]\n",
        "  b+=1\n",
        "#Upper and Lower limit of DL from data\n",
        "for i in full_DL_GW:\n",
        "  dlUP[c]+=i[0]+i[1]\n",
        "  c+=1\n",
        "for i in full_DL_GW:\n",
        "  dlLOW[d]+=i[0]+i[2]\n",
        "  d+=1\n",
        "# Calculating upper and lower limit of Distance modulus from DL limits calculated above\n",
        "\n",
        "#Calculating differences in DL from its limits\n",
        "for (i,j) in zip(dldata_GW,dlUP):\n",
        "  dlTOP[x]+=j-i\n",
        "  x+=1\n",
        "for (i,j) in zip(dldata_GW,dlLOW):\n",
        "  dlBOTTOM[y]=i-j\n",
        "  y+=1\n",
        "\n",
        "\n",
        "# DL-h1 < DL < DL+h2,if h1<h2, take error to be h1 or vice versa\n",
        "#new_error=np.zeros(a)\n",
        "#for (i,j) in zip(dlTOP,dlBOTTOM):\n",
        " # if i<j:\n",
        "#    new_error[p]+=i\n",
        "#    p+=1\n",
        "#  elif j<i:\n",
        "#    new_error[q]+=j\n",
        " #   q+=1\n",
        "\n",
        "\n",
        "#for (i,j) in zip(dmtoperr,dmbottomerr):\n",
        "#  if i<j:\n",
        " #  new_error[p]+=i\n",
        "  # p+=1\n",
        "#  elif j<i:\n",
        " #  new_error[q]+=j\n",
        "  # q+=1\n",
        "\n",
        "label1 = {\"Event_Name\":name,\"Z_GW\":Z_GW,\"Zup_GW\":Zup_GW,\"Zlow_GW\":Zlow_GW,\"dLdata_GW\":dldata_GW,\"DL_Uplimit\": dlUP, \"DL_Lowlimit\": dlLOW,\"DL_UP_Error\":dlTOP,\"DL_LOW_Error\":dlBOTTOM}\n",
        "data_GW=pd.DataFrame(label1)\n",
        "#data_GW.to_excel(excel_writer = \"/root/Github_Repos/VCG_GW/GWTColdGW.xlsx\")"
      ],
      "id": "7a2979d1",
      "execution_count": 4,
      "outputs": []
    },
    {
      "cell_type": "code",
      "metadata": {
        "id": "rqS55Ll4MXsS"
      },
      "source": [
        "from google.colab import files\n",
        "files.upload()"
      ],
      "id": "rqS55Ll4MXsS",
      "execution_count": null,
      "outputs": []
    },
    {
      "cell_type": "code",
      "metadata": {
        "id": "ad2e366b"
      },
      "source": [
        "data_GWTC3 = pd.read_excel('oldGW.xlsx')\n",
        "data_GWTC3.index= np.arange(52,87)"
      ],
      "id": "ad2e366b",
      "execution_count": 7,
      "outputs": []
    },
    {
      "cell_type": "code",
      "metadata": {
        "id": "f18cb45a"
      },
      "source": [
        "Zplus=data_GWTC3.redshift_upper + data_GWTC3.redshift\n",
        "Zminus=data_GWTC3.redshift - data_GWTC3.redshift_lower\n",
        "data_GWTC3[\"Zplus\"]=Zplus\n",
        "data_GWTC3[\"Zminus\"]=Zminus"
      ],
      "id": "f18cb45a",
      "execution_count": 8,
      "outputs": []
    },
    {
      "cell_type": "code",
      "metadata": {
        "id": "d6265e5b"
      },
      "source": [
        "\n",
        "\n",
        "mucollect=[data_GW.Z_GW,data_GWTC3.redshift]\n",
        "finalredshift = pd.concat(mucollect)\n",
        "\n",
        "mucollectup=[data_GW.Zup_GW,data_GWTC3.Zplus]\n",
        "finalredshiftup = pd.concat(mucollectup)\n",
        "\n",
        "mucollectlow=[data_GW.Zlow_GW,data_GWTC3.Zminus]\n",
        "finalredshiftlow = pd.concat(mucollectlow)\n",
        "\n",
        "namecollect=[data_GW.Event_Name,data_GWTC3.Event_Name_GWTC3]\n",
        "finalevents = pd.concat(namecollect)\n",
        "\n",
        "dlcollect=[data_GW.dLdata_GW,data_GWTC3.luminosity_distance]\n",
        "finaldl = pd.concat(dlcollect)\n",
        "\n",
        "dlupcollect=[data_GW.DL_Uplimit,data_GWTC3.luminosity_distance_upper]\n",
        "finaldlup = pd.concat(dlupcollect)\n",
        "\n",
        "dllowcollect=[data_GW.DL_Lowlimit,data_GWTC3.luminosity_distance_lower]\n",
        "finaldllow = pd.concat(dllowcollect)\n",
        "\n",
        "label2 = {\"Fin_Event_Name\":finalevents,\"Fin_Z_GW\":finalredshift,\"Fin_Zup_GW\":finalredshiftup,\"Fin_Zlow_GW\":finalredshiftlow,\"Fin_dLdata_GW\":finaldl, \"Fin_DL_UpError\": finaldlup, \"Fin_DL_LowError\": finaldllow}\n",
        "Fin_data_GW=pd.DataFrame(label2)\n",
        "\n",
        "a=finalevents.size\n",
        "\n",
        "#Defining arrays\n",
        "H0GW=np.zeros(a)\n",
        "H0uperror=np.zeros(a)\n",
        "H0lowerror=np.zeros(a)\n",
        "\n",
        "#defining variables for index of the above arrays\n",
        "f=h=k=l=m=x=y=p=q=r=s=0\n",
        "\n",
        "\n",
        "omega_m=.09\n",
        "n=1.4545\n",
        "\n",
        "# Calculating theoretical value of DL and DM from the model VCG\n",
        "#for i in finalredshift:\n",
        " # g=quad(int_func,0,i)\n",
        " # H0GW[l]+=(1+i)*g[0]*(300000/Fin_data_GW.Fin_dLdata_GW[l] )\n",
        " # l+=1\n",
        "#for i in finalredshiftup:\n",
        " # g=quad(int_func,0,i)\n",
        " # H0uperror[f]+=((Fin_data_GW.Fin_DL_UpError[f]-Fin_data_GW.Fin_dLdata_GW[f])/Fin_data_GW.Fin_DL_UpError[f])*(1+i)*g[0]*(300000/Fin_data_GW.Fin_dLdata_GW[f] )\n",
        " # f+=1\n",
        "#for i in finalredshift:\n",
        " # g=quad(int_func,0,i)\n",
        "  #H0lowerror[k]+=((Fin_data_GW.Fin_dLdata_GW[k]-Fin_data_GW.Fin_DL_LowError[k])/(2*Fin_data_GW.Fin_dLdata_GW[k]-Fin_data_GW.Fin_DL_LowError[k]))*(1+i)*g[0]*(300000/Fin_data_GW.Fin_dLdata_GW[k] )\n",
        "  #k+=1\n",
        "#Fin_data_GW[\"H0_GW\"]=H0GW\n",
        "#Fin_data_GW[\"H0_+error\"]=H0uperror\n",
        "#Fin_data_GW[\"H0_-error\"]=H0lowerror\n",
        "#label3={\"H0_GW\":H0GW,\"H0_+error\":H0uperror , \"H0_-error\": H0lowerror }\n",
        "#Fin_data_GW=pd.DataFrame(label3)"
      ],
      "id": "d6265e5b",
      "execution_count": 9,
      "outputs": []
    },
    {
      "cell_type": "code",
      "metadata": {
        "id": "c940da1c",
        "colab": {
          "base_uri": "https://localhost:8080/",
          "height": 424
        },
        "outputId": "1200a01f-5e5f-43f5-fb04-2e955f1c0b68"
      },
      "source": [
        "namecollect=[data_GW.Event_Name,data_GWTC3.Event_Name_GWTC3]\n",
        "finalevents = pd.concat(namecollect)\n",
        "sort_data_GW=Fin_data_GW.sort_values(by=['Fin_Z_GW'])\n",
        "sort_data_GW"
      ],
      "id": "c940da1c",
      "execution_count": 10,
      "outputs": [
        {
          "output_type": "execute_result",
          "data": {
            "text/html": [
              "<div>\n",
              "<style scoped>\n",
              "    .dataframe tbody tr th:only-of-type {\n",
              "        vertical-align: middle;\n",
              "    }\n",
              "\n",
              "    .dataframe tbody tr th {\n",
              "        vertical-align: top;\n",
              "    }\n",
              "\n",
              "    .dataframe thead th {\n",
              "        text-align: right;\n",
              "    }\n",
              "</style>\n",
              "<table border=\"1\" class=\"dataframe\">\n",
              "  <thead>\n",
              "    <tr style=\"text-align: right;\">\n",
              "      <th></th>\n",
              "      <th>Fin_Event_Name</th>\n",
              "      <th>Fin_Z_GW</th>\n",
              "      <th>Fin_Zup_GW</th>\n",
              "      <th>Fin_Zlow_GW</th>\n",
              "      <th>Fin_dLdata_GW</th>\n",
              "      <th>Fin_DL_UpError</th>\n",
              "      <th>Fin_DL_LowError</th>\n",
              "    </tr>\n",
              "  </thead>\n",
              "  <tbody>\n",
              "    <tr>\n",
              "      <th>51</th>\n",
              "      <td>GW190425</td>\n",
              "      <td>0.040</td>\n",
              "      <td>0.050</td>\n",
              "      <td>0.020</td>\n",
              "      <td>159.0</td>\n",
              "      <td>228.0</td>\n",
              "      <td>87.0</td>\n",
              "    </tr>\n",
              "    <tr>\n",
              "      <th>50</th>\n",
              "      <td>GW190814</td>\n",
              "      <td>0.053</td>\n",
              "      <td>0.062</td>\n",
              "      <td>0.043</td>\n",
              "      <td>241.0</td>\n",
              "      <td>282.0</td>\n",
              "      <td>196.0</td>\n",
              "    </tr>\n",
              "    <tr>\n",
              "      <th>67</th>\n",
              "      <td>GW200115_042309-v2</td>\n",
              "      <td>0.060</td>\n",
              "      <td>0.090</td>\n",
              "      <td>0.040</td>\n",
              "      <td>290.0</td>\n",
              "      <td>440.0</td>\n",
              "      <td>190.0</td>\n",
              "    </tr>\n",
              "    <tr>\n",
              "      <th>49</th>\n",
              "      <td>GW200105_162426</td>\n",
              "      <td>0.060</td>\n",
              "      <td>0.080</td>\n",
              "      <td>0.040</td>\n",
              "      <td>280.0</td>\n",
              "      <td>390.0</td>\n",
              "      <td>170.0</td>\n",
              "    </tr>\n",
              "    <tr>\n",
              "      <th>48</th>\n",
              "      <td>GW170608</td>\n",
              "      <td>0.070</td>\n",
              "      <td>0.090</td>\n",
              "      <td>0.050</td>\n",
              "      <td>320.0</td>\n",
              "      <td>440.0</td>\n",
              "      <td>210.0</td>\n",
              "    </tr>\n",
              "    <tr>\n",
              "      <th>...</th>\n",
              "      <td>...</td>\n",
              "      <td>...</td>\n",
              "      <td>...</td>\n",
              "      <td>...</td>\n",
              "      <td>...</td>\n",
              "      <td>...</td>\n",
              "      <td>...</td>\n",
              "    </tr>\n",
              "    <tr>\n",
              "      <th>2</th>\n",
              "      <td>GW190413_134308</td>\n",
              "      <td>0.710</td>\n",
              "      <td>1.020</td>\n",
              "      <td>0.410</td>\n",
              "      <td>4450.0</td>\n",
              "      <td>6930.0</td>\n",
              "      <td>2330.0</td>\n",
              "    </tr>\n",
              "    <tr>\n",
              "      <th>1</th>\n",
              "      <td>GW190706_222641</td>\n",
              "      <td>0.710</td>\n",
              "      <td>1.030</td>\n",
              "      <td>0.440</td>\n",
              "      <td>4420.0</td>\n",
              "      <td>7010.0</td>\n",
              "      <td>2490.0</td>\n",
              "    </tr>\n",
              "    <tr>\n",
              "      <th>0</th>\n",
              "      <td>GW190521</td>\n",
              "      <td>0.820</td>\n",
              "      <td>1.100</td>\n",
              "      <td>0.480</td>\n",
              "      <td>5300.0</td>\n",
              "      <td>7700.0</td>\n",
              "      <td>2700.0</td>\n",
              "    </tr>\n",
              "    <tr>\n",
              "      <th>83</th>\n",
              "      <td>GW200308_173609-v1</td>\n",
              "      <td>0.830</td>\n",
              "      <td>1.150</td>\n",
              "      <td>0.480</td>\n",
              "      <td>5400.0</td>\n",
              "      <td>8100.0</td>\n",
              "      <td>2800.0</td>\n",
              "    </tr>\n",
              "    <tr>\n",
              "      <th>77</th>\n",
              "      <td>GW200220_061928-v1</td>\n",
              "      <td>0.900</td>\n",
              "      <td>1.450</td>\n",
              "      <td>0.500</td>\n",
              "      <td>6000.0</td>\n",
              "      <td>10800.0</td>\n",
              "      <td>2900.0</td>\n",
              "    </tr>\n",
              "  </tbody>\n",
              "</table>\n",
              "<p>87 rows × 7 columns</p>\n",
              "</div>"
            ],
            "text/plain": [
              "              Fin_Event_Name  Fin_Z_GW  ...  Fin_DL_UpError  Fin_DL_LowError\n",
              "51                  GW190425     0.040  ...           228.0             87.0\n",
              "50                  GW190814     0.053  ...           282.0            196.0\n",
              "67        GW200115_042309-v2     0.060  ...           440.0            190.0\n",
              "49           GW200105_162426     0.060  ...           390.0            170.0\n",
              "48                  GW170608     0.070  ...           440.0            210.0\n",
              "..                       ...       ...  ...             ...              ...\n",
              "2            GW190413_134308     0.710  ...          6930.0           2330.0\n",
              "1            GW190706_222641     0.710  ...          7010.0           2490.0\n",
              "0                   GW190521     0.820  ...          7700.0           2700.0\n",
              "83        GW200308_173609-v1     0.830  ...          8100.0           2800.0\n",
              "77        GW200220_061928-v1     0.900  ...         10800.0           2900.0\n",
              "\n",
              "[87 rows x 7 columns]"
            ]
          },
          "metadata": {},
          "execution_count": 10
        }
      ]
    },
    {
      "cell_type": "code",
      "metadata": {
        "scrolled": true,
        "id": "e1552b57",
        "colab": {
          "base_uri": "https://localhost:8080/",
          "height": 424
        },
        "outputId": "5aa32ecd-8329-44f6-8aba-578fe9479621"
      },
      "source": [
        "a=xx=yy=0\n",
        "c=finalevents.size\n",
        "INTGW=np.zeros(c)\n",
        "INTGWminus=np.zeros(c)\n",
        "INTGWplus=np.zeros(c)\n",
        "for redshift in sort_data_GW.Fin_Z_GW:\n",
        "  g = quad(int_func,0,redshift)\n",
        "  INTGW[a]+=(1+redshift)*g[0]*(300000) \n",
        "  a=a+1\n",
        "for redshift in sort_data_GW.Fin_Zup_GW:\n",
        "  g = quad(int_func,0,redshift)\n",
        "  INTGWplus[xx]+=(1+redshift)*g[0]*(300000) \n",
        "  xx=xx+1\n",
        "INTGWup=INTGWplus-INTGW\n",
        "for redshift in sort_data_GW.Fin_Zlow_GW:\n",
        "  g = quad(int_func,0,redshift)\n",
        "  INTGWminus[yy]+=(1+redshift)*g[0]*(300000) \n",
        "  yy=yy+1\n",
        "INTGWlow=INTGW-INTGWminus\n",
        "sort_data_GW[\"Int\"]= INTGW\n",
        "sort_data_GW[\"IntUP\"]= INTGWup\n",
        "sort_data_GW[\"Intlow\"]= INTGWlow\n",
        "sort_data_GW"
      ],
      "id": "e1552b57",
      "execution_count": 11,
      "outputs": [
        {
          "output_type": "execute_result",
          "data": {
            "text/html": [
              "<div>\n",
              "<style scoped>\n",
              "    .dataframe tbody tr th:only-of-type {\n",
              "        vertical-align: middle;\n",
              "    }\n",
              "\n",
              "    .dataframe tbody tr th {\n",
              "        vertical-align: top;\n",
              "    }\n",
              "\n",
              "    .dataframe thead th {\n",
              "        text-align: right;\n",
              "    }\n",
              "</style>\n",
              "<table border=\"1\" class=\"dataframe\">\n",
              "  <thead>\n",
              "    <tr style=\"text-align: right;\">\n",
              "      <th></th>\n",
              "      <th>Fin_Event_Name</th>\n",
              "      <th>Fin_Z_GW</th>\n",
              "      <th>Fin_Zup_GW</th>\n",
              "      <th>Fin_Zlow_GW</th>\n",
              "      <th>Fin_dLdata_GW</th>\n",
              "      <th>Fin_DL_UpError</th>\n",
              "      <th>Fin_DL_LowError</th>\n",
              "      <th>Int</th>\n",
              "      <th>IntUP</th>\n",
              "      <th>Intlow</th>\n",
              "    </tr>\n",
              "  </thead>\n",
              "  <tbody>\n",
              "    <tr>\n",
              "      <th>51</th>\n",
              "      <td>GW190425</td>\n",
              "      <td>0.040</td>\n",
              "      <td>0.050</td>\n",
              "      <td>0.020</td>\n",
              "      <td>159.0</td>\n",
              "      <td>228.0</td>\n",
              "      <td>87.0</td>\n",
              "      <td>12359.384906</td>\n",
              "      <td>3200.654734</td>\n",
              "      <td>6269.059778</td>\n",
              "    </tr>\n",
              "    <tr>\n",
              "      <th>50</th>\n",
              "      <td>GW190814</td>\n",
              "      <td>0.053</td>\n",
              "      <td>0.062</td>\n",
              "      <td>0.043</td>\n",
              "      <td>241.0</td>\n",
              "      <td>282.0</td>\n",
              "      <td>196.0</td>\n",
              "      <td>16528.754763</td>\n",
              "      <td>2929.592132</td>\n",
              "      <td>3213.773099</td>\n",
              "    </tr>\n",
              "    <tr>\n",
              "      <th>67</th>\n",
              "      <td>GW200115_042309-v2</td>\n",
              "      <td>0.060</td>\n",
              "      <td>0.090</td>\n",
              "      <td>0.040</td>\n",
              "      <td>290.0</td>\n",
              "      <td>440.0</td>\n",
              "      <td>190.0</td>\n",
              "      <td>18804.295492</td>\n",
              "      <td>9990.742890</td>\n",
              "      <td>6444.910586</td>\n",
              "    </tr>\n",
              "    <tr>\n",
              "      <th>49</th>\n",
              "      <td>GW200105_162426</td>\n",
              "      <td>0.060</td>\n",
              "      <td>0.080</td>\n",
              "      <td>0.040</td>\n",
              "      <td>280.0</td>\n",
              "      <td>390.0</td>\n",
              "      <td>170.0</td>\n",
              "      <td>18804.295492</td>\n",
              "      <td>6617.863392</td>\n",
              "      <td>6444.910586</td>\n",
              "    </tr>\n",
              "    <tr>\n",
              "      <th>48</th>\n",
              "      <td>GW170608</td>\n",
              "      <td>0.070</td>\n",
              "      <td>0.090</td>\n",
              "      <td>0.050</td>\n",
              "      <td>320.0</td>\n",
              "      <td>440.0</td>\n",
              "      <td>210.0</td>\n",
              "      <td>22091.789768</td>\n",
              "      <td>6703.248614</td>\n",
              "      <td>6531.750128</td>\n",
              "    </tr>\n",
              "    <tr>\n",
              "      <th>...</th>\n",
              "      <td>...</td>\n",
              "      <td>...</td>\n",
              "      <td>...</td>\n",
              "      <td>...</td>\n",
              "      <td>...</td>\n",
              "      <td>...</td>\n",
              "      <td>...</td>\n",
              "      <td>...</td>\n",
              "      <td>...</td>\n",
              "      <td>...</td>\n",
              "    </tr>\n",
              "    <tr>\n",
              "      <th>2</th>\n",
              "      <td>GW190413_134308</td>\n",
              "      <td>0.710</td>\n",
              "      <td>1.020</td>\n",
              "      <td>0.410</td>\n",
              "      <td>4450.0</td>\n",
              "      <td>6930.0</td>\n",
              "      <td>2330.0</td>\n",
              "      <td>305677.338027</td>\n",
              "      <td>173478.230627</td>\n",
              "      <td>148715.853911</td>\n",
              "    </tr>\n",
              "    <tr>\n",
              "      <th>1</th>\n",
              "      <td>GW190706_222641</td>\n",
              "      <td>0.710</td>\n",
              "      <td>1.030</td>\n",
              "      <td>0.440</td>\n",
              "      <td>4420.0</td>\n",
              "      <td>7010.0</td>\n",
              "      <td>2490.0</td>\n",
              "      <td>305677.338027</td>\n",
              "      <td>179329.162300</td>\n",
              "      <td>134921.430171</td>\n",
              "    </tr>\n",
              "    <tr>\n",
              "      <th>0</th>\n",
              "      <td>GW190521</td>\n",
              "      <td>0.820</td>\n",
              "      <td>1.100</td>\n",
              "      <td>0.480</td>\n",
              "      <td>5300.0</td>\n",
              "      <td>7700.0</td>\n",
              "      <td>2700.0</td>\n",
              "      <td>365321.768143</td>\n",
              "      <td>161019.500292</td>\n",
              "      <td>175765.064412</td>\n",
              "    </tr>\n",
              "    <tr>\n",
              "      <th>83</th>\n",
              "      <td>GW200308_173609-v1</td>\n",
              "      <td>0.830</td>\n",
              "      <td>1.150</td>\n",
              "      <td>0.480</td>\n",
              "      <td>5400.0</td>\n",
              "      <td>8100.0</td>\n",
              "      <td>2800.0</td>\n",
              "      <td>370856.832121</td>\n",
              "      <td>185394.475305</td>\n",
              "      <td>181300.128390</td>\n",
              "    </tr>\n",
              "    <tr>\n",
              "      <th>77</th>\n",
              "      <td>GW200220_061928-v1</td>\n",
              "      <td>0.900</td>\n",
              "      <td>1.450</td>\n",
              "      <td>0.500</td>\n",
              "      <td>6000.0</td>\n",
              "      <td>10800.0</td>\n",
              "      <td>2900.0</td>\n",
              "      <td>410087.271010</td>\n",
              "      <td>331414.968365</td>\n",
              "      <td>210961.476755</td>\n",
              "    </tr>\n",
              "  </tbody>\n",
              "</table>\n",
              "<p>87 rows × 10 columns</p>\n",
              "</div>"
            ],
            "text/plain": [
              "              Fin_Event_Name  Fin_Z_GW  ...          IntUP         Intlow\n",
              "51                  GW190425     0.040  ...    3200.654734    6269.059778\n",
              "50                  GW190814     0.053  ...    2929.592132    3213.773099\n",
              "67        GW200115_042309-v2     0.060  ...    9990.742890    6444.910586\n",
              "49           GW200105_162426     0.060  ...    6617.863392    6444.910586\n",
              "48                  GW170608     0.070  ...    6703.248614    6531.750128\n",
              "..                       ...       ...  ...            ...            ...\n",
              "2            GW190413_134308     0.710  ...  173478.230627  148715.853911\n",
              "1            GW190706_222641     0.710  ...  179329.162300  134921.430171\n",
              "0                   GW190521     0.820  ...  161019.500292  175765.064412\n",
              "83        GW200308_173609-v1     0.830  ...  185394.475305  181300.128390\n",
              "77        GW200220_061928-v1     0.900  ...  331414.968365  210961.476755\n",
              "\n",
              "[87 rows x 10 columns]"
            ]
          },
          "metadata": {},
          "execution_count": 11
        }
      ]
    },
    {
      "cell_type": "code",
      "metadata": {
        "id": "3072c203"
      },
      "source": [
        "c=finalevents.size\n",
        "y = sort_data_GW['Int'].values\n",
        "x = sort_data_GW['Fin_dLdata_GW'].values\n",
        "y_error = (sort_data_GW['IntUP'].values + sort_data_GW['Intlow'].values)/2\n",
        "x_error = (sort_data_GW['Fin_DL_UpError'].values +sort_data_GW['Fin_DL_LowError'].values)/2\n",
        "for i in range(c):\n",
        "    if y_error[i]==0.:\n",
        "        y_error[i]=10**(-4)"
      ],
      "id": "3072c203",
      "execution_count": 12,
      "outputs": []
    },
    {
      "cell_type": "code",
      "metadata": {
        "id": "ad918420",
        "colab": {
          "base_uri": "https://localhost:8080/",
          "height": 623
        },
        "outputId": "79d8f3cf-971c-49da-bc6a-960da5ed3594"
      },
      "source": [
        "plt.figure(figsize = (10,10))\n",
        "plt.errorbar(x,y,yerr=y_error,xerr=x_error,fmt=\".k\", ecolor='gray', lw=1,capsize=3)\n",
        "plt.xlabel('DL')\n",
        "plt.ylabel('INT')"
      ],
      "id": "ad918420",
      "execution_count": 13,
      "outputs": [
        {
          "output_type": "execute_result",
          "data": {
            "text/plain": [
              "Text(0, 0.5, 'INT')"
            ]
          },
          "metadata": {},
          "execution_count": 13
        },
        {
          "output_type": "display_data",
          "data": {
            "image/png": "[encoded data removed]",
            "text/plain": [
              "<Figure size 720x720 with 1 Axes>"
            ]
          },
          "metadata": {
            "needs_background": "light"
          }
        }
      ]
    },
    {
      "cell_type": "code",
      "metadata": {
        "id": "516e0900",
        "colab": {
          "base_uri": "https://localhost:8080/"
        },
        "outputId": "6d671e48-248c-429c-e436-d0a848a95284"
      },
      "source": [
        "from scipy import odr\n",
        "def func(m, x):\n",
        "  return m*x\n",
        "\n",
        "# Model object\n",
        "model = odr.Model(func)\n",
        "\n",
        "data  = odr.RealData(x, y, sx = x_error, sy = y_error)\n",
        "\n",
        "# Set up ODR with the model and data.\n",
        "odr   = odr.ODR(data, model, beta0=[1.])\n",
        "\n",
        "# Run the regression.\n",
        "out   = odr.run()\n",
        "\n",
        "#print fit parameters and 1-sigma estimates\n",
        "popt  = out.beta\n",
        "perr  = out.sd_beta\n",
        "print(\"Error in slope:\",str(perr))\n",
        "print(\"slope:\",str(popt))"
      ],
      "id": "516e0900",
      "execution_count": 16,
      "outputs": [
        {
          "output_type": "stream",
          "name": "stdout",
          "text": [
            "Error in slope: [0.19277329]\n",
            "slope: [68.13068197]\n"
          ]
        }
      ]
    },
    {
      "cell_type": "code",
      "metadata": {
        "id": "b04f3d46",
        "colab": {
          "base_uri": "https://localhost:8080/",
          "height": 626
        },
        "outputId": "63895c31-44ae-4068-c62c-c7b81e7cc2a9"
      },
      "source": [
        "x_m = np.linspace(0,6000,1000000)\n",
        "y_m = func(popt, x_m)\n",
        "\n",
        "plt.figure(figsize = (10,10))\n",
        "plt.errorbar(x,y,yerr=y_error,xerr=x_error,fmt=\".k\", ecolor='gray', lw=1,capsize=3)\n",
        "plt.plot(x_m,y_m, color = 'red', linewidth= 2)\n",
        "plt.ylabel('INT')\n",
        "plt.xlabel(r'$D_L$')\n",
        "plt.legend(['fit','data'])\n",
        "plt.text(0,500000,\"Slope: \"+str(np.round(popt[0],4))+\"+/-\"+str(np.round(perr[0],4)))\n",
        "#plt.title(f'm = {np.round(popt[0],4)}, m_err = {np.round(perr[0],4)}')"
      ],
      "id": "b04f3d46",
      "execution_count": 17,
      "outputs": [
        {
          "output_type": "execute_result",
          "data": {
            "text/plain": [
              "Text(0, 500000, 'Slope: 68.1307+/-0.1928')"
            ]
          },
          "metadata": {},
          "execution_count": 17
        },
        {
          "output_type": "display_data",
          "data": {
            "image/png": "[encoded data removed]",
            "text/plain": [
              "<Figure size 720x720 with 1 Axes>"
            ]
          },
          "metadata": {
            "needs_background": "light"
          }
        }
      ]
    },
    {
      "cell_type": "code",
      "metadata": {
        "id": "f33995bf"
      },
      "source": [
        ""
      ],
      "id": "f33995bf",
      "execution_count": null,
      "outputs": []
    }
  ]
}